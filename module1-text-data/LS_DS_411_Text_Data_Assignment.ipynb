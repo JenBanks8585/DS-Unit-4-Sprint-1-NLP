{
 "cells": [
  {
   "cell_type": "markdown",
   "metadata": {},
   "source": [
    "<img align=\"left\" src=\"https://lever-client-logos.s3.amazonaws.com/864372b1-534c-480e-acd5-9711f850815c-1524247202159.png\" width=200>\n",
    "<br></br>\n",
    "<br></br>\n",
    "\n",
    "# Natural Language Processing (NLP)\n",
    "## *Data Science Unit 4 Sprint 1 Assignment 1*\n",
    "\n",
    "Your goal in this assignment: find the attributes of the best & worst coffee shops in the dataset. The text is fairly raw: dates in the review, extra words in the `star_rating` column, etc. You'll probably want to clean that stuff up for a better analysis. \n",
    "\n",
    "Analyze the corpus of text using text visualizations of token frequency. Try cleaning the data as much as possible. Try the following techniques: \n",
    "- Lemmatization\n",
    "- Custom stopword removal\n",
    "\n",
    "Keep in mind the attributes of good tokens. Once you have a solid baseline, layer in the star rating in your visualization(s). Key part of this assignment - produce a write-up of the attributes of the best and worst coffee shops. Based on your analysis, what makes the best the best and the worst the worst. Use graphs and numbesr from your analysis to support your conclusions. There should be plenty of markdown cells! :coffee:"
   ]
  },
  {
   "cell_type": "code",
   "execution_count": 1,
   "metadata": {},
   "outputs": [
    {
     "data": {
      "image/jpeg": "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\n",
      "text/html": [
       "\n",
       "        <iframe\n",
       "            width=\"400\"\n",
       "            height=\"300\"\n",
       "            src=\"https://www.youtube.com/embed/Jml7NVYm8cs\"\n",
       "            frameborder=\"0\"\n",
       "            allowfullscreen\n",
       "        ></iframe>\n",
       "        "
      ],
      "text/plain": [
       "<IPython.lib.display.YouTubeVideo at 0x1d3e8ff89e8>"
      ]
     },
     "execution_count": 1,
     "metadata": {},
     "output_type": "execute_result"
    }
   ],
   "source": [
    "from IPython.display import YouTubeVideo\n",
    "\n",
    "YouTubeVideo('Jml7NVYm8cs')"
   ]
  },
  {
   "cell_type": "code",
   "execution_count": null,
   "metadata": {},
   "outputs": [],
   "source": []
  },
  {
   "cell_type": "code",
<<<<<<< HEAD
   "execution_count": 4,
=======
   "execution_count": 2,
>>>>>>> 96bc7d4ce0cc275b29aabf5b66b19ee7c06873c9
   "metadata": {},
   "outputs": [
    {
     "data": {
      "text/plain": [
       "'C:\\\\Users\\\\J8015\\\\Desktop\\\\DS-Unit-4-Sprint-1-NLP\\\\module1-text-data'"
      ]
     },
     "execution_count": 4,
     "metadata": {},
     "output_type": "execute_result"
    }
   ],
   "source": [
    "%pwd"
   ]
  },
  {
   "cell_type": "code",
   "execution_count": 62,
   "metadata": {},
   "outputs": [
    {
     "data": {
      "text/html": [
       "<div>\n",
       "<style scoped>\n",
       "    .dataframe tbody tr th:only-of-type {\n",
       "        vertical-align: middle;\n",
       "    }\n",
       "\n",
       "    .dataframe tbody tr th {\n",
       "        vertical-align: top;\n",
       "    }\n",
       "\n",
       "    .dataframe thead th {\n",
       "        text-align: right;\n",
       "    }\n",
       "</style>\n",
       "<table border=\"1\" class=\"dataframe\">\n",
       "  <thead>\n",
       "    <tr style=\"text-align: right;\">\n",
       "      <th></th>\n",
       "      <th>coffee_shop_name</th>\n",
       "      <th>full_review_text</th>\n",
       "      <th>star_rating</th>\n",
       "    </tr>\n",
       "  </thead>\n",
       "  <tbody>\n",
       "    <tr>\n",
       "      <th>0</th>\n",
       "      <td>The Factory - Cafe With a Soul</td>\n",
       "      <td>11/25/2016 1 check-in Love love loved the atm...</td>\n",
       "      <td>5.0 star rating</td>\n",
       "    </tr>\n",
       "    <tr>\n",
       "      <th>1</th>\n",
       "      <td>The Factory - Cafe With a Soul</td>\n",
       "      <td>12/2/2016 Listed in Date Night: Austin, Ambia...</td>\n",
       "      <td>4.0 star rating</td>\n",
       "    </tr>\n",
       "    <tr>\n",
       "      <th>2</th>\n",
       "      <td>The Factory - Cafe With a Soul</td>\n",
       "      <td>11/30/2016 1 check-in Listed in Brunch Spots ...</td>\n",
       "      <td>4.0 star rating</td>\n",
       "    </tr>\n",
       "    <tr>\n",
       "      <th>3</th>\n",
       "      <td>The Factory - Cafe With a Soul</td>\n",
       "      <td>11/25/2016 Very cool decor! Good drinks Nice ...</td>\n",
       "      <td>2.0 star rating</td>\n",
       "    </tr>\n",
       "    <tr>\n",
       "      <th>4</th>\n",
       "      <td>The Factory - Cafe With a Soul</td>\n",
       "      <td>12/3/2016 1 check-in They are located within ...</td>\n",
       "      <td>4.0 star rating</td>\n",
       "    </tr>\n",
       "  </tbody>\n",
       "</table>\n",
       "</div>"
      ],
      "text/plain": [
       "                  coffee_shop_name  \\\n",
       "0  The Factory - Cafe With a Soul    \n",
       "1  The Factory - Cafe With a Soul    \n",
       "2  The Factory - Cafe With a Soul    \n",
       "3  The Factory - Cafe With a Soul    \n",
       "4  The Factory - Cafe With a Soul    \n",
       "\n",
       "                                    full_review_text        star_rating  \n",
       "0   11/25/2016 1 check-in Love love loved the atm...   5.0 star rating   \n",
       "1   12/2/2016 Listed in Date Night: Austin, Ambia...   4.0 star rating   \n",
       "2   11/30/2016 1 check-in Listed in Brunch Spots ...   4.0 star rating   \n",
       "3   11/25/2016 Very cool decor! Good drinks Nice ...   2.0 star rating   \n",
       "4   12/3/2016 1 check-in They are located within ...   4.0 star rating   "
      ]
     },
     "execution_count": 62,
     "metadata": {},
     "output_type": "execute_result"
    }
   ],
   "source": [
    "import pandas as pd\n",
    "\n",
    "url = \"https://raw.githubusercontent.com/JenBanks8585/DS-Unit-4-Sprint-1-NLP/master/module1-text-data/data/yelp_coffeeshop_review_data.csv\"\n",
    "\n",
    "shops = pd.read_csv(url)\n",
    "shops.head()"
   ]
  },
  {
   "cell_type": "code",
   "execution_count": 63,
   "metadata": {},
   "outputs": [
    {
     "data": {
      "text/plain": [
       "' 12/2/2016 Listed in Date Night: Austin, Ambiance in Austin BEAUTIFUL!!!! Love the ambiance! Instagram-worthy!!!  Definitely $$$, so be prepared. This is gonna cost you a pretty penny :) Waffle dessert was just decent...nothing to rave about.  But, will probably be back just to be somewhere unique and nice. '"
      ]
     },
     "execution_count": 63,
     "metadata": {},
     "output_type": "execute_result"
    }
   ],
   "source": [
    "shops['full_review_text'][1]"
   ]
  },
  {
   "cell_type": "code",
   "execution_count": 64,
   "metadata": {},
   "outputs": [
    {
     "data": {
      "text/plain": [
       "(7616, 3)"
      ]
     },
     "execution_count": 64,
     "metadata": {},
     "output_type": "execute_result"
    }
   ],
   "source": [
    "shops.shape"
   ]
  },
  {
   "cell_type": "code",
   "execution_count": 65,
   "metadata": {},
   "outputs": [
    {
     "data": {
      "text/plain": [
       " 5.0 star rating     3780\n",
       " 4.0 star rating     2360\n",
       " 3.0 star rating      738\n",
       " 2.0 star rating      460\n",
       " 1.0 star rating      278\n",
       "Name: star_rating, dtype: int64"
      ]
     },
     "execution_count": 65,
     "metadata": {},
     "output_type": "execute_result"
    }
   ],
   "source": [
    "shops['star_rating'].value_counts()"
   ]
  },
  {
   "cell_type": "code",
   "execution_count": 66,
   "metadata": {},
   "outputs": [
    {
     "data": {
      "text/plain": [
       "' 12/2/2016 Listed in Date Night: Austin, Ambiance in Austin BEAUTIFUL!!!! Love the ambiance! Instagram-worthy!!!  Definitely $$$, so be prepared. This is gonna cost you a pretty penny :) Waffle dessert was just decent...nothing to rave about.  But, will probably be back just to be somewhere unique and nice. '"
      ]
     },
     "execution_count": 2,
     "metadata": {},
     "output_type": "execute_result"
    }
   ],
   "source": [
    "shops['full_review_text'][1]"
   ]
  },
  {
   "cell_type": "code",
   "execution_count": 3,
   "metadata": {},
   "outputs": [
    {
     "data": {
      "text/plain": [
       "(7616, 3)"
      ]
     },
     "execution_count": 3,
     "metadata": {},
     "output_type": "execute_result"
    }
   ],
   "source": [
    "shops.shape"
   ]
  },
  {
   "cell_type": "code",
   "execution_count": 4,
   "metadata": {},
   "outputs": [
    {
     "data": {
      "text/plain": [
       " 5.0 star rating     3780\n",
       " 4.0 star rating     2360\n",
       " 3.0 star rating      738\n",
       " 2.0 star rating      460\n",
       " 1.0 star rating      278\n",
       "Name: star_rating, dtype: int64"
      ]
     },
     "execution_count": 4,
     "metadata": {},
     "output_type": "execute_result"
    }
   ],
   "source": [
    "shops['star_rating'].value_counts()"
   ]
  },
  {
   "cell_type": "code",
   "execution_count": 5,
   "metadata": {},
   "outputs": [],
   "source": [
    "#Creating a new column that grabs the star rating first digit value\n",
    "\n",
    "shops['num_rate']=shops.star_rating.str.split('.').apply(lambda x:x[0])"
   ]
  },
  {
   "cell_type": "code",
<<<<<<< HEAD
   "execution_count": 67,
=======
   "execution_count": 6,
>>>>>>> 96bc7d4ce0cc275b29aabf5b66b19ee7c06873c9
   "metadata": {},
   "outputs": [],
   "source": [
    "#Creating a new column that grabs the date of review\n",
    "\n",
    "shops['date_rev']=shops.full_review_text.str.split(' ').apply(lambda x:x[1])"
   ]
  },
  {
   "cell_type": "code",
<<<<<<< HEAD
   "execution_count": 68,
=======
   "execution_count": 7,
>>>>>>> 96bc7d4ce0cc275b29aabf5b66b19ee7c06873c9
   "metadata": {},
   "outputs": [],
   "source": [
    "#Creating a new column that grabs the actual review without the date\n",
    "\n",
    "shops['text_rev']=shops.full_review_text.str.split(' ', 2).apply(lambda x:x[2])"
   ]
  },
  {
   "cell_type": "code",
<<<<<<< HEAD
   "execution_count": 69,
=======
   "execution_count": 8,
>>>>>>> 96bc7d4ce0cc275b29aabf5b66b19ee7c06873c9
   "metadata": {},
   "outputs": [],
   "source": [
    "#Dropping full text and star rating columns\n",
    "\n",
    "shops=shops.drop(['full_review_text', 'star_rating'], axis=1)"
   ]
  },
  {
   "cell_type": "code",
<<<<<<< HEAD
   "execution_count": 70,
=======
   "execution_count": 9,
>>>>>>> 96bc7d4ce0cc275b29aabf5b66b19ee7c06873c9
   "metadata": {},
   "outputs": [],
   "source": [
    "#Converting num_rate to integers and removing leading space\n",
    "\n",
    "shops['num_rate']=shops.num_rate.str.strip(' ').apply(lambda x:x)"
   ]
  },
  {
   "cell_type": "code",
<<<<<<< HEAD
   "execution_count": 71,
=======
   "execution_count": 10,
>>>>>>> 96bc7d4ce0cc275b29aabf5b66b19ee7c06873c9
   "metadata": {},
   "outputs": [
    {
     "data": {
      "text/html": [
       "<div>\n",
       "<style scoped>\n",
       "    .dataframe tbody tr th:only-of-type {\n",
       "        vertical-align: middle;\n",
       "    }\n",
       "\n",
       "    .dataframe tbody tr th {\n",
       "        vertical-align: top;\n",
       "    }\n",
       "\n",
       "    .dataframe thead th {\n",
       "        text-align: right;\n",
       "    }\n",
       "</style>\n",
       "<table border=\"1\" class=\"dataframe\">\n",
       "  <thead>\n",
       "    <tr style=\"text-align: right;\">\n",
       "      <th></th>\n",
       "      <th>coffee_shop_name</th>\n",
       "      <th>num_rate</th>\n",
       "      <th>date_rev</th>\n",
       "      <th>text_rev</th>\n",
       "    </tr>\n",
       "  </thead>\n",
       "  <tbody>\n",
       "    <tr>\n",
       "      <th>0</th>\n",
       "      <td>The Factory - Cafe With a Soul</td>\n",
       "      <td>5</td>\n",
       "      <td>11/25/2016</td>\n",
       "      <td>1 check-in Love love loved the atmosphere! Eve...</td>\n",
       "    </tr>\n",
       "    <tr>\n",
       "      <th>1</th>\n",
       "      <td>The Factory - Cafe With a Soul</td>\n",
       "      <td>4</td>\n",
       "      <td>12/2/2016</td>\n",
       "      <td>Listed in Date Night: Austin, Ambiance in Aust...</td>\n",
       "    </tr>\n",
       "  </tbody>\n",
       "</table>\n",
       "</div>"
      ],
      "text/plain": [
       "                  coffee_shop_name num_rate    date_rev  \\\n",
       "0  The Factory - Cafe With a Soul         5  11/25/2016   \n",
       "1  The Factory - Cafe With a Soul         4   12/2/2016   \n",
       "\n",
       "                                            text_rev  \n",
       "0  1 check-in Love love loved the atmosphere! Eve...  \n",
       "1  Listed in Date Night: Austin, Ambiance in Aust...  "
      ]
     },
<<<<<<< HEAD
     "execution_count": 71,
=======
     "execution_count": 10,
>>>>>>> 96bc7d4ce0cc275b29aabf5b66b19ee7c06873c9
     "metadata": {},
     "output_type": "execute_result"
    }
   ],
   "source": [
    "shops.head(2)"
   ]
  },
  {
   "cell_type": "code",
<<<<<<< HEAD
   "execution_count": 72,
=======
   "execution_count": 11,
>>>>>>> 96bc7d4ce0cc275b29aabf5b66b19ee7c06873c9
   "metadata": {},
   "outputs": [
    {
     "data": {
      "text/plain": [
       "'5'"
      ]
     },
<<<<<<< HEAD
     "execution_count": 72,
=======
     "execution_count": 11,
>>>>>>> 96bc7d4ce0cc275b29aabf5b66b19ee7c06873c9
     "metadata": {},
     "output_type": "execute_result"
    }
   ],
   "source": [
    "shops['num_rate'][0]"
   ]
  },
  {
   "cell_type": "code",
<<<<<<< HEAD
   "execution_count": 73,
=======
   "execution_count": 12,
>>>>>>> 96bc7d4ce0cc275b29aabf5b66b19ee7c06873c9
   "metadata": {},
   "outputs": [],
   "source": [
    "import re\n",
    "\n",
    "def tokenize(text):\n",
    "    \"\"\"\n",
    "    Parses a string into a list of semnatic units(words)\n",
    "    \n",
    "    Args: \n",
    "        text(str): The string that the function will tokenize\n",
    "        \n",
    "    Returns:\n",
    "        list: tokens parsed out by themechanics of your choice\n",
    "    \"\"\"\n",
    "    \n",
    "    tokens = re.sub('[^a-zA-Z 0-9]', '', text)\n",
    "    tokens = tokens.lower().split()\n",
    "    \n",
    "    return tokens"
   ]
  },
  {
   "cell_type": "code",
<<<<<<< HEAD
   "execution_count": 74,
=======
   "execution_count": 13,
>>>>>>> 96bc7d4ce0cc275b29aabf5b66b19ee7c06873c9
   "metadata": {},
   "outputs": [],
   "source": [
    "\"\"\"\n",
    "Import Statements\n",
    "\"\"\"\n",
    "\n",
    "# Base\n",
    "from collections import Counter\n",
    "import re\n",
    " \n",
    "import pandas as pd\n",
    "\n",
    "# Plotting\n",
    "import squarify\n",
    "import matplotlib.pyplot as plt\n",
    "import seaborn as sns\n",
    "\n",
    "# NLP Libraries\n",
    "import spacy\n",
    "from spacy.tokenizer import Tokenizer\n",
    "from nltk.stem import PorterStemmer\n",
    "\n",
    "nlp = spacy.load(\"en_core_web_lg\")"
   ]
  },
  {
   "cell_type": "code",
<<<<<<< HEAD
   "execution_count": 75,
=======
   "execution_count": 14,
>>>>>>> 96bc7d4ce0cc275b29aabf5b66b19ee7c06873c9
   "metadata": {},
   "outputs": [
    {
     "data": {
      "text/plain": [
<<<<<<< HEAD
       "Enthusiastic and earnest desire to be excellent, try new things and develop new menu ideas, smiles, not in your face - best almond pound cake I've ever had (worth the 5 stars alone), and a fantastic cup of red rooibos iced tea.  next to Hanabi.  fantastic new spot.     0.000525\n",
       "Amazing coffee! Waffle banana and nutella is incredible! Beautiful place! The service is great! Everything is just perfect!                                                                                                                                                   0.000525\n",
       "Name: text_rev, dtype: float64"
      ]
     },
     "execution_count": 75,
=======
       "3 check-ins This place has been shown on my social media for days so i finally visited! One of THE cutest and artistic looking coffeeshops I have ever visited. You can self order which is nice because you can take your time and look at the pictures to help you decide! I especially liked how pictures were shown so I knew which coffee/tea came out aesthetically  I ordered the famous matcha green latte and i dont usually drink coffee but it went beyond my expectations. They give you a good amount and its creamy and sweet. Only downside is no wifi.. So hard to study here. Matcha green tea and living la vida mocha Matcha green tea latte Interior design See all photos from Sarah L. for The Factory - Cafe With a Soul                                                                                                                                                                                                                                                                                                                                                                                                                                                                                                                                                                                0.000525\n",
       "1 check-in Listed in Brunch Spots I loved the eclectic and homey plush decor and who doesn't want to swing and drink their coffee?  I would categorize this as a pricier coffee place but, to me it was worth it.  After Thanksgiving nobody wants to make brunch so we headed out in search of chicken and waffles.  There is ample parking in the private lot and  ordering is done through I-Pads.  Pick a seat and they will call your name when your items are ready.  Be patient because some of the coffee drinks take longer than others.  I had the cold brew coffee, chicken and waffles and we shared a pop+art!  The po+art was strawberry; light and fluffy on the outside and gooey sweet filling on the inside.  The chicken and waffles wasn't the standard so expect different, complex and interesting flavors from the accompanying slaw and sauce.  I thoroughly enjoyed it but, the waffle was a bit bland and maybe could have used a bit of honey to spruce it up.  The coffee here is spot on and I hear that their hot chocolate is the bomb but, I will have to wait for the weather to cool off to try that.  A great place to be cozy and chat with your friends, a date or read a book. Chicken and waffles Pop tart Coffee See all photos from Carmela S. for The Factory - Cafe With a Soul     0.000525\n",
       "Name: text_rev, dtype: float64"
      ]
     },
     "execution_count": 14,
>>>>>>> 96bc7d4ce0cc275b29aabf5b66b19ee7c06873c9
     "metadata": {},
     "output_type": "execute_result"
    }
   ],
   "source": [
    "# How can we count the raw text?\n",
    "shops['text_rev'].value_counts(normalize=True)[:2]"
   ]
  },
  {
   "cell_type": "code",
<<<<<<< HEAD
   "execution_count": 76,
=======
   "execution_count": 15,
>>>>>>> 96bc7d4ce0cc275b29aabf5b66b19ee7c06873c9
   "metadata": {},
   "outputs": [],
   "source": [
    "shops['token_rev']= shops['text_rev'].apply(tokenize)"
   ]
  },
  {
   "cell_type": "code",
<<<<<<< HEAD
   "execution_count": 77,
=======
   "execution_count": 16,
>>>>>>> 96bc7d4ce0cc275b29aabf5b66b19ee7c06873c9
   "metadata": {},
   "outputs": [
    {
     "data": {
      "text/html": [
       "<div>\n",
       "<style scoped>\n",
       "    .dataframe tbody tr th:only-of-type {\n",
       "        vertical-align: middle;\n",
       "    }\n",
       "\n",
       "    .dataframe tbody tr th {\n",
       "        vertical-align: top;\n",
       "    }\n",
       "\n",
       "    .dataframe thead th {\n",
       "        text-align: right;\n",
       "    }\n",
       "</style>\n",
       "<table border=\"1\" class=\"dataframe\">\n",
       "  <thead>\n",
       "    <tr style=\"text-align: right;\">\n",
       "      <th></th>\n",
       "      <th>token_rev</th>\n",
       "      <th>text_rev</th>\n",
       "    </tr>\n",
       "  </thead>\n",
       "  <tbody>\n",
       "    <tr>\n",
       "      <th>0</th>\n",
       "      <td>[1, checkin, love, love, loved, the, atmospher...</td>\n",
       "      <td>1 check-in Love love loved the atmosphere! Eve...</td>\n",
       "    </tr>\n",
       "    <tr>\n",
       "      <th>1</th>\n",
       "      <td>[listed, in, date, night, austin, ambiance, in...</td>\n",
       "      <td>Listed in Date Night: Austin, Ambiance in Aust...</td>\n",
       "    </tr>\n",
       "  </tbody>\n",
       "</table>\n",
       "</div>"
      ],
      "text/plain": [
       "                                           token_rev  \\\n",
       "0  [1, checkin, love, love, loved, the, atmospher...   \n",
       "1  [listed, in, date, night, austin, ambiance, in...   \n",
       "\n",
       "                                            text_rev  \n",
       "0  1 check-in Love love loved the atmosphere! Eve...  \n",
       "1  Listed in Date Night: Austin, Ambiance in Aust...  "
      ]
     },
<<<<<<< HEAD
     "execution_count": 77,
=======
     "execution_count": 16,
>>>>>>> 96bc7d4ce0cc275b29aabf5b66b19ee7c06873c9
     "metadata": {},
     "output_type": "execute_result"
    }
   ],
   "source": [
    "shops[['token_rev', 'text_rev']][:2]"
   ]
  },
  {
   "cell_type": "code",
<<<<<<< HEAD
   "execution_count": 78,
=======
   "execution_count": 17,
>>>>>>> 96bc7d4ce0cc275b29aabf5b66b19ee7c06873c9
   "metadata": {},
   "outputs": [
    {
     "data": {
      "text/html": [
       "<div>\n",
       "<style scoped>\n",
       "    .dataframe tbody tr th:only-of-type {\n",
       "        vertical-align: middle;\n",
       "    }\n",
       "\n",
       "    .dataframe tbody tr th {\n",
       "        vertical-align: top;\n",
       "    }\n",
       "\n",
       "    .dataframe thead th {\n",
       "        text-align: right;\n",
       "    }\n",
       "</style>\n",
       "<table border=\"1\" class=\"dataframe\">\n",
       "  <thead>\n",
       "    <tr style=\"text-align: right;\">\n",
       "      <th></th>\n",
       "      <th>coffee_shop_name</th>\n",
       "      <th>num_rate</th>\n",
       "      <th>date_rev</th>\n",
       "      <th>text_rev</th>\n",
       "      <th>token_rev</th>\n",
       "    </tr>\n",
       "  </thead>\n",
       "  <tbody>\n",
       "    <tr>\n",
       "      <th>0</th>\n",
       "      <td>The Factory - Cafe With a Soul</td>\n",
       "      <td>5</td>\n",
       "      <td>11/25/2016</td>\n",
       "      <td>1 check-in Love love loved the atmosphere! Eve...</td>\n",
       "      <td>[1, checkin, love, love, loved, the, atmospher...</td>\n",
       "    </tr>\n",
       "    <tr>\n",
       "      <th>1</th>\n",
       "      <td>The Factory - Cafe With a Soul</td>\n",
       "      <td>4</td>\n",
       "      <td>12/2/2016</td>\n",
       "      <td>Listed in Date Night: Austin, Ambiance in Aust...</td>\n",
       "      <td>[listed, in, date, night, austin, ambiance, in...</td>\n",
       "    </tr>\n",
       "  </tbody>\n",
       "</table>\n",
       "</div>"
      ],
      "text/plain": [
       "                  coffee_shop_name num_rate    date_rev  \\\n",
       "0  The Factory - Cafe With a Soul         5  11/25/2016   \n",
       "1  The Factory - Cafe With a Soul         4   12/2/2016   \n",
       "\n",
       "                                            text_rev  \\\n",
       "0  1 check-in Love love loved the atmosphere! Eve...   \n",
       "1  Listed in Date Night: Austin, Ambiance in Aust...   \n",
       "\n",
       "                                           token_rev  \n",
       "0  [1, checkin, love, love, loved, the, atmospher...  \n",
       "1  [listed, in, date, night, austin, ambiance, in...  "
      ]
     },
<<<<<<< HEAD
     "execution_count": 78,
=======
     "execution_count": 17,
>>>>>>> 96bc7d4ce0cc275b29aabf5b66b19ee7c06873c9
     "metadata": {},
     "output_type": "execute_result"
    }
   ],
   "source": [
    "shops.head(2)"
   ]
  },
  {
   "cell_type": "code",
<<<<<<< HEAD
   "execution_count": 79,
=======
   "execution_count": 18,
>>>>>>> 96bc7d4ce0cc275b29aabf5b66b19ee7c06873c9
   "metadata": {},
   "outputs": [
    {
     "data": {
      "text/plain": [
       "5    0.496324\n",
       "4    0.309874\n",
       "3    0.096901\n",
       "2    0.060399\n",
       "1    0.036502\n",
       "Name: num_rate, dtype: float64"
      ]
     },
<<<<<<< HEAD
     "execution_count": 79,
=======
     "execution_count": 18,
>>>>>>> 96bc7d4ce0cc275b29aabf5b66b19ee7c06873c9
     "metadata": {},
     "output_type": "execute_result"
    }
   ],
   "source": [
    "shops['num_rate'].value_counts(normalize = True)"
   ]
  },
  {
   "cell_type": "code",
<<<<<<< HEAD
   "execution_count": 80,
=======
   "execution_count": 20,
>>>>>>> 96bc7d4ce0cc275b29aabf5b66b19ee7c06873c9
   "metadata": {},
   "outputs": [],
   "source": [
    "#Converting numerical rate to word rate\n",
    "\n",
    "shops['word_rate']=shops['num_rate'].apply({'5':'good','4':'good', '3':'bad', '2':'bad', '1':'bad'}.get)"
   ]
  },
  {
   "cell_type": "code",
<<<<<<< HEAD
   "execution_count": 81,
=======
   "execution_count": 21,
>>>>>>> 96bc7d4ce0cc275b29aabf5b66b19ee7c06873c9
   "metadata": {},
   "outputs": [
    {
     "data": {
      "text/html": [
       "<div>\n",
       "<style scoped>\n",
       "    .dataframe tbody tr th:only-of-type {\n",
       "        vertical-align: middle;\n",
       "    }\n",
       "\n",
       "    .dataframe tbody tr th {\n",
       "        vertical-align: top;\n",
       "    }\n",
       "\n",
       "    .dataframe thead th {\n",
       "        text-align: right;\n",
       "    }\n",
       "</style>\n",
       "<table border=\"1\" class=\"dataframe\">\n",
       "  <thead>\n",
       "    <tr style=\"text-align: right;\">\n",
       "      <th></th>\n",
       "      <th>coffee_shop_name</th>\n",
       "      <th>num_rate</th>\n",
       "      <th>date_rev</th>\n",
       "      <th>text_rev</th>\n",
       "      <th>token_rev</th>\n",
       "      <th>word_rate</th>\n",
       "    </tr>\n",
       "  </thead>\n",
       "  <tbody>\n",
       "    <tr>\n",
       "      <th>0</th>\n",
       "      <td>The Factory - Cafe With a Soul</td>\n",
       "      <td>5</td>\n",
       "      <td>11/25/2016</td>\n",
       "      <td>1 check-in Love love loved the atmosphere! Eve...</td>\n",
       "      <td>[1, checkin, love, love, loved, the, atmospher...</td>\n",
       "      <td>good</td>\n",
       "    </tr>\n",
       "    <tr>\n",
       "      <th>1</th>\n",
       "      <td>The Factory - Cafe With a Soul</td>\n",
       "      <td>4</td>\n",
       "      <td>12/2/2016</td>\n",
       "      <td>Listed in Date Night: Austin, Ambiance in Aust...</td>\n",
       "      <td>[listed, in, date, night, austin, ambiance, in...</td>\n",
       "      <td>good</td>\n",
       "    </tr>\n",
       "  </tbody>\n",
       "</table>\n",
       "</div>"
      ],
      "text/plain": [
       "                  coffee_shop_name num_rate    date_rev  \\\n",
       "0  The Factory - Cafe With a Soul         5  11/25/2016   \n",
       "1  The Factory - Cafe With a Soul         4   12/2/2016   \n",
       "\n",
       "                                            text_rev  \\\n",
       "0  1 check-in Love love loved the atmosphere! Eve...   \n",
       "1  Listed in Date Night: Austin, Ambiance in Aust...   \n",
       "\n",
       "                                           token_rev word_rate  \n",
       "0  [1, checkin, love, love, loved, the, atmospher...      good  \n",
       "1  [listed, in, date, night, austin, ambiance, in...      good  "
      ]
     },
<<<<<<< HEAD
     "execution_count": 81,
=======
     "execution_count": 21,
>>>>>>> 96bc7d4ce0cc275b29aabf5b66b19ee7c06873c9
     "metadata": {},
     "output_type": "execute_result"
    }
   ],
   "source": [
    "shops.head(2)"
   ]
  },
  {
   "cell_type": "code",
<<<<<<< HEAD
   "execution_count": 82,
=======
   "execution_count": 22,
>>>>>>> 96bc7d4ce0cc275b29aabf5b66b19ee7c06873c9
   "metadata": {},
   "outputs": [
    {
     "data": {
      "text/plain": [
       "good    0.806197\n",
       "bad     0.193803\n",
       "Name: word_rate, dtype: float64"
      ]
     },
<<<<<<< HEAD
     "execution_count": 82,
=======
     "execution_count": 22,
>>>>>>> 96bc7d4ce0cc275b29aabf5b66b19ee7c06873c9
     "metadata": {},
     "output_type": "execute_result"
    }
   ],
   "source": [
    "shops['word_rate'].value_counts(normalize = True)"
   ]
  },
  {
   "cell_type": "markdown",
   "metadata": {},
   "source": [
    "\n",
    "How do we want to analyze these coffee shop tokens?\n",
    "Overall Word / Token Count\n",
    "View Counts by Rating\n",
    "Hint: a 'bad' coffee shops has a rating betweeen 1 & 3 based on the distribution of ratings. A 'good' coffee shop is a 4 or 5."
   ]
  },
  {
   "cell_type": "code",
<<<<<<< HEAD
   "execution_count": 83,
=======
   "execution_count": 23,
>>>>>>> 96bc7d4ce0cc275b29aabf5b66b19ee7c06873c9
   "metadata": {},
   "outputs": [
    {
     "data": {
      "text/plain": [
       "[('the', 34809),\n",
       " ('and', 26650),\n",
       " ('a', 22755),\n",
       " ('i', 20237),\n",
       " ('to', 17164),\n",
       " ('of', 12600),\n",
       " ('is', 11999),\n",
       " ('coffee', 10353),\n",
       " ('was', 9707),\n",
       " ('in', 9546)]"
      ]
     },
<<<<<<< HEAD
     "execution_count": 83,
=======
     "execution_count": 23,
>>>>>>> 96bc7d4ce0cc275b29aabf5b66b19ee7c06873c9
     "metadata": {},
     "output_type": "execute_result"
    }
   ],
   "source": [
    "#Object from Base Python\n",
    "from collections import Counter\n",
    "\n",
    "# The object `Counter` takes an iterable, but you can instaniate an empty one and update it. \n",
    "word_counts = Counter()\n",
    "\n",
    "# Update it based on a split of each of our documents\n",
    "shops['token_rev'].apply(lambda x: word_counts.update(x))\n",
    "\n",
    "# Print out the 10 most common words\n",
    "word_counts.most_common(10)"
   ]
  },
  {
   "cell_type": "code",
<<<<<<< HEAD
   "execution_count": 84,
=======
   "execution_count": 24,
>>>>>>> 96bc7d4ce0cc275b29aabf5b66b19ee7c06873c9
   "metadata": {},
   "outputs": [],
   "source": [
    "def count(docs):\n",
    "\n",
    "        word_counts = Counter()\n",
    "        appears_in = Counter()\n",
    "        \n",
    "        total_docs = len(docs)\n",
    "\n",
    "        for doc in docs:\n",
    "            word_counts.update(doc)\n",
    "            appears_in.update(set(doc))\n",
    "\n",
    "        temp = zip(word_counts.keys(), word_counts.values())\n",
    "        \n",
    "        wc = pd.DataFrame(temp, columns = ['word', 'count'])\n",
    "\n",
    "        wc['rank'] = wc['count'].rank(method='first', ascending=False)\n",
    "        total = wc['count'].sum()\n",
    "\n",
    "        wc['pct_total'] = wc['count'].apply(lambda x: x / total)\n",
    "        \n",
    "        wc = wc.sort_values(by='rank')\n",
    "        wc['cul_pct_total'] = wc['pct_total'].cumsum()\n",
    "\n",
    "        t2 = zip(appears_in.keys(), appears_in.values())\n",
    "        ac = pd.DataFrame(t2, columns=['word', 'appears_in'])\n",
    "        wc = ac.merge(wc, on='word')\n",
    "\n",
    "        wc['appears_in_pct'] = wc['appears_in'].apply(lambda x: x / total_docs)\n",
    "        \n",
    "        return wc.sort_values(by='rank')"
   ]
  },
  {
   "cell_type": "code",
<<<<<<< HEAD
   "execution_count": 85,
=======
   "execution_count": 25,
>>>>>>> 96bc7d4ce0cc275b29aabf5b66b19ee7c06873c9
   "metadata": {},
   "outputs": [
    {
     "data": {
      "text/html": [
       "<div>\n",
       "<style scoped>\n",
       "    .dataframe tbody tr th:only-of-type {\n",
       "        vertical-align: middle;\n",
       "    }\n",
       "\n",
       "    .dataframe tbody tr th {\n",
       "        vertical-align: top;\n",
       "    }\n",
       "\n",
       "    .dataframe thead th {\n",
       "        text-align: right;\n",
       "    }\n",
       "</style>\n",
       "<table border=\"1\" class=\"dataframe\">\n",
       "  <thead>\n",
       "    <tr style=\"text-align: right;\">\n",
       "      <th></th>\n",
       "      <th>word</th>\n",
       "      <th>appears_in</th>\n",
       "      <th>count</th>\n",
       "      <th>rank</th>\n",
       "      <th>pct_total</th>\n",
       "      <th>cul_pct_total</th>\n",
       "      <th>appears_in_pct</th>\n",
       "    </tr>\n",
       "  </thead>\n",
       "  <tbody>\n",
       "    <tr>\n",
<<<<<<< HEAD
       "      <th>7</th>\n",
=======
       "      <th>3</th>\n",
>>>>>>> 96bc7d4ce0cc275b29aabf5b66b19ee7c06873c9
       "      <td>the</td>\n",
       "      <td>6847</td>\n",
       "      <td>34809</td>\n",
       "      <td>1.0</td>\n",
       "      <td>0.044975</td>\n",
       "      <td>0.044975</td>\n",
       "      <td>0.899028</td>\n",
       "    </tr>\n",
       "    <tr>\n",
<<<<<<< HEAD
       "      <th>9</th>\n",
=======
       "      <th>54</th>\n",
>>>>>>> 96bc7d4ce0cc275b29aabf5b66b19ee7c06873c9
       "      <td>and</td>\n",
       "      <td>6864</td>\n",
       "      <td>26650</td>\n",
       "      <td>2.0</td>\n",
       "      <td>0.034433</td>\n",
       "      <td>0.079408</td>\n",
       "      <td>0.901261</td>\n",
       "    </tr>\n",
       "  </tbody>\n",
       "</table>\n",
       "</div>"
      ],
      "text/plain": [
<<<<<<< HEAD
       "  word  appears_in  count  rank  pct_total  cul_pct_total  appears_in_pct\n",
       "7  the        6847  34809   1.0   0.044975       0.044975        0.899028\n",
       "9  and        6864  26650   2.0   0.034433       0.079408        0.901261"
      ]
     },
     "execution_count": 85,
=======
       "   word  appears_in  count  rank  pct_total  cul_pct_total  appears_in_pct\n",
       "3   the        6847  34809   1.0   0.044975       0.044975        0.899028\n",
       "54  and        6864  26650   2.0   0.034433       0.079408        0.901261"
      ]
     },
     "execution_count": 25,
>>>>>>> 96bc7d4ce0cc275b29aabf5b66b19ee7c06873c9
     "metadata": {},
     "output_type": "execute_result"
    }
   ],
   "source": [
    "# Use the Function\n",
    "wc = count(shops['token_rev'])\n",
    "wc.head(2)"
   ]
  },
  {
   "cell_type": "code",
<<<<<<< HEAD
   "execution_count": 86,
=======
   "execution_count": 26,
>>>>>>> 96bc7d4ce0cc275b29aabf5b66b19ee7c06873c9
   "metadata": {},
   "outputs": [
    {
     "data": {
      "text/plain": [
       "(20530, 7)"
      ]
     },
<<<<<<< HEAD
     "execution_count": 86,
=======
     "execution_count": 26,
>>>>>>> 96bc7d4ce0cc275b29aabf5b66b19ee7c06873c9
     "metadata": {},
     "output_type": "execute_result"
    }
   ],
   "source": [
    "wc.shape"
   ]
  },
  {
   "cell_type": "code",
<<<<<<< HEAD
   "execution_count": 87,
=======
   "execution_count": 27,
>>>>>>> 96bc7d4ce0cc275b29aabf5b66b19ee7c06873c9
   "metadata": {},
   "outputs": [
    {
     "data": {
      "image/png": "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\n",
      "text/plain": [
       "<Figure size 720x432 with 1 Axes>"
      ]
     },
     "metadata": {},
     "output_type": "display_data"
    }
   ],
   "source": [
    "import seaborn as sns\n",
    "\n",
    "sns.set(rc={'figure.figsize':(10,6)})\n",
    "\n",
    "# Cumulative Distribution Plot\n",
    "sns.lineplot(x='rank', y='cul_pct_total', data=wc);"
   ]
  },
  {
   "cell_type": "code",
<<<<<<< HEAD
   "execution_count": 88,
=======
   "execution_count": 28,
>>>>>>> 96bc7d4ce0cc275b29aabf5b66b19ee7c06873c9
   "metadata": {},
   "outputs": [
    {
     "data": {
      "text/plain": [
       "0.638908987544576"
      ]
     },
<<<<<<< HEAD
     "execution_count": 88,
=======
     "execution_count": 28,
>>>>>>> 96bc7d4ce0cc275b29aabf5b66b19ee7c06873c9
     "metadata": {},
     "output_type": "execute_result"
    }
   ],
   "source": [
    "wc[wc['rank'] <= 200]['cul_pct_total'].max()"
   ]
  },
  {
   "cell_type": "code",
<<<<<<< HEAD
   "execution_count": 89,
=======
   "execution_count": 29,
>>>>>>> 96bc7d4ce0cc275b29aabf5b66b19ee7c06873c9
   "metadata": {},
   "outputs": [
    {
     "data": {
<<<<<<< HEAD
      "image/png": "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\n",
=======
      "image/png": "iVBORw0KGgoAAAANSUhEUgAAAjwAAAFUCAYAAAAgQOYwAAAABHNCSVQICAgIfAhkiAAAAAlwSFlzAAALEgAACxIB0t1+/AAAADh0RVh0U29mdHdhcmUAbWF0cGxvdGxpYiB2ZXJzaW9uMy4yLjIsIGh0dHA6Ly9tYXRwbG90bGliLm9yZy+WH4yJAAAgAElEQVR4nO3dZ2BV9eHG8efcfbP3JmxQQVERUBFRtM5a69aitQp1j4oWte5tndVabdWitHXUVQeO4kIEQdl7IzMJ2Xvc3HvP/wX+oxSCMzk3v3w/b5rk3MTnxEq+nHMvWLZt2wIAADCYy+kBAAAAHY3gAQAAxiN4AACA8QgeAABgPIIHAAAYj+ABAADG8+zuYENtgyKt4c7aAsSkqCXxpzeYK85yycW/35+UyyNZfE9/EiHbLTvK9/K7CqYntXtst8ETaQ3rznNv+8kHAV3JtZNu1OVnX+P0DHSQZ/71oFb++m6nZxhlr+evV/UN1zk9wwiB2+/TW+c+6PSMLuOMd+5o9xi3tAAAgPEIHgAAYDyCBwAAGI/gAQAAxiN4AACA8QgeAABgPIIHAAAYj+ABAADGI3gAAIDxCB4AAGA8ggcAABiP4AEAAMYjeAAAgPEIHgAAYDyCBwAAGI/gAQAAxiN4AACA8QgeAABgPIIHAAAYj+ABAADGI3gAAMAOXiv9QjOqVzo94ydF8AAAAON5nB4AIDY0tNSppHarcpLyVV6/TT3T+zk9CfhB7lmxSqk+ny7q21uS9F7JNn1cWqaD0tP08patclmW0rw+XT2wnwrj4nTH8pXqkxCvsYU9JGmn9032ZVOpplYsVoonTuWtdfJYbp2cNXyHx8yvXa85tesVsaNqioY0KmUPDU/e/uvD9KoVWli3QS5ZSvcl6qTMYQq4fZpXu15f1KyTLVtxbp+Oz9hfmb4kJ06xDcEDQJIU709U38w9VF6/Ta2RkNNzuqWlTeV6vmqFMjxBFbXWy2+5dVJKf71Ts15FrQ0aEZ+r5mhYyW6/fpW2pyRpev1mzW4o1sTs4d/y1buPUwrydfWiJRrfu5c8LktvbC3Wub0K9cDqNXpq6H5K9fn0dnGJrl28TM+POMDpuY4raqnS0elD1CuYqTk1a/Vq6efK8iVLklqirZpb+6XOyR2lOLdfm5srNLnoEw1P7qeVDVu1oG6DLsg/QkG3T++WL9TntWtVGMjQwroNGpd/uHwuj9Y2luiFkpm6ovBYR8+T4AEgSaprrtGGirWy7agi0Yg2lK9Rr4z+Ts/qdta2VGt8+j7q40/WnSWz9Vr1Gt2WO1JN0VZdsGmqbs0dqQdL5+iM1IFyWy69X7tRp6QMcHp2TBmQmKDcYECfVVSoMC6oslCL5lRV6cisLKX6fJKk43Nz9PDqtSpubnZ4rfNyfMnqFcyUJO2X1FtTyhcowR2QJPldXp2de4hWNxarorVOxS3VCtlhSdK6pm0aFF+goHv79/TYjH0lSf+tWKTK1no9vfWjtn9Gc7RVjZEWxbn9nXlqOyB4ALRxWS5lJxeourGC2HFIlidOffzbf3ed44lTnMsrr+WS1+1X0OVVnMujLE+c5jVuU543QVWRZg356ocVvnZKfp6mFJeoR1xQv8zLVWWoVZa142NsSWHbliXJtr/+eOs33+kGXNbOT+d1afs3qybcqKe2fKgDkvqoMJCpQfE9tLqx+KvHuHb4njZFQmqOtsq2bQ1J7Kmj0odIkqK2rbpIk4IuX8efzG7wpGUAiCHe//nh4/7fn9KSjknqrY/qN+uj+k06MrGnrF08prsbk5Wp1XX1+ri0XD/PzdWB6al6v7RUVaHtt2unFJUo2etVQTCoFJ9XK+vqJEllLS1aUFXt5PROV9JSrZKW7ec8t3a9egTSFfjqqk1RS5Xi3X6NTt1L/YLZWtVYJEmK2lH1DWZref1WNUdbJUkfVy3TZzWr1C8uR0vqN6su3PTV11ynZ4s+ceDMdsQVHgDoYg6Mz9NzlSu0KVSre/NGOT0nJnldLh2elaHKUKtSfF4NT0vTmT0KdNmCxbJlK8Xr1QP7DJbLsnRaQb5uXbZSZ8z+QrmBgA5ITXF6fqdK8AT0QeUSVYcbFe/265SsEfq4apkkqW8wW/M9X+rRze/KkqVewUzFu/yqbK3XgPhclbbWtN26yvIl6cTMA+R3eXVIykBNLvpElmXJ7/LqrJyDHQ9zggfADixZsrvZJf2uxmu5dGB8rqojLUpy8DkRsawpEtGC6hpdM+DrW7OnFuTr1IL8nR6bHQjoiaH7dua8mOK3PDo7d8dw/uYrtcbmHrLDsV9kfv1E70NS9tAhKXvs9DVHJPfXiOTYui3OLS0AO4j3J6ol3Kx1pSucntLtDA5m6OGCw9veH5+xj85I/fqHyTM9j1GhL0nN0bCWN1fouKTeTsyMebMrKnXizNk6KC1Ng5OdfSk0YgdXeABIkhIDyRqUt58kaXD+UIfXoD0LG0v1p7J5OjqxlwYE0pyeE5MOTE/T1ENHOj2jS+gdzNJlhcc4PaNTEDwA0IXsG5elZ3s6++eZAF0Rt7QAAIDxCB4AAGA8ggcAABiP4AEAAMYjeAAAgPEIHgAAYDyCBwAAGI8/hycG2batpeXLVdlUrbAdlmxb+2bvo/Qgf8gYAAA/BMETg6qaq9UcbtahPbb/ZWurK9dqTdU6ggcAgB+I4IlBacFUed0DtaFmkxpaG1TeVCmvy+30LAAAuiyewxODShq26fOiOZKk3IQc9U4uFH93NQAAPxzBE4PKGsuVHZ+t3ik9leJPVnH9Ntk2yQMAwA/FLa0Y1Cu5p+aVLNBHG6fLtqPKis9UUX2JbNuWZVlOzwMAoMsheGJQoi9BhxWO2uFje2cOcmgNAABdH7e0AACA8QgeAABgPIIHAAAYj+ABAADGI3gAAIDxeJUWAOAnZXk8Sr7nj07P6LLsqN32Z6+FLUvHP3u1w4vMQPAA6NZcXo/2+NcNTs8wSzCgaPVmp1d0WdVK1gm/+LXTM7qk2bPeafcYwQOgW3MF3WpdPs3pGUbxDDnG6QnATngODwAAMB7BAwAAjMctLeBbeL1uPfbcA07PAAD8CAQP8C3ifZZaP3za6RnoINYJlzk9AUAn4JYWAAAwHsEDAACMR/AAAADjETwAAMB4BA8AADAewQMAAIxH8AAAAOMRPAAAwHgEDwAAMB7BAwAAjEfwAAAA4xE8AADAeAQPAAAwHsEDAACMR/AAAADjETwAAMB4BA8AADAewQMAMMJvr7pBVdU1OurU32jpytVOz+mS6mqLFI1GVFO9UeFw8/f63HC4WQ0NZR207McjeAAghv3l5ff01vS5kqS/vjpVH89dKkm66YkXNXnKNAeXxZ5ZcxY4PaHLC4ebfvDnRiIh2dHwT7jmp+VxegAAoH2XnnZM29tzlq1V34JsB9fErhvvfkiSdP4V16mktFwvv/Gubr//MVVW1eiEo8foygvPlSRNm/G5/jb5BbWGwwoE/Lrm0vEaMmgPnfCrC/SHCRfr4GH7S5JuvvdP6t+nl845/ZeOnVNna6gvlSTV1RUpGg2rpaVWjQ3litoR+X0JCsaly7ZtNTVWKBxulm1HJUnx8ZlyubxqaqqSbUfVUF+q+IQsJ09ll7jCAwAOOv26h/T50jWSpHdnLtCwX1+n5lCrJOnWJ1/S4RfeqslTpunFqTO1bP0WPfTcFH04Z4kkaeHqDfr1zX/W8VfeoysfeEaNzS2OnYfT7vzDBEnSpEfvVU5Whvw+n176+6N68amHNfnfr6l4W5k2bt6qR558Vk88cLteeeYx3fr7K/S7G+5UU3OLzjjpeL365nuSpIbGRk2b8blOPPZIJ0+p0/1/pCQm5snl8siSpaTkAiUl5au5uUbRSFiRcIui0bASk/KVnFIovz9Rzc3Vcrk9CgZT5fUEYjJ2JK7wAICjxgwbrBkLV2rE4P6auWilkuKDmr9yvQ7ae4BmLFipPXrlS5LOPGqk3p+9SGcePVJHDNtb0+YuU2lljZ6+6WL5vB6NvfERfThnqU4YNdThM4oNx/3sMElSRnqa0lNTVFlVrSXLV6msokrjrvxD2+NclkubthTpxGOP1BOTnldlVY2mTpuhQw8erqTEBIfWxwafL1GS5HJ55HK5FbUj8ngDCrrSFGqpVSTaqnBrsyzLcnjpd0PwAICDjhi2tyY++i9NGPtzzV/1pc457lDNXrJa8QG/CrLTlZGS2O7njjlgsIJ+nySpX0GOKmvqOmt2zPN43G1vW5YlW7Yi0ahGDB2iB2+/vu1Y8bYyZWWkye1266jDD9GUqR/p7fen6cYJlzgxO7bs1DG2WkMNamwsVyCQIq83Xm6XT6FQ1/j/Hbe0gG5u2ZYyXf38h07P6Lb6F+YqHIlo2rxlKszJ0Oj9B2nW4tWaNm+5fjZin91+7v/+UO/u3G6XwuFIu8cPHLqvZn2xQOs3bpYkTZ81R6ece6laWkKSpDNP/rmee+VN2VFbe+81sFM2xya73SOtrU3yeuPlDyTL4/GrtbXhG0ct2Xb7n+s0rvAA3dyggkw9+KsjnJ7RrY05YLAeeeEdnXT4cPXOz1J9Y7PemTlfk2+7TCs3bG17nNvtVjgcdXBpbDvqsFH6zWUT1di065dT9+1dqFsmXq7f3/JH2bYtj9utP//xZsXFBSVJe/Tvo6TEBJ3+y+M6c3ZM8foSVFdb1PaE5P/lDySpoX6bamo2S7YtrzdOoVD99u+nJ6DmpirV15UoITGnk5d/O4IH6ObmrC/WPW99pkH5mYoPeLWmpErbaurVPydNd506WnF+r9MTjTdm2GA9O2WaDtp7gCTpwL0HaPWmIuWkp+zwuNFD99KjL76j1nDsvvTXSfffdu0uPz71lWfb3j56zCgdPWbULh+3aWuxKqtrdPxRh3XAuq4hIWHXrwJMTunZ9nZSco8djsXFZ0iS3G6vklMKO27cj0TwAGizYmu5nhp3nCzL0tlPvKmpS7/UL4cOcHqW8YYM6KVFLzzQ9v4tF5zW9vYdF5/Z9vbYY0Zp7DHbf1j/YvSwHb7GNx+H7++xp/+pl998Tzdfc6mCgYDTc9ABCB4AbQ7uXyDfV88L6Z+Tqpqm7vsyZ3Qvl40/R5eNP8fpGehAuw0et8etGybf3FlbADgs4P36lwRL1u6euwgAXcpugycuzqvQ2rmdtQWISVZP/lwTAOjqeFk6AAAwHs/hAbq5YX1y9dqVp+z08TtOPdSBNQDQMbjCAwAAjEfwAAAA4xE8AADAeAQPAAAwHsEDAACMR/AAAADjETwAAMB4BA8AADAewQMAAIxH8AAAAOMRPAAAwHgEDwAAMB7BAwAAjEfwAAAA4xE8AADAeAQPAAAwHsEDAACMR/AAAADjeZweAABOikQlz15jnJ5hFNu2ZaX0+F6fY3XQlq7IU9+oN16f7PQM4xA8ALq16rpGnXzS+U7P6PZefW2SzjnjYqdnxLR/v/ykHjzvbqdnxLQ7ptzf7jFuaQEAAOMRPAAAwHgEDwAAMB7BAwAAjEfwAAAA4/EqLeBbWJYl33EXOT0DHaU+5PQCAJ2A4AG+hW1HFXrrcadnoKMcPt7pBQA6Abe0AACA8QgeAABgPIIHAAAYj+ABAADGI3gAAIDxCB4AAGA8ggcAABiP4AEAAMYjeAAAgPEIHgAAYDyCBwAAGI/gAQAAxiN4AACA8QgeAABgPIIHAAAYj+ABAADGI3i6qKraeu3zywudngEAQJdA8AAAAON5nB7QXUWjUd036WUtXrVejU0tsmXr1kvP0atTZyghLqA1G7eqpLxKA3rl664rz1NcMKAPZs3Xn597QwGfT4P793L6FAAA6DIIHocsWf2lyiqr9a8/XiuXy6W/v/qe/v7qe0pJTNDydZv09B1XybJcGjvxHk39bJ5GDd1bt/z5H/rHHyeqb488Pf3Ku06fAgAAXQa3tBwyZI++umzsiXr5v5/qgWde0fufzVNTc4skaeR+g+TzeuX1uNW/Z75q6ho1f/la9euZr7498iRJpx19qJPzATigrr5E5ZXrVd9Q5vSULq+kYr0i0bA2l65QS6hxp+MtoUaVVm10YFlsKW0s13sbP/5en7O+ZqPWVn/ZQYt+OILHIdPnLtFldzwmSTp8+BCddsxo2fb2Y36/t+1xlizZ+upA2/9Kbjf/6oDupqm5RqnJPZQQn+n0lC6vOVS/2+N+X5yyUnt20hqzlDdVKmxHnJ6xE25pOWTWwuUaPWwfnXHsaDW3hPTMf/6rSDTa7uOHDuqvW//yT636crMG9u6hNz6a1YlrATitqnqTJKm6dosSE7LV0FiuaDQiS5aCwVQFA8kKhRpV31AqWZZsO6q0lJ6yLH5z9L/KqzdL+uoqT6RVdY2VqqjdqkgkrIRgqlKTctTUUq/K2q3Kzxyo5lCDKmuLtv+e05KS47MUH0x29iQ6UTga1mfFc1QfapDX7dUBWUO0onKNkvyJ2iO1nyTpi5IFSvInKsEbr6KGEm1rLJPbcqt/Sm+H13+N4HHI6ceM1rUPPq2Tr7hNkWhUB+27lz6YNV/52Rm7fHxacqLunTBO1z08SV6PWwcMGtDJiwE4KTWlUKXlq5Sa3EOV1ZuUEJ+pgD9RkUhYVTUb5XH7JEnhSIvSU/vI7fZ+y1fsvjJSeqi+qUo56X1UVL5GlmUpL6O/wpFWbSldqcT4tB0eX123TUnxmUoIpijU2qS6xspuFTxN4SYNSBmqjGCa1tVs0Ocl85XkS9zlYwsSclVUX6Ikf2JMxY5E8Dimd0GOXnr4xh0+dt34M3Z63J1X/qbt7VFDB2vU0MFt708cd3qH7QMQm8KRkCRbAf/2Hzhut0d+X4JaQg3yeePkcnmIne8pPpgiSfK4vXK7PYpEwzseDySrsmarmpprFfAnKDUxx4mZjkn2JykjuD0CeyUVan7pYgU9AYdXfX9c6wQAI2x/jh+3sL4/S9aOH7B3fDcxPl15mQMU8CeoqaVOW8tXK2q3/xQE0+z0/ZElr2vHqO4K3w+u8ADdwOmPv6Grjx6mEX3z9O7i9br59Rn69PpfKeD16NbXZ6h/dqqmr9qihlCryusaNTA3Tfeddpj8Xo8e/2iBPlqxUV63S8lBv+44eZQyE+OcPqVua/utK0vNLXVtt7RaQnVKSshzelqXY9v2tz9IUnH5WiUnZCkxLk3xgWRtLl2hSCQsl8fXwQtjQ3VLrapaapTqT9b6mg3KCKbJ7/GpqrlaktQUblZZU4VSAttv81mW9Z2/t52J4AG6gTF79tSMNVs0om+eZq7doqSAT/M3btNBffM0Y80WWZalE/brp58P6avWSFRn/fVNfbp6iwYXZOi5Wcv08bVnyedxa/LMpVqypUxj9uTVK05KTspTfX2pGhrLJUnxwQz5fHEK7eLl1di1+ECySirWyd7Ni0X+X2pSriprilRdVyJJSknIlrebxI4kJfkStLxilepbGxVw+zQ8ez9ZsjS7ZJ7e3fCh4rxxyor7+vmnuXFZWli+TJK0Z1p/p2bvhOABuoEj9irUxJc+0YSjbc3fuE3nHDxIs9cVKd7nVUFqkm464WDNWlekZz5doo0VNSqra1RjqFVZifEakJOmM554U4f0z9ch/Qs0oi9XEpySlTFQkuRyeZSaUrjTcZ8vTum+2HqiaKzKbOcl5z2y9mx7Oz9z+/c74ItXXmbs/ODuTFlxGTq65+G7PDamxyG7/HhBYp4KEmPv1wmCB+gG+menKRyJaNrKTSpMS9LogT008aVpcrss/WxQT137yjRForaOGtRLowYWqLimQbYkl8vSpPOP1bKicn2+rlj3v/eFRvbL11VHD3P6lADge+HZbUA3MWbPnnrk/Xk6qF++ememqL6lVe8sXq8j9uqpWWuLdOFh++qYvftIkpZuKVMkamtVSaVOfux19clI0bhD99HZBw3S0q3lDp8JAHx/XOEBuokxe/bUszOX6qCvbkkd2DdPq0sqlZOcoMuP3F9XvfChgl6PEgI+De2Vo82VtTp56AAdPbiXzvrbW4rzeeT3eHTt8SMcPhMA+P4IHqCbGFKYpUW3n9f2/i0njmx7+4zhe+qM4Xvu6tN00eH76aLD9+vwfQDQkbilBQAAjEfwAAAA4xE8AADAeAQPAAAwHsEDAACMR/AAAADjETwAAMB4BA8AADAewQMAAIxH8AAAAOMRPAAAwHgEDwAAMB7BAwAAjEfwAAAA4xE8AADAeAQPAAAwHsEDAACMR/AAAADjETwAAMB4BA8AADAewQMAAIxH8AAAAOMRPAAAwHgEDwAAMB7BAwAAjGfZtm23d9BubVFo7azO3APEHHfhUFnt/2eCLq4uFFGoNfydHmvJ6uA13Zfb7VI0GnV6xs4sS5YVG//evS6PxK9Fu5WUntzuMU8n7gC6pMbmiO499w6nZyAG3DLpJi0/+26nZ6ATDXn7TkVrtjo9Y7sY7MHY037wcEsLAAAYj+ABAADGI3gAAIDxCB4AAGA8ggcAABiP4AEAAMYjeAAAgPEIHgAAYDyCBwAAGI/gAQAAxiN4AACA8QgeAABgvN3+5aF21Ja3z4jO2gLEpJa6FqcnAAB+pN0HT0Ozii++obO2ADEp6bE7nZ4AAPiRuKUFAACMR/AAAADjETwAAMB4BA8AADAewQMAAIxH8AAAAOMRPAAAwHgEDwAAMB7BAwAAjEfwAAAA4xE8AADAeAQPAAAwHsEDAACMR/AAAADjETwAAMB4BA8AADAewQPgO2tsbdL7Gz/RBxunq6Kpyuk56EDrWqr0UNkXTs/AT6R4W5lOPPtCnXzuJZqzYLHGXjRBvxh7gd6fNsPpaZ3G4/QAAF1HWVOF/G6/Di040Okp6GB9/amakDnc6Rn4iXwxf5Ey0lP190fu1dyFS1RRWaX3XnrG6VmdiuABsEvrazZqXfUGWZL8Hr/yE3K1snKNWqNhTd8yS4cWHOT0RHSgZc3leqZyscanDdE/q5YqKluWpBOTBmhEfJ7T8yDptSn/1bMvvCq326WU5GTdfeM1+nT2HD338htyuV3KSE3VDRMu0bayCj361GTV1zfoN5dNVElpmUrLKnTyuZfo+Scf1orV6/TQ439XU3OzXC6XLjn/bB02coQk6dW33tOL/5miaNRWSnKibphwqfr07OHwmf8wBA+AnZQ2lmt11TodXjBSfo9fG2o3a3XVOu2VNlBb64s1Mp/f+XcXL9es1PFJfXVwfIE2hmr0Yd0GgicGrFyzXg89MUkvT3pMudmZ+se//6NxV16naDSq5//2sNJSU/Sft6fq8utv15v/+psuG3eO3p82Q4/ff7u+mL9Idz30uF6b/Lhqaut0410P6smH71J+bo5Kyyp01gVXakDf3tpaXKI33v1A/3j8AQUDAc38fJ6uvP52vfX8U06f/g9C8ADYybbGUhUk5Mnv8UuSeiX10KKyZQ6vghMOisvXpMrFmte4TXsHM3Rm6l5OT4Kk2fMWaOTw/ZWbnSlJ+vUZJ6m0vEJej0dpqSmSpJOOP0r3PvJXbS3e1u7XWbR0hcoqqnT5dbd//UHL0up1X2ruwiXatKVIYy+c0Haopq5e1bV1SklK7JgT60AED4Cd2Lbksnb+eFTRzh8DRx2Z2Ev7B7O1uLlMi5pK9Ur1Kj2Uf4R8ltvpad2ax+2WZX39H2lzS4s2by1Wn1473m6ybSkcDrf7dSLRqPr06qEXn3qk7WOlZRVKTU3WF/MX6YRjjtDVl4yTJEWjUZWWVyg5MeEnPpvOwau0AOwkOy5Tm+uL1BJukSRtqNksn8srl3ZRQTDaTSXTtSFUo8MSCvXb9CFqiLaqOtLi9Kxub/j+QzRr7gKVlVdIkl56/R19OmuO3v3gE1VWVUuS/vP2VKUkJ6qwoP1bkEMG7aGNm7dq7sIlkqQVq9fpuDPPV2lZuUYOH6p3PpjW9s/49+tva9wV13XwmXUcrvAA2El2fKb6t/bR9K2zZcuW3+3TyLzhqmypdnoaOtnYlEGaXLVEL1WvlCzp1JSByvLEOT2r2xvQt7euuXS8Lrj6RklSZnqa3nvpGX0wfabOv2L7c3nSUpP1+H23yeVq/9pGWmqK/nTXTXrgL0+rJRSSHbV1z02/V35ujvJzczRu7Gka/7s/yOWyFB8fp0fuvmmHK0tdiWXbtt3ewUhltYovvqEz9wAxJ+mxO3XveXc6PQMx4JZJN2n52Xc7PQOdaMjbdypas9XpGfiOPBm92z3GLS0AAGA8ggcAABiP4AEAAMYjeAAAgPEIHgAAYDyCBwAAGI/gAQAAxiN4AACA8QgeAABgPIIHAAAYj+ABAADGI3gAAIDxCB4AAGA8ggcAABiP4AEAAMYjeAAAgPEIHgAAYDyCBwAAGI/gAQAAxiN4AACA8QgeAABgPIIHAAAYj+ABAADGI3gAAIDxCB4AAGA8ggcAABiP4AEAAMYjeAAAgPEIHgAAYDyCBwAAGI/gAQAAxrNs27bbOxiprFbxxTd05h4g5qQ8cbcikajTMxADAi6XrEi7v2R2Hy7L6QWdxpMUlOXm2kBXYbk97R5r/wgASVIgGtWWi25xegYQMwpffECR6s1Oz+gUkRqnF+D78Gb2bfcY2QoAAIxH8AAAAOMRPAAAwHgETwyYuG6+asIh/WrZDK1qrHV6DgAAxiF4YsC8ukqnJwAAYDRepeWw+zYtkyRdvXaeylqbNaV8i/7UVKfqcEhHpuVqXG4/SdJnNWV6btuXCttR+V1uXZjXX4PiU5ycDgBAl8EVHodNLBwkSXqw31BlegPyuVx6YuAI/WXAcL1cukmloWZtaWnUpOK1urvPvvrbwAM1oWBP3frlYjVFIg6vBwCga+AKT4wZk5ojSUrz+pXq8ak6HNKKxhpVtIb0+7Xz2x5nWZaKQo3qG0x0aioAAF0GwRNjPNbXF90sSbakqG1r/8Q03dRr77ZjpaFmpXv9nT8QAIAuiFtaMcAlS+H2/4YP7ZeYprl1FdrU3CBJ+ry2XL9dNVuhKLe0AAD4LrjCEwNGp2TpqrXz1NROwPQKJGhCjz1154YlsiW5LUt39B6i4G7+zhAAAPA1fmLGgBu/cavqm54fdEjb26NTsjU6JbuzJgEAYBRuaQEAAOMRPAAAwHgEDwAAMB7BAwAAjEfwAAAA4xE8AADAeAQPAK6WFkAAAAKASURBVAAwHsEDAACMR/AAAADjETwAAMB4BA8AADAewQMAAIxH8AAAAOMRPAAAwHgEDwAAMB7BAwAAjEfwAAAA4xE8AADAeAQPAAAwHsEDAACMR/AA6BJWN9Xojk0LnZ4B/Gi/veoGVVXXOD2j2yF4AHQJA4LJuqlwX6dnAD/arDkLnJ7QLRE8ALqERfWVumDNTKdnAD/KjXc/JEk6/4rrNGfBEp13+XU66dxLdPK5l+qNdz90eJ3ZPE4PAACgu7jzDxP0+jsfaNKj9+qsC67S1ZeO089Gj1RpeYXO+u3v1LNHnvYdvKfTM43EFR4AADrZug2bFAq16mejR0qSsjLSdeTokZrx+TyHl5mL4AEAoJNZliXL2vFjtm0rHA47M6gbIHgAAOhEbrdLeTnZ8ng8ev+T7c9LKy2v0PvTZurgYfs5vM5cPIcHAIBOdNRhozT+yuv1yN036d5H/qrHJz2nSCSii847S8P3H+L0PGMRPAC6hCEJaXqy/0inZwA/2v23Xdv29rOP3efgku6FW1oAAMB4BA8AADAewQMAAIxH8AAAAOMRPAAAwHgEDwAAMB7BAwAAjEfwAAAA4xE8AADAeAQPAAAwHsEDAACMR/AAAADjETwAAMB4BA8AADAewQMAAIxH8AAAAOMRPAAAwHgEDwAAMB7BAwAAjEfwAAAA4xE8AADAeAQPAAAwHsEDAACMR/AAAADjETwAAMB4BA8AADAewQMAAIxH8AAAAOMRPAAAwHgEDwAAMB7BAwAAjEfwAAAA4xE8AADAeAQPAAAwnmXbtu30CAAAgI7EFR4AAGA8ggcAABiP4AEAAMYjeAAAgPEIHgAAYDyCBwAAGO//AGXKNHY9+bzVAAAAAElFTkSuQmCC\n",
>>>>>>> 96bc7d4ce0cc275b29aabf5b66b19ee7c06873c9
      "text/plain": [
       "<Figure size 720x432 with 1 Axes>"
      ]
     },
     "metadata": {},
     "output_type": "display_data"
    }
   ],
   "source": [
    "import squarify\n",
    "import matplotlib.pyplot as plt\n",
    "\n",
    "wc_top20 = wc[wc['rank'] <= 20]\n",
    "\n",
    "squarify.plot(sizes=wc_top20['pct_total'], label=wc_top20['word'], alpha=.8 )\n",
    "plt.axis('off')\n",
    "plt.show()"
   ]
  },
  {
   "cell_type": "code",
<<<<<<< HEAD
   "execution_count": 90,
=======
   "execution_count": 30,
>>>>>>> 96bc7d4ce0cc275b29aabf5b66b19ee7c06873c9
   "metadata": {},
   "outputs": [],
   "source": [
    "import spacy\n",
    "from spacy.tokenizer import Tokenizer\n",
    "\n",
    "nlp = spacy.load(\"en_core_web_lg\")\n",
    "\n",
    "# Tokenizer\n",
    "tokenizer = Tokenizer(nlp.vocab)"
   ]
  },
  {
   "cell_type": "code",
<<<<<<< HEAD
   "execution_count": 91,
=======
   "execution_count": 31,
>>>>>>> 96bc7d4ce0cc275b29aabf5b66b19ee7c06873c9
   "metadata": {},
   "outputs": [],
   "source": [
    "# Tokenizer Pipe\n",
    "\n",
    "tokens = []\n",
    "\n",
    "\"\"\" Make them tokens \"\"\"\n",
    "for doc in tokenizer.pipe(shops['text_rev'], batch_size=500):\n",
    "    doc_tokens = [token.text for token in doc]\n",
    "    tokens.append(doc_tokens)\n",
    "\n",
    "shops['token_rev'] = tokens"
   ]
  },
  {
   "cell_type": "code",
<<<<<<< HEAD
   "execution_count": 92,
=======
   "execution_count": 32,
>>>>>>> 96bc7d4ce0cc275b29aabf5b66b19ee7c06873c9
   "metadata": {},
   "outputs": [
    {
     "data": {
      "text/plain": [
       "0    [1, check-in, Love, love, loved, the, atmosphe...\n",
       "1    [Listed, in, Date, Night:, Austin,, Ambiance, ...\n",
       "2    [1, check-in, Listed, in, Brunch, Spots, I, lo...\n",
       "3    [Very, cool, decor!, Good, drinks, Nice, seati...\n",
       "4    [1, check-in, They, are, located, within, the,...\n",
       "5    [1, check-in, Very, cute, cafe!, I, think, fro...\n",
       "6    [2, check-ins, Listed, in, \"Nuptial, Coffee, B...\n",
       "7    [2, check-ins, Love, this, place!,  , 5, stars...\n",
       "8    [1, check-in, Ok,, let's, try, this, approach....\n",
       "9    [3, check-ins, This, place, has, been, shown, ...\n",
       "Name: token_rev, dtype: object"
      ]
     },
<<<<<<< HEAD
     "execution_count": 92,
=======
     "execution_count": 32,
>>>>>>> 96bc7d4ce0cc275b29aabf5b66b19ee7c06873c9
     "metadata": {},
     "output_type": "execute_result"
    }
   ],
   "source": [
    "shops['token_rev'].head(10)"
   ]
  },
  {
   "cell_type": "code",
<<<<<<< HEAD
   "execution_count": 93,
=======
   "execution_count": 33,
>>>>>>> 96bc7d4ce0cc275b29aabf5b66b19ee7c06873c9
   "metadata": {},
   "outputs": [
    {
     "data": {
      "text/html": [
       "<div>\n",
       "<style scoped>\n",
       "    .dataframe tbody tr th:only-of-type {\n",
       "        vertical-align: middle;\n",
       "    }\n",
       "\n",
       "    .dataframe tbody tr th {\n",
       "        vertical-align: top;\n",
       "    }\n",
       "\n",
       "    .dataframe thead th {\n",
       "        text-align: right;\n",
       "    }\n",
       "</style>\n",
       "<table border=\"1\" class=\"dataframe\">\n",
       "  <thead>\n",
       "    <tr style=\"text-align: right;\">\n",
       "      <th></th>\n",
       "      <th>word</th>\n",
       "      <th>appears_in</th>\n",
       "      <th>count</th>\n",
       "      <th>rank</th>\n",
       "      <th>pct_total</th>\n",
       "      <th>cul_pct_total</th>\n",
       "      <th>appears_in_pct</th>\n",
       "    </tr>\n",
       "  </thead>\n",
       "  <tbody>\n",
       "    <tr>\n",
<<<<<<< HEAD
       "      <th>10</th>\n",
=======
       "      <th>3</th>\n",
>>>>>>> 96bc7d4ce0cc275b29aabf5b66b19ee7c06873c9
       "      <td>the</td>\n",
       "      <td>6520</td>\n",
       "      <td>27779</td>\n",
       "      <td>1.0</td>\n",
       "      <td>0.034993</td>\n",
       "      <td>0.034993</td>\n",
       "      <td>0.856092</td>\n",
       "    </tr>\n",
       "    <tr>\n",
<<<<<<< HEAD
       "      <th>12</th>\n",
=======
       "      <th>55</th>\n",
>>>>>>> 96bc7d4ce0cc275b29aabf5b66b19ee7c06873c9
       "      <td>and</td>\n",
       "      <td>6804</td>\n",
       "      <td>25748</td>\n",
       "      <td>2.0</td>\n",
       "      <td>0.032434</td>\n",
       "      <td>0.067427</td>\n",
       "      <td>0.893382</td>\n",
       "    </tr>\n",
       "    <tr>\n",
<<<<<<< HEAD
       "      <th>60</th>\n",
=======
       "      <th>33</th>\n",
>>>>>>> 96bc7d4ce0cc275b29aabf5b66b19ee7c06873c9
       "      <td>a</td>\n",
       "      <td>6181</td>\n",
       "      <td>22085</td>\n",
       "      <td>3.0</td>\n",
       "      <td>0.027820</td>\n",
       "      <td>0.095247</td>\n",
       "      <td>0.811581</td>\n",
       "    </tr>\n",
       "  </tbody>\n",
       "</table>\n",
       "</div>"
      ],
      "text/plain": [
       "   word  appears_in  count  rank  pct_total  cul_pct_total  appears_in_pct\n",
<<<<<<< HEAD
       "10  the        6520  27779   1.0   0.034993       0.034993        0.856092\n",
       "12  and        6804  25748   2.0   0.032434       0.067427        0.893382\n",
       "60    a        6181  22085   3.0   0.027820       0.095247        0.811581"
      ]
     },
     "execution_count": 93,
=======
       "3   the        6520  27779   1.0   0.034993       0.034993        0.856092\n",
       "55  and        6804  25748   2.0   0.032434       0.067427        0.893382\n",
       "33    a        6181  22085   3.0   0.027820       0.095247        0.811581"
      ]
     },
     "execution_count": 33,
>>>>>>> 96bc7d4ce0cc275b29aabf5b66b19ee7c06873c9
     "metadata": {},
     "output_type": "execute_result"
    }
   ],
   "source": [
    "wc = count(shops['token_rev'])\n",
    "wc.head(3)"
   ]
  },
  {
   "cell_type": "code",
<<<<<<< HEAD
   "execution_count": 94,
=======
   "execution_count": 34,
>>>>>>> 96bc7d4ce0cc275b29aabf5b66b19ee7c06873c9
   "metadata": {},
   "outputs": [
    {
     "data": {
<<<<<<< HEAD
      "image/png": "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\n",
=======
      "image/png": "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\n",
>>>>>>> 96bc7d4ce0cc275b29aabf5b66b19ee7c06873c9
      "text/plain": [
       "<Figure size 720x432 with 1 Axes>"
      ]
     },
     "metadata": {},
     "output_type": "display_data"
    }
   ],
   "source": [
    "wc_top20 = wc[wc['rank'] <= 20]\n",
    "\n",
    "squarify.plot(sizes=wc_top20['pct_total'], label=wc_top20['word'], alpha=.8 )\n",
    "plt.axis('off')\n",
    "plt.show()"
   ]
  },
  {
   "cell_type": "markdown",
   "metadata": {},
   "source": [
    "Stop Words"
   ]
  },
  {
   "cell_type": "code",
<<<<<<< HEAD
   "execution_count": 95,
=======
   "execution_count": 35,
>>>>>>> 96bc7d4ce0cc275b29aabf5b66b19ee7c06873c9
   "metadata": {},
   "outputs": [
    {
     "data": {
      "text/plain": [
       "Index(['coffee_shop_name', 'num_rate', 'date_rev', 'text_rev', 'token_rev',\n",
       "       'word_rate'],\n",
       "      dtype='object')"
      ]
     },
<<<<<<< HEAD
     "execution_count": 95,
=======
     "execution_count": 35,
>>>>>>> 96bc7d4ce0cc275b29aabf5b66b19ee7c06873c9
     "metadata": {},
     "output_type": "execute_result"
    }
   ],
   "source": [
    "shops.columns"
   ]
  },
  {
   "cell_type": "code",
<<<<<<< HEAD
   "execution_count": 96,
=======
   "execution_count": 36,
>>>>>>> 96bc7d4ce0cc275b29aabf5b66b19ee7c06873c9
   "metadata": {},
   "outputs": [],
   "source": [
    "tokens = []\n",
    "\n",
    "\"\"\" Update those tokens w/o stopwords\"\"\"\n",
    "for doc in tokenizer.pipe(shops['text_rev'], batch_size=500):\n",
    "    \n",
    "    doc_tokens = []\n",
    "    \n",
    "    for token in doc:\n",
    "        if (token.is_stop == False) & (token.is_punct == False):\n",
    "            doc_tokens.append(token.text.lower())\n",
    "\n",
    "    tokens.append(doc_tokens)\n",
    "\n",
    "shops['token_rev'] = tokens"
   ]
  },
  {
   "cell_type": "code",
<<<<<<< HEAD
   "execution_count": 97,
=======
   "execution_count": 37,
>>>>>>> 96bc7d4ce0cc275b29aabf5b66b19ee7c06873c9
   "metadata": {},
   "outputs": [
    {
     "data": {
      "text/plain": [
       "0    [1, check-in, love, love, loved, atmosphere!, ...\n",
       "1    [listed, date, night:, austin,, ambiance, aust...\n",
       "2    [1, check-in, listed, brunch, spots, loved, ec...\n",
       "3    [cool, decor!, good, drinks, nice, seating,  ,...\n",
       "4    [1, check-in, located, northcross, mall, shopp...\n",
       "Name: token_rev, dtype: object"
      ]
     },
<<<<<<< HEAD
     "execution_count": 97,
=======
     "execution_count": 37,
>>>>>>> 96bc7d4ce0cc275b29aabf5b66b19ee7c06873c9
     "metadata": {},
     "output_type": "execute_result"
    }
   ],
   "source": [
    "shops['token_rev'].head()"
   ]
  },
  {
   "cell_type": "code",
<<<<<<< HEAD
   "execution_count": 98,
=======
   "execution_count": 38,
>>>>>>> 96bc7d4ce0cc275b29aabf5b66b19ee7c06873c9
   "metadata": {},
   "outputs": [
    {
     "data": {
<<<<<<< HEAD
      "image/png": "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\n",
=======
      "image/png": "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\n",
>>>>>>> 96bc7d4ce0cc275b29aabf5b66b19ee7c06873c9
      "text/plain": [
       "<Figure size 720x432 with 1 Axes>"
      ]
     },
     "metadata": {},
     "output_type": "display_data"
    }
   ],
   "source": [
    "wc = count(shops['token_rev'])\n",
    "\n",
    "wc_top30 = wc[wc['rank'] <= 30]\n",
    "\n",
    "squarify.plot(sizes=wc_top20['pct_total'], label=wc_top20['word'], alpha=.8 )\n",
    "plt.axis('off')\n",
    "plt.show()"
   ]
  },
  {
   "cell_type": "code",
<<<<<<< HEAD
   "execution_count": 99,
=======
   "execution_count": 39,
>>>>>>> 96bc7d4ce0cc275b29aabf5b66b19ee7c06873c9
   "metadata": {},
   "outputs": [
    {
     "data": {
      "text/html": [
       "<div>\n",
       "<style scoped>\n",
       "    .dataframe tbody tr th:only-of-type {\n",
       "        vertical-align: middle;\n",
       "    }\n",
       "\n",
       "    .dataframe tbody tr th {\n",
       "        vertical-align: top;\n",
       "    }\n",
       "\n",
       "    .dataframe thead th {\n",
       "        text-align: right;\n",
       "    }\n",
       "</style>\n",
       "<table border=\"1\" class=\"dataframe\">\n",
       "  <thead>\n",
       "    <tr style=\"text-align: right;\">\n",
       "      <th></th>\n",
       "      <th>word</th>\n",
       "      <th>appears_in</th>\n",
       "      <th>count</th>\n",
       "      <th>rank</th>\n",
       "      <th>pct_total</th>\n",
       "      <th>cul_pct_total</th>\n",
       "      <th>appears_in_pct</th>\n",
       "    </tr>\n",
       "  </thead>\n",
       "  <tbody>\n",
       "    <tr>\n",
<<<<<<< HEAD
       "      <th>40</th>\n",
=======
       "      <th>33</th>\n",
>>>>>>> 96bc7d4ce0cc275b29aabf5b66b19ee7c06873c9
       "      <td></td>\n",
       "      <td>4343</td>\n",
       "      <td>14990</td>\n",
       "      <td>1.0</td>\n",
       "      <td>0.036868</td>\n",
       "      <td>0.036868</td>\n",
       "      <td>0.570247</td>\n",
       "    </tr>\n",
       "    <tr>\n",
<<<<<<< HEAD
       "      <th>33</th>\n",
=======
       "      <th>27</th>\n",
>>>>>>> 96bc7d4ce0cc275b29aabf5b66b19ee7c06873c9
       "      <td>coffee</td>\n",
       "      <td>4210</td>\n",
       "      <td>8058</td>\n",
       "      <td>2.0</td>\n",
       "      <td>0.019819</td>\n",
       "      <td>0.056687</td>\n",
       "      <td>0.552784</td>\n",
       "    </tr>\n",
       "    <tr>\n",
<<<<<<< HEAD
       "      <th>146</th>\n",
=======
       "      <th>149</th>\n",
>>>>>>> 96bc7d4ce0cc275b29aabf5b66b19ee7c06873c9
       "      <td>place</td>\n",
       "      <td>3029</td>\n",
       "      <td>4264</td>\n",
       "      <td>3.0</td>\n",
       "      <td>0.010487</td>\n",
       "      <td>0.067174</td>\n",
       "      <td>0.397715</td>\n",
       "    </tr>\n",
       "    <tr>\n",
<<<<<<< HEAD
       "      <th>123</th>\n",
=======
       "      <th>118</th>\n",
>>>>>>> 96bc7d4ce0cc275b29aabf5b66b19ee7c06873c9
       "      <td>great</td>\n",
       "      <td>2438</td>\n",
       "      <td>3250</td>\n",
       "      <td>4.0</td>\n",
       "      <td>0.007993</td>\n",
       "      <td>0.075167</td>\n",
       "      <td>0.320116</td>\n",
       "    </tr>\n",
       "    <tr>\n",
<<<<<<< HEAD
       "      <th>280</th>\n",
=======
       "      <th>248</th>\n",
>>>>>>> 96bc7d4ce0cc275b29aabf5b66b19ee7c06873c9
       "      <td>it's</td>\n",
       "      <td>2061</td>\n",
       "      <td>3117</td>\n",
       "      <td>5.0</td>\n",
       "      <td>0.007666</td>\n",
       "      <td>0.082833</td>\n",
       "      <td>0.270614</td>\n",
       "    </tr>\n",
       "    <tr>\n",
<<<<<<< HEAD
       "      <th>169</th>\n",
=======
       "      <th>173</th>\n",
>>>>>>> 96bc7d4ce0cc275b29aabf5b66b19ee7c06873c9
       "      <td>like</td>\n",
       "      <td>2034</td>\n",
       "      <td>2902</td>\n",
       "      <td>6.0</td>\n",
       "      <td>0.007137</td>\n",
       "      <td>0.089971</td>\n",
       "      <td>0.267069</td>\n",
       "    </tr>\n",
       "    <tr>\n",
<<<<<<< HEAD
       "      <th>163</th>\n",
=======
       "      <th>164</th>\n",
>>>>>>> 96bc7d4ce0cc275b29aabf5b66b19ee7c06873c9
       "      <td>good</td>\n",
       "      <td>2084</td>\n",
       "      <td>2779</td>\n",
       "      <td>7.0</td>\n",
       "      <td>0.006835</td>\n",
       "      <td>0.096806</td>\n",
       "      <td>0.273634</td>\n",
       "    </tr>\n",
       "    <tr>\n",
<<<<<<< HEAD
       "      <th>15</th>\n",
=======
       "      <th>7</th>\n",
>>>>>>> 96bc7d4ce0cc275b29aabf5b66b19ee7c06873c9
       "      <td>1</td>\n",
       "      <td>1998</td>\n",
       "      <td>2035</td>\n",
       "      <td>8.0</td>\n",
       "      <td>0.005005</td>\n",
       "      <td>0.101811</td>\n",
       "      <td>0.262342</td>\n",
       "    </tr>\n",
       "    <tr>\n",
<<<<<<< HEAD
       "      <th>35</th>\n",
=======
       "      <th>0</th>\n",
>>>>>>> 96bc7d4ce0cc275b29aabf5b66b19ee7c06873c9
       "      <td>check-in</td>\n",
       "      <td>1957</td>\n",
       "      <td>1961</td>\n",
       "      <td>9.0</td>\n",
       "      <td>0.004823</td>\n",
       "      <td>0.106634</td>\n",
       "      <td>0.256959</td>\n",
       "    </tr>\n",
       "    <tr>\n",
<<<<<<< HEAD
       "      <th>22</th>\n",
=======
       "      <th>4</th>\n",
>>>>>>> 96bc7d4ce0cc275b29aabf5b66b19ee7c06873c9
       "      <td>love</td>\n",
       "      <td>1434</td>\n",
       "      <td>1806</td>\n",
       "      <td>10.0</td>\n",
       "      <td>0.004442</td>\n",
       "      <td>0.111076</td>\n",
       "      <td>0.188288</td>\n",
       "    </tr>\n",
       "    <tr>\n",
<<<<<<< HEAD
       "      <th>328</th>\n",
=======
       "      <th>293</th>\n",
>>>>>>> 96bc7d4ce0cc275b29aabf5b66b19ee7c06873c9
       "      <td>i'm</td>\n",
       "      <td>1382</td>\n",
       "      <td>1797</td>\n",
       "      <td>11.0</td>\n",
       "      <td>0.004420</td>\n",
       "      <td>0.115496</td>\n",
       "      <td>0.181460</td>\n",
       "    </tr>\n",
       "    <tr>\n",
<<<<<<< HEAD
       "      <th>331</th>\n",
=======
       "      <th>305</th>\n",
>>>>>>> 96bc7d4ce0cc275b29aabf5b66b19ee7c06873c9
       "      <td>i've</td>\n",
       "      <td>1164</td>\n",
       "      <td>1479</td>\n",
       "      <td>12.0</td>\n",
       "      <td>0.003638</td>\n",
       "      <td>0.119133</td>\n",
       "      <td>0.152836</td>\n",
       "    </tr>\n",
       "    <tr>\n",
<<<<<<< HEAD
       "      <th>795</th>\n",
=======
       "      <th>792</th>\n",
>>>>>>> 96bc7d4ce0cc275b29aabf5b66b19ee7c06873c9
       "      <td>little</td>\n",
       "      <td>1230</td>\n",
       "      <td>1479</td>\n",
       "      <td>13.0</td>\n",
       "      <td>0.003638</td>\n",
       "      <td>0.122771</td>\n",
       "      <td>0.161502</td>\n",
       "    </tr>\n",
       "    <tr>\n",
<<<<<<< HEAD
       "      <th>364</th>\n",
=======
       "      <th>334</th>\n",
>>>>>>> 96bc7d4ce0cc275b29aabf5b66b19ee7c06873c9
       "      <td>don't</td>\n",
       "      <td>1133</td>\n",
       "      <td>1395</td>\n",
       "      <td>14.0</td>\n",
       "      <td>0.003431</td>\n",
       "      <td>0.126202</td>\n",
       "      <td>0.148766</td>\n",
       "    </tr>\n",
       "    <tr>\n",
<<<<<<< HEAD
       "      <th>170</th>\n",
=======
       "      <th>189</th>\n",
>>>>>>> 96bc7d4ce0cc275b29aabf5b66b19ee7c06873c9
       "      <td>nice</td>\n",
       "      <td>1188</td>\n",
       "      <td>1368</td>\n",
       "      <td>15.0</td>\n",
       "      <td>0.003365</td>\n",
       "      <td>0.129566</td>\n",
       "      <td>0.155987</td>\n",
       "    </tr>\n",
       "    <tr>\n",
<<<<<<< HEAD
       "      <th>413</th>\n",
=======
       "      <th>454</th>\n",
>>>>>>> 96bc7d4ce0cc275b29aabf5b66b19ee7c06873c9
       "      <td>food</td>\n",
       "      <td>1092</td>\n",
       "      <td>1363</td>\n",
       "      <td>16.0</td>\n",
       "      <td>0.003352</td>\n",
       "      <td>0.132919</td>\n",
       "      <td>0.143382</td>\n",
       "    </tr>\n",
       "    <tr>\n",
<<<<<<< HEAD
       "      <th>615</th>\n",
=======
       "      <th>631</th>\n",
>>>>>>> 96bc7d4ce0cc275b29aabf5b66b19ee7c06873c9
       "      <td>time</td>\n",
       "      <td>1099</td>\n",
       "      <td>1345</td>\n",
       "      <td>17.0</td>\n",
       "      <td>0.003308</td>\n",
       "      <td>0.136227</td>\n",
       "      <td>0.144301</td>\n",
       "    </tr>\n",
       "    <tr>\n",
<<<<<<< HEAD
       "      <th>5</th>\n",
=======
       "      <th>41</th>\n",
>>>>>>> 96bc7d4ce0cc275b29aabf5b66b19ee7c06873c9
       "      <td>pretty</td>\n",
       "      <td>1066</td>\n",
       "      <td>1339</td>\n",
       "      <td>18.0</td>\n",
       "      <td>0.003293</td>\n",
       "      <td>0.139520</td>\n",
       "      <td>0.139968</td>\n",
       "    </tr>\n",
       "    <tr>\n",
<<<<<<< HEAD
       "      <th>19</th>\n",
=======
       "      <th>28</th>\n",
>>>>>>> 96bc7d4ce0cc275b29aabf5b66b19ee7c06873c9
       "      <td>got</td>\n",
       "      <td>980</td>\n",
       "      <td>1247</td>\n",
       "      <td>19.0</td>\n",
       "      <td>0.003067</td>\n",
       "      <td>0.142587</td>\n",
       "      <td>0.128676</td>\n",
       "    </tr>\n",
       "    <tr>\n",
<<<<<<< HEAD
       "      <th>938</th>\n",
=======
       "      <th>946</th>\n",
>>>>>>> 96bc7d4ce0cc275b29aabf5b66b19ee7c06873c9
       "      <td>people</td>\n",
       "      <td>1015</td>\n",
       "      <td>1223</td>\n",
       "      <td>20.0</td>\n",
       "      <td>0.003008</td>\n",
       "      <td>0.145595</td>\n",
       "      <td>0.133272</td>\n",
       "    </tr>\n",
       "    <tr>\n",
<<<<<<< HEAD
       "      <th>588</th>\n",
=======
       "      <th>565</th>\n",
>>>>>>> 96bc7d4ce0cc275b29aabf5b66b19ee7c06873c9
       "      <td>come</td>\n",
       "      <td>1031</td>\n",
       "      <td>1193</td>\n",
       "      <td>21.0</td>\n",
       "      <td>0.002934</td>\n",
       "      <td>0.148529</td>\n",
       "      <td>0.135373</td>\n",
       "    </tr>\n",
       "    <tr>\n",
<<<<<<< HEAD
       "      <th>45</th>\n",
=======
       "      <th>65</th>\n",
>>>>>>> 96bc7d4ce0cc275b29aabf5b66b19ee7c06873c9
       "      <td>austin</td>\n",
       "      <td>1034</td>\n",
       "      <td>1188</td>\n",
       "      <td>22.0</td>\n",
       "      <td>0.002922</td>\n",
       "      <td>0.151451</td>\n",
       "      <td>0.135767</td>\n",
       "    </tr>\n",
       "    <tr>\n",
<<<<<<< HEAD
       "      <th>479</th>\n",
=======
       "      <th>422</th>\n",
>>>>>>> 96bc7d4ce0cc275b29aabf5b66b19ee7c06873c9
       "      <td>best</td>\n",
       "      <td>1015</td>\n",
       "      <td>1165</td>\n",
       "      <td>23.0</td>\n",
       "      <td>0.002865</td>\n",
       "      <td>0.154316</td>\n",
       "      <td>0.133272</td>\n",
       "    </tr>\n",
       "    <tr>\n",
<<<<<<< HEAD
       "      <th>52</th>\n",
=======
       "      <th>45</th>\n",
>>>>>>> 96bc7d4ce0cc275b29aabf5b66b19ee7c06873c9
       "      <td>definitely</td>\n",
       "      <td>1011</td>\n",
       "      <td>1154</td>\n",
       "      <td>24.0</td>\n",
       "      <td>0.002838</td>\n",
       "      <td>0.157155</td>\n",
       "      <td>0.132747</td>\n",
       "    </tr>\n",
       "    <tr>\n",
<<<<<<< HEAD
       "      <th>210</th>\n",
=======
       "      <th>199</th>\n",
>>>>>>> 96bc7d4ce0cc275b29aabf5b66b19ee7c06873c9
       "      <td>friendly</td>\n",
       "      <td>1105</td>\n",
       "      <td>1145</td>\n",
       "      <td>25.0</td>\n",
       "      <td>0.002816</td>\n",
       "      <td>0.159971</td>\n",
       "      <td>0.145089</td>\n",
       "    </tr>\n",
       "    <tr>\n",
<<<<<<< HEAD
       "      <th>11</th>\n",
=======
       "      <th>31</th>\n",
>>>>>>> 96bc7d4ce0cc275b29aabf5b66b19ee7c06873c9
       "      <td>latte</td>\n",
       "      <td>855</td>\n",
       "      <td>1124</td>\n",
       "      <td>26.0</td>\n",
       "      <td>0.002764</td>\n",
       "      <td>0.162735</td>\n",
       "      <td>0.112264</td>\n",
       "    </tr>\n",
       "    <tr>\n",
<<<<<<< HEAD
       "      <th>21</th>\n",
=======
       "      <th>40</th>\n",
>>>>>>> 96bc7d4ce0cc275b29aabf5b66b19ee7c06873c9
       "      <td>shop</td>\n",
       "      <td>947</td>\n",
       "      <td>1115</td>\n",
       "      <td>27.0</td>\n",
       "      <td>0.002742</td>\n",
       "      <td>0.165477</td>\n",
       "      <td>0.124343</td>\n",
       "    </tr>\n",
       "    <tr>\n",
<<<<<<< HEAD
       "      <th>763</th>\n",
=======
       "      <th>766</th>\n",
>>>>>>> 96bc7d4ce0cc275b29aabf5b66b19ee7c06873c9
       "      <td>coffee.</td>\n",
       "      <td>900</td>\n",
       "      <td>1044</td>\n",
       "      <td>28.0</td>\n",
       "      <td>0.002568</td>\n",
       "      <td>0.168045</td>\n",
       "      <td>0.118172</td>\n",
       "    </tr>\n",
       "    <tr>\n",
<<<<<<< HEAD
       "      <th>975</th>\n",
=======
       "      <th>974</th>\n",
>>>>>>> 96bc7d4ce0cc275b29aabf5b66b19ee7c06873c9
       "      <td>iced</td>\n",
       "      <td>787</td>\n",
       "      <td>1044</td>\n",
       "      <td>29.0</td>\n",
       "      <td>0.002568</td>\n",
       "      <td>0.170613</td>\n",
       "      <td>0.103335</td>\n",
       "    </tr>\n",
       "    <tr>\n",
<<<<<<< HEAD
       "      <th>77</th>\n",
=======
       "      <th>73</th>\n",
>>>>>>> 96bc7d4ce0cc275b29aabf5b66b19ee7c06873c9
       "      <td>try</td>\n",
       "      <td>930</td>\n",
       "      <td>1042</td>\n",
       "      <td>30.0</td>\n",
       "      <td>0.002563</td>\n",
       "      <td>0.173176</td>\n",
       "      <td>0.122111</td>\n",
       "    </tr>\n",
       "  </tbody>\n",
       "</table>\n",
       "</div>"
      ],
      "text/plain": [
       "           word  appears_in  count  rank  pct_total  cul_pct_total  \\\n",
<<<<<<< HEAD
       "40                     4343  14990   1.0   0.036868       0.036868   \n",
       "33       coffee        4210   8058   2.0   0.019819       0.056687   \n",
       "146       place        3029   4264   3.0   0.010487       0.067174   \n",
       "123       great        2438   3250   4.0   0.007993       0.075167   \n",
       "280        it's        2061   3117   5.0   0.007666       0.082833   \n",
       "169        like        2034   2902   6.0   0.007137       0.089971   \n",
       "163        good        2084   2779   7.0   0.006835       0.096806   \n",
       "15            1        1998   2035   8.0   0.005005       0.101811   \n",
       "35     check-in        1957   1961   9.0   0.004823       0.106634   \n",
       "22         love        1434   1806  10.0   0.004442       0.111076   \n",
       "328         i'm        1382   1797  11.0   0.004420       0.115496   \n",
       "331        i've        1164   1479  12.0   0.003638       0.119133   \n",
       "795      little        1230   1479  13.0   0.003638       0.122771   \n",
       "364       don't        1133   1395  14.0   0.003431       0.126202   \n",
       "170        nice        1188   1368  15.0   0.003365       0.129566   \n",
       "413        food        1092   1363  16.0   0.003352       0.132919   \n",
       "615        time        1099   1345  17.0   0.003308       0.136227   \n",
       "5        pretty        1066   1339  18.0   0.003293       0.139520   \n",
       "19          got         980   1247  19.0   0.003067       0.142587   \n",
       "938      people        1015   1223  20.0   0.003008       0.145595   \n",
       "588        come        1031   1193  21.0   0.002934       0.148529   \n",
       "45       austin        1034   1188  22.0   0.002922       0.151451   \n",
       "479        best        1015   1165  23.0   0.002865       0.154316   \n",
       "52   definitely        1011   1154  24.0   0.002838       0.157155   \n",
       "210    friendly        1105   1145  25.0   0.002816       0.159971   \n",
       "11        latte         855   1124  26.0   0.002764       0.162735   \n",
       "21         shop         947   1115  27.0   0.002742       0.165477   \n",
       "763     coffee.         900   1044  28.0   0.002568       0.168045   \n",
       "975        iced         787   1044  29.0   0.002568       0.170613   \n",
       "77          try         930   1042  30.0   0.002563       0.173176   \n",
       "\n",
       "     appears_in_pct  \n",
       "40         0.570247  \n",
       "33         0.552784  \n",
       "146        0.397715  \n",
       "123        0.320116  \n",
       "280        0.270614  \n",
       "169        0.267069  \n",
       "163        0.273634  \n",
       "15         0.262342  \n",
       "35         0.256959  \n",
       "22         0.188288  \n",
       "328        0.181460  \n",
       "331        0.152836  \n",
       "795        0.161502  \n",
       "364        0.148766  \n",
       "170        0.155987  \n",
       "413        0.143382  \n",
       "615        0.144301  \n",
       "5          0.139968  \n",
       "19         0.128676  \n",
       "938        0.133272  \n",
       "588        0.135373  \n",
       "45         0.135767  \n",
       "479        0.133272  \n",
       "52         0.132747  \n",
       "210        0.145089  \n",
       "11         0.112264  \n",
       "21         0.124343  \n",
       "763        0.118172  \n",
       "975        0.103335  \n",
       "77         0.122111  "
      ]
     },
     "execution_count": 99,
=======
       "33                     4343  14990   1.0   0.036868       0.036868   \n",
       "27       coffee        4210   8058   2.0   0.019819       0.056687   \n",
       "149       place        3029   4264   3.0   0.010487       0.067174   \n",
       "118       great        2438   3250   4.0   0.007993       0.075167   \n",
       "248        it's        2061   3117   5.0   0.007666       0.082833   \n",
       "173        like        2034   2902   6.0   0.007137       0.089971   \n",
       "164        good        2084   2779   7.0   0.006835       0.096806   \n",
       "7             1        1998   2035   8.0   0.005005       0.101811   \n",
       "0      check-in        1957   1961   9.0   0.004823       0.106634   \n",
       "4          love        1434   1806  10.0   0.004442       0.111076   \n",
       "293         i'm        1382   1797  11.0   0.004420       0.115496   \n",
       "305        i've        1164   1479  12.0   0.003638       0.119133   \n",
       "792      little        1230   1479  13.0   0.003638       0.122771   \n",
       "334       don't        1133   1395  14.0   0.003431       0.126202   \n",
       "189        nice        1188   1368  15.0   0.003365       0.129566   \n",
       "454        food        1092   1363  16.0   0.003352       0.132919   \n",
       "631        time        1099   1345  17.0   0.003308       0.136227   \n",
       "41       pretty        1066   1339  18.0   0.003293       0.139520   \n",
       "28          got         980   1247  19.0   0.003067       0.142587   \n",
       "946      people        1015   1223  20.0   0.003008       0.145595   \n",
       "565        come        1031   1193  21.0   0.002934       0.148529   \n",
       "65       austin        1034   1188  22.0   0.002922       0.151451   \n",
       "422        best        1015   1165  23.0   0.002865       0.154316   \n",
       "45   definitely        1011   1154  24.0   0.002838       0.157155   \n",
       "199    friendly        1105   1145  25.0   0.002816       0.159971   \n",
       "31        latte         855   1124  26.0   0.002764       0.162735   \n",
       "40         shop         947   1115  27.0   0.002742       0.165477   \n",
       "766     coffee.         900   1044  28.0   0.002568       0.168045   \n",
       "974        iced         787   1044  29.0   0.002568       0.170613   \n",
       "73          try         930   1042  30.0   0.002563       0.173176   \n",
       "\n",
       "     appears_in_pct  \n",
       "33         0.570247  \n",
       "27         0.552784  \n",
       "149        0.397715  \n",
       "118        0.320116  \n",
       "248        0.270614  \n",
       "173        0.267069  \n",
       "164        0.273634  \n",
       "7          0.262342  \n",
       "0          0.256959  \n",
       "4          0.188288  \n",
       "293        0.181460  \n",
       "305        0.152836  \n",
       "792        0.161502  \n",
       "334        0.148766  \n",
       "189        0.155987  \n",
       "454        0.143382  \n",
       "631        0.144301  \n",
       "41         0.139968  \n",
       "28         0.128676  \n",
       "946        0.133272  \n",
       "565        0.135373  \n",
       "65         0.135767  \n",
       "422        0.133272  \n",
       "45         0.132747  \n",
       "199        0.145089  \n",
       "31         0.112264  \n",
       "40         0.124343  \n",
       "766        0.118172  \n",
       "974        0.103335  \n",
       "73         0.122111  "
      ]
     },
     "execution_count": 39,
>>>>>>> 96bc7d4ce0cc275b29aabf5b66b19ee7c06873c9
     "metadata": {},
     "output_type": "execute_result"
    }
   ],
   "source": [
    "wc_top30"
   ]
  },
  {
   "cell_type": "code",
<<<<<<< HEAD
   "execution_count": 100,
=======
   "execution_count": 40,
>>>>>>> 96bc7d4ce0cc275b29aabf5b66b19ee7c06873c9
   "metadata": {},
   "outputs": [],
   "source": [
    "STOP_WORDS = nlp.Defaults.stop_words.union([' ',\"it's\", '1', 'i', \"i'm\", \"i've\", \"it's\", \"don't\", '-', 'coffee', 'got', 'it.', 'place'])"
   ]
  },
  {
   "cell_type": "code",
<<<<<<< HEAD
   "execution_count": 101,
=======
   "execution_count": 41,
>>>>>>> 96bc7d4ce0cc275b29aabf5b66b19ee7c06873c9
   "metadata": {},
   "outputs": [],
   "source": [
    "tokens = []\n",
    "\n",
    "for doc in tokenizer.pipe(shops['text_rev'], batch_size=500):\n",
    "    \n",
    "    doc_tokens = []\n",
    "    \n",
    "    for token in doc: \n",
    "        if token.text.lower() not in STOP_WORDS:\n",
    "            doc_tokens.append(token.text.lower())\n",
    "   \n",
    "    tokens.append(doc_tokens)\n",
    "    \n",
    "shops['token_rev'] = tokens"
   ]
  },
  {
   "cell_type": "code",
<<<<<<< HEAD
   "execution_count": 102,
=======
   "execution_count": 42,
>>>>>>> 96bc7d4ce0cc275b29aabf5b66b19ee7c06873c9
   "metadata": {},
   "outputs": [
    {
     "data": {
      "text/html": [
       "<div>\n",
       "<style scoped>\n",
       "    .dataframe tbody tr th:only-of-type {\n",
       "        vertical-align: middle;\n",
       "    }\n",
       "\n",
       "    .dataframe tbody tr th {\n",
       "        vertical-align: top;\n",
       "    }\n",
       "\n",
       "    .dataframe thead th {\n",
       "        text-align: right;\n",
       "    }\n",
       "</style>\n",
       "<table border=\"1\" class=\"dataframe\">\n",
       "  <thead>\n",
       "    <tr style=\"text-align: right;\">\n",
       "      <th></th>\n",
       "      <th>word</th>\n",
       "      <th>appears_in</th>\n",
       "      <th>count</th>\n",
       "      <th>rank</th>\n",
       "      <th>pct_total</th>\n",
       "      <th>cul_pct_total</th>\n",
       "      <th>appears_in_pct</th>\n",
       "    </tr>\n",
       "  </thead>\n",
       "  <tbody>\n",
       "    <tr>\n",
<<<<<<< HEAD
       "      <th>119</th>\n",
=======
       "      <th>114</th>\n",
>>>>>>> 96bc7d4ce0cc275b29aabf5b66b19ee7c06873c9
       "      <td>great</td>\n",
       "      <td>2438</td>\n",
       "      <td>3250</td>\n",
       "      <td>1.0</td>\n",
       "      <td>0.008801</td>\n",
       "      <td>0.008801</td>\n",
       "      <td>0.320116</td>\n",
       "    </tr>\n",
       "    <tr>\n",
<<<<<<< HEAD
       "      <th>164</th>\n",
=======
       "      <th>168</th>\n",
>>>>>>> 96bc7d4ce0cc275b29aabf5b66b19ee7c06873c9
       "      <td>like</td>\n",
       "      <td>2034</td>\n",
       "      <td>2902</td>\n",
       "      <td>2.0</td>\n",
       "      <td>0.007859</td>\n",
       "      <td>0.016659</td>\n",
       "      <td>0.267069</td>\n",
       "    </tr>\n",
       "    <tr>\n",
<<<<<<< HEAD
       "      <th>158</th>\n",
=======
       "      <th>159</th>\n",
>>>>>>> 96bc7d4ce0cc275b29aabf5b66b19ee7c06873c9
       "      <td>good</td>\n",
       "      <td>2084</td>\n",
       "      <td>2779</td>\n",
       "      <td>3.0</td>\n",
       "      <td>0.007525</td>\n",
       "      <td>0.024185</td>\n",
       "      <td>0.273634</td>\n",
       "    </tr>\n",
       "    <tr>\n",
<<<<<<< HEAD
       "      <th>32</th>\n",
=======
       "      <th>0</th>\n",
>>>>>>> 96bc7d4ce0cc275b29aabf5b66b19ee7c06873c9
       "      <td>check-in</td>\n",
       "      <td>1957</td>\n",
       "      <td>1961</td>\n",
       "      <td>4.0</td>\n",
       "      <td>0.005310</td>\n",
       "      <td>0.029495</td>\n",
       "      <td>0.256959</td>\n",
       "    </tr>\n",
       "    <tr>\n",
<<<<<<< HEAD
       "      <th>20</th>\n",
=======
       "      <th>4</th>\n",
>>>>>>> 96bc7d4ce0cc275b29aabf5b66b19ee7c06873c9
       "      <td>love</td>\n",
       "      <td>1434</td>\n",
       "      <td>1806</td>\n",
       "      <td>5.0</td>\n",
       "      <td>0.004891</td>\n",
       "      <td>0.034386</td>\n",
       "      <td>0.188288</td>\n",
       "    </tr>\n",
       "  </tbody>\n",
       "</table>\n",
       "</div>"
      ],
      "text/plain": [
       "         word  appears_in  count  rank  pct_total  cul_pct_total  \\\n",
<<<<<<< HEAD
       "119     great        2438   3250   1.0   0.008801       0.008801   \n",
       "164      like        2034   2902   2.0   0.007859       0.016659   \n",
       "158      good        2084   2779   3.0   0.007525       0.024185   \n",
       "32   check-in        1957   1961   4.0   0.005310       0.029495   \n",
       "20       love        1434   1806   5.0   0.004891       0.034386   \n",
       "\n",
       "     appears_in_pct  \n",
       "119        0.320116  \n",
       "164        0.267069  \n",
       "158        0.273634  \n",
       "32         0.256959  \n",
       "20         0.188288  "
      ]
     },
     "execution_count": 102,
=======
       "114     great        2438   3250   1.0   0.008801       0.008801   \n",
       "168      like        2034   2902   2.0   0.007859       0.016659   \n",
       "159      good        2084   2779   3.0   0.007525       0.024185   \n",
       "0    check-in        1957   1961   4.0   0.005310       0.029495   \n",
       "4        love        1434   1806   5.0   0.004891       0.034386   \n",
       "\n",
       "     appears_in_pct  \n",
       "114        0.320116  \n",
       "168        0.267069  \n",
       "159        0.273634  \n",
       "0          0.256959  \n",
       "4          0.188288  "
      ]
     },
     "execution_count": 42,
>>>>>>> 96bc7d4ce0cc275b29aabf5b66b19ee7c06873c9
     "metadata": {},
     "output_type": "execute_result"
    }
   ],
   "source": [
    "wc = count(shops['token_rev'])\n",
    "wc.head()"
   ]
  },
  {
   "cell_type": "code",
<<<<<<< HEAD
   "execution_count": 103,
=======
   "execution_count": 43,
>>>>>>> 96bc7d4ce0cc275b29aabf5b66b19ee7c06873c9
   "metadata": {},
   "outputs": [
    {
     "data": {
<<<<<<< HEAD
      "image/png": "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\n",
=======
      "image/png": "iVBORw0KGgoAAAANSUhEUgAAAjwAAAFUCAYAAAAgQOYwAAAABHNCSVQICAgIfAhkiAAAAAlwSFlzAAALEgAACxIB0t1+/AAAADh0RVh0U29mdHdhcmUAbWF0cGxvdGxpYiB2ZXJzaW9uMy4yLjIsIGh0dHA6Ly9tYXRwbG90bGliLm9yZy+WH4yJAAAgAElEQVR4nO3dd5xcdb3/8dc5Z/rOzvaabHqDFCCNkoQWQEWaDb1cFPQCV7D8RC8qXgUBRVGkX8QGiEgvAqJ0CJ0U0ntPNpvtfafPOb8/Ni5ZUkxgdyc5eT8fjzweM6d85/Odncy+9/v9nhnDcRwHERERERczs12AiIiISH9T4BERERHXU+ARERER11PgEREREddT4BERERHXU+ARERER1/PsbWeqrQs7lRmoWkR24QkYGIY+OcFN2pM2qbTeV9wiPy+Mx9LfznJgMCzvHvftNfDYqQzzzvtlnxcksq+Oe/wHJB7+TbbLkD6UOvNbnPOZr2a7DOkjc159nHTd2myXIQKAt/LwPe5TLBcRERHXU+ARERER11PgEREREddT4BERERHXU+ARERER11PgEREREddT4BERERHXU+ARERER11PgEREREddT4BERERHXU+ARERER11PgEREREddT4BEREekny1av4/Krf9UnbU371H+wrba+T9o6FCnwiIiI9JMJY0dx8zXfz3YZAniyXYCIiIhbzV20jOtv/T0P3HkD19/2RxYuW4llWZw842j+30X/STqd5qbf/4X5i5eTydgcNno4V37rIsI5IRYsWcH1t/0BwzCYMHYUjmNnuzsHNY3wiIiI9LM77n6QRDLJ0/fezuN/uIlFy1Yyb/Fy/vjAE1iWySO/u5En/nQzJUWF3Pz7v5BKpfjuT3/NFZd+lcf+cBPTj5pIPJHMdjcOahrhERER6WfvvL+E71/2VSzLwrIs7r315wDc9Ls/09HZxTvzFwOQSqcpzM9jzYYteDwWx0yZBMDps2dxzU2/zVr9bqDAIyIi0s88loWB0XN/e30jQb8PO2Pzw2/+F7OOngJANBYjkUxRU9sATu82LMsayJJdR1NaIiIi/eyYyZN46vlXsW2bZDLFd6/+FfMWL+e4aUfxwJP/JJVKYds2V994J7f84S+MGTkUB4fX310AwKtvzaW9ozPLvTi4aYRHRESkn116wRf55R1/4nMXXU7GtvnkSTM59fhjmXX0ZG787b18/uLvYds2Y0cN54pLv4rX4+HW637IdTfdxa1/vJ9xo4ZTWJCX7W4c1BR4RERE+sn0Iyfwt3tuA+DaK76xy/6A38+Pv/Pfuz134rjRPPL73/RrfYcSTWmJiIiI6ynwiIjsh2QySkvL5r0eE402kUh0r7dIpeJ0dtYNRGkishcKPCIifSyZjPGvS2wymSSZTDq7BYmI1vCIiHwUmUySzs56HMfBttN4PH5yc8uJx9tJp+N0daVwHIdotAnHsenoqCU3t5xEopNYrBnHAcMwyMkpxusNZrs7Iq6nwCPSx/62ZAP3zVuNZRrkB/1cd/rRvLlhOw++vwbLMCjMCXDlKVMYWpjLT/7xHgGPxbrGNpq64pw4ahB5QR9z1tXQ1BXn6k9OY/rQMlKZDLe8toQFW+uxHYexZQX8YPZkwn5vtrt7yIrH2/D7IwQCERzHobV1C8lkF8FgPolEJ8FgHn5/LgCJRAe5ueVkMkmi0Sby8gZjmhbpdIK2tm0UFg7DMDTgLtKfFHhE+tDq+hZunbOEBy84jfJIiPvnr+aSh1/FceDP58+mMBTgqaUbufzJN3n8a58EYFVdC3efN5u2WIJT7nyaH8w+ivvOP4W/zl/D3e+tZPrQMu5+dxWWafDgBadhGAa3vb6EW+cs5n9Pm5rlHh+6QqFiUqko0WgzmUwK207jOM5ez0kmo9h2mra26p5thgGZTAqPx9/fJYsc0hR4RPrQ3M31HDu8nPJICIDzp46loTOOxzQoDAUAOHvicH798kJq2roAOH7UILyWSXE4SNDr4bjhFQBU5Ydpj3V/d87r62voSCR5d3P34td0xqYgpF+Q2dTRUQs4+P25+Hw52Pa+rdPxekNEIhU99zOZFKapt2KR/qb/ZSJ9yDJ3/vB4iKfSVLd2Mrwo0us4B4e03T0a4LN6T2V4rF2nNmzH4fuzJzNzRPcvymgyRSKtb07OplQqSl7eYDweP+l0gnQ6jt8fBrpHbXbH6w0SjTaRTifxeHwkk110dNRSWDgc2MNJItInNGks0oemDSnlvc11NHTGAHhs8Xre3LCd51duoTkaB+BvSzeQF/RTVRDe53aPHV7OQ++vJZXJYDsO1z43n9teX9IvfZB9EwoV0d5eQ0vLZjo76/F6g2QyKQB8vjBdXY3E4+14vQEymRTt7TV4PH7C4VI6OrbT0rKZrq4mIpFKrd8RGQAa4RHpQ6NL8rn8xCP4xqNzACgOB3nm4k/zytpqLnnoNWzHoSDk57bPzcLc0zDAblxy7OHc9NpivnjvC92Llkvz+d5JR/ZXN2QvfL4QPt9QAILB/N0eEwzm99pXWDis57bfn9uzmFlEBo7h7GWVXaKxnXnn/XIg6xHp5bjHf0DiEX20upt0nvktzvnMV7NdhvSROa8+jtO4PttliADgrTx8j/s0jioiIiKup8AjIiIirqfAIyIiIq6nRcsiIvKRmaaBUTo622W4iuM48G8+xFL2nwKPiIh8ZLYDTuuWbJfhKrZRzILzbsh2GQel4164fo/7NKUlIiIirqfAIyIiIq6nwCMiIiKup8AjIiIirqfAIyIiIq6nwCMiIiKup8AjIiIirqfAc4B4rm0Nf2qcn+0yREREXEmBR0RERFxPn7S8n/7Rtpo3OjcSML2M8RezMFrDTytP4a/NC9mSbMMAJgbL+Wz+eCzDZE28kUdblpJ00liGyWfyxzMxWE7asXmweREr4vXkWn4iZoCg6c1290RERFxJgWc/LIvV8lbnJn5ScTJBw8u9Te8D8GDzInJMH9dWnEIam9vr3+b59rUcHx7Gbxve5VulxzHCX8i2ZDu/qpvDj8tPZlGshtp0J9dVnkbGsbmhbg6DzLws91BERMSdNKW1H5bEapmaM5iQ6cMwDE7OHQHA0lgds3NHYhgGXsPixNwRLI3VsiHZTKk3zAh/IQCDfBFG+YtYnWhgZbyeY0JVeAwTv+nh6JyqbHZNRETE1RR49oOF2esLbE3DAMDBAYye7bYDGWzs3XzbrYNDxrF33O7dtoiIiPQP/ZbdD5OC5bwf3UbUTgHwRucmDGB8oIxXOtbjOA4pJ8PrnRs4PFDGSH8RtakONiSaAdiWbGdNvJGxgRImBMt5u2sLKSdDyskwL1qdxZ6JiIi4m9bw7IfDgqXMyh3G9bWv4jMsBnkj+EyL8wqP4IHmxVy1/SUyjs2EYBln5I3DY5hcWnI0DzQvIulkMDD4avFUyr25lHrC1Kc6uarmRXJMH2XecLa7JyIi4loKPPthU6IFC5OfVZ4GwPPta0g5NmHLzyUl03d7zrhAKT+uOHmX7aZh8KXCI/gSR/RrzSIiIqLAs1/KvGH+0b6aOTUbMYBCT4gLCidnuywRERH5NxR49kPQ9HJZyTHZLkPkoGZZFk8+cU+2y5A+YtD7AgyRA5UCj4gMKK9jcudFN2S7DOkjVz5xXbZLENknukpLREREXE8jPHJAywDec7+b7TKkD6US2a5ARA5FCjxyQGuJJjnz7K9kuwzpQ88/80C2SxCRQ5CmtERERMT1FHhERETE9RR4RERExPUUeERERMT1FHhERETE9RR4RERExPUUeERERMT1FHhERETE9RR4RERExPUUeERERMT1FHhERMQV5r6/hHO+fGm2y3CNpnSUH9e8yFU1L7Eq3sDPa1/jf2teYH50W7ZL+0j0XVoiIiKyi1XxBvIsP1eUHc/qeAPtmTg3DPpktsv6yBR4RETkoBONxvjx9TezuboG0zQ4fOwoTj/lBKKxGP9z9S/ZuLmaZDLJT3/wbaYcMYGOzi5+dtOdrF67AcOAmcdM5f9dciEej8URJ5zBf/3nF3jz3QXE4nG+/d8XcOoJM7LdxX7xeucmnm9fg4lB2PRzUfFUlsZqealjPSYGEcvP+YVH0pKJ8UTrcmJ2ihtqX6c5E6UlE+Oqmpf4cflJbE628mjrUhJOBhODs/MO48hQRfdjdGzklc4NOI5D2PJxfuGRVHgjWe65Ao+IiByEXnr9bbqiMR6/9w4ymQzX3ngHW2tqqWto5CvnnsOk8eO47+EnufPuv/KnW3/BL265i/xILk/edyepVJpv/vAa7n3wcS768rlkMjaBQIBH7r6N1es2cuE3v8+USRMoLMjLdjf71JZkK4+2LOWnFbMp8oR4oX0tv657AweH/y0/iYjl583OTdze8A4/qziVz+QfzvzoNr5TOoNV8Qbub17EtZWn0JVJcnfTfL5XNpNiTw4t6RjX1b5KlS+PhnQXb3Vt4cqyE/CbHpbF6ri9/l2uH3RatruvNTwiInLwmTxpPOs2bebCb/6AP97/KF/+wjkMGVRJVWUFk8aPA2Dc6BE0t7QC8Oa78znvc2diGAY+n5dzzz6dN9+b39PeeZ87E4Cxo4YzesQwFixeOvCd6mcr4/VMCJZR5AkBcFpkNJNDlUwPDSZi+QGYGR5GSzpGYzq6x3bWJZtozcS5rf4drqp5iZvr38IAtibbWBKrpT7dyc9rX+Oqmpd4pGUpXXaSzkxyILq4VxrhERGRg87gynL++dCfmLdwCe8tWMxFl/+In17xbTyenX+tGThO9y3bcTAMo2eP49ik0pme+5b1wd//tmNjmu4bDzAxMfjgOUjaGerTnVR4ek83OUAGe4/tOI5DpTeXn1Sc3LOtJR0j1/KzKt7AsTlDOLdgItD9vLdmYuSY3r7tzEfgvp+oiIi43kNPPsuPr7+J46ZP5ruXfY0Z06ewYs26PR4/Y/pkHnj8GRzHIZlM8ejTz3HstKN69j/93MsArFi9jo2bq5l65MR+78NAGxcoYUW8ntZ0DIDXOjewJFbL3OhW2jMJAN7o3ETY9FHqCe+xnRH+IurSnayONwDdU2U/rHme1kyMCcEy3uva2usxfl33Rj/3bN9ohEdERA46Z31yNvMWLuGs879O0O+nvKyEMSOH88Krb+72+Cu/83Wuv/m3fOYrl5FKpZhxzFT++ytf7Nm/cOkKHnv6OWzb4cZrfkheJHegujJgqnx5nJs/kZvq3wIgzwpwQ+UneT9Ww6/qXsfBIdf0853SGZg7jYZ9WMTy842SY3ikZSkpx8bG4eLiaRR7cij25HB63lhurH8TAwiaXr5ZciyGYbAx0cI9TQu4tvKUAepxb4bj/GvAb1eJxnbmnffLgaxHpJcxf7mcM8/+SrbLkD70/DMPcMfX9L7iFlc+cR1269Zsl/GxTJh5Om/8/UEK8g+MRcq2UcyC827IdhkHpeNeuH6P+zSlJSIiIq6nwCMispP36hbxxIYXWNi4otf2l6vfoTXR3meP8+DaZ+hMdVEbbeDpTS/3Wbuy/5a9+Y8DZnRH+o/W8IiI7GRN2yY+O/wT5HiDvbbPHnxslioSkb6gwCMissPzW7uvJnll2zu0JdsZEh5ES7KNo4oOZ37DUk6onE5RoICtndtZ2rwG27HxGBZTSiZQEixkceNKOtNRYukEXakoIU+AGRVTCXkC1EUbmdewBDAoCuTz4cWTKTvNExue51NDTiDi675C5sXqtxiXP4KqcMXAPhEiLqQpLRGRHT5RNQuAU6tmEPIEyffncvawUxiSW9lzTHuyk0WNK5k96FjOGHoSx5QdyZya90jZaQDqY00cXzGNs4efgsf0sLZ1IxnH5vXt85hSMpEzhp5EebCEjJPp9dhe08OISBVr2zYB0JHsoj3ZyaCc8oHpvIjLaYRHRGQPSoNFu2zbHq0nlo7zYvXOlz8bdKS6ACgLFuOzuj9krdCfR8JO0ppoxzRMKkIlAAyPDOa9+kW7tD02fwTPb32Do4oPZ23bJkbnDd3r5cEisu8UeEQOEl1d9ViWj0AgP9ulHDK85q5vkY7jUB4q4fjKaT3bulJRgp4gW6nBY1gfOmGXGwC9PvH2XyK+MAX+CFs7t7Oxo5pPDTn+43ZBRHbQlJaIyH4oD5WwPVpPW7IDgG2dtfx986u7TFHtrMAfwXG6jwXY2rmdpJ3a7bFj80ewoGE5xYF8Qp7gbo8Rkf2nER6RjymVihGPNWOaHjJ2CgODUE4JpuklHmsinY7jAJblIxQqxjBMMpkksWgjttP9fTUBfx4+f+4e27IsX6/H7D6/CcfJ4AB+fwS/P7JrcdLn8v0Rjik7kje2zwMHDMPgxMqjdzsa9C+mYXLioKN5r24RC5tWUODPI7Djyxo/bFBOOe84CxmdN7y/uiBySFLgEekDmUyCYLAQjzdIItFOtKserzcHMAjnDsIwDGKxZmKxZoLBIro6awkEi/D5crDtNB3t2zB3rPvYXVu5kcE9j+U4Dl2ddYRySvF4/DiOTUf7NizLh8cTyNIz4B5fHnMOAJ8d8Yle23e+PzR3EENzB+1y7hHFh+3xfnGggE8PPWmXc8LeHM4aNrvnflO8hYDl71nvIyJ9Q4FHpA9Ylg/Pjs9t8flyiUUbcRwbMEjt+BI9HAfDtLDtFI7j4PPlAGCaHry+HFKpKB5PcLdt2fYH0yW2ncK200SjDTtV4JDJJBV4DnJv1S6gLtrIrIppvb7ZW0Q+PgUekT6x+19OwVARXm8IAMexcRwHZy9rPfbWVq8jDJPITqM+tp3GMLQk72A3o3xKtksQcS29Q4r0gUwmQSadACCZaMfyBPD6wiTibTtCjkO0q2HH+hwvhmGQTHZfxmzbaVLJLjw7Fqjuri3T/ODKH9P0gmGQTHT0nN/RXk0mkxzILouIHFQ0wiPSBwzDIhZvwc6kME2LUKgE07SIxZrpaK8Guqe9gqEiDMMgJ6eMaKyJeLwFHIdAsACvN0gqFdttW70fyyD8r/MTbTvOL9R0lojIXijwiPQBwzAJh3f9RNxQqHi3x1seP7k7fXrvvrSVk1O6T+eLiMiuNKUlIiIirqcRHpGPyesN4s2rOuDaEhGRD2iER0RERFxPgUdERERcT4FHREREXE+BR0RERFxvr4uWHdNgyv3fH6haRHbR4ez+G6VFRET2x14DT9zJ8P0LfzRQtYjs4rp7rsl2CSIi4gKa0hIRERHXU+ARERER11PgEREREddT4BERERHXU+ARERER11PgEREREddT4BERERHXU+ARERER11PgEREREddT4BERERHXU+ARERER19vrd2mJiPQ1yzL59t1XZruMQ5Jh9EOjDngKqvqh4UNXujPJlL/qi7v7mgKPiAwoI+Pwtwt/k+0yDknnPXwFqWfv7NM2U33amvv4Tv9vYnfpS5AHiv+KW/a4T1NaIiIi4noKPCIiIuJ6CjwiIiLiego8IiIi4noKPCIiIuJ6ukpLDmhey+KZp+7LdhkiInKQU+CRA1rQNlnw5RuzXYb0oaP++oNslyAihyBNaYmIiIjrKfCIiIiI6ynwiIiIiOsp8IiIiIjrKfCIiIiI6ynwiIiIiOsp8IiIiIjrKfCIiIiI6ynwiIiIiOsp8IiIiIjrKfCIiIiI6ynwiIiIiOsp8IiIiIjrKfCIiIiI6ynwiIiIiOsp8IiIiIjrKfCIiIiI6ynwiIiIiOsp8IiIiIjrKfCIiIiI6ynwiIiIiOsp8IiIiIjrKfCIiIiI6ynwiIiIiOsp8IiIfEQL2zYwv20dAAva1vFWy8osV3RwmbdxO5+948k+aeuJBWt4eO6h/fy/tHE7F//9vb0e8051A6c/9CpffuptHl2xmXsWr9/r8Ssa2rjipfcBWN7Qys/fXPZv67hrwVp++fbyfS98gHiyXYCIyMFqa7yREl8EgCl5o7JczaFt4eY6RpXmZ7uMA97zG7bz2bFVXHTUvr1eDy/J49enTAZgfUsndV3x/iyvXynwiMghxXEcXmhcxLZ4E0k7jYPDGaXTWNi+gRJfhGMLxgHwdN3cnvsL2taxoG09lmHiMSxOL51CU7KDNV01bIzW4TUsujIJYnaST5ZM5vZNf2dS7jA2xeppS0eZlDuUE4smZrnnB6ZYMs33HnqFrc0d5AZ8/OSs4xiUH+aWF+czf1Mttu0wrqKIH5x+NOGAj0fmruLReavwWhY+j8VPzjqOTY1tvLZ6C++sr8Hv9fClow/LdrcGzG8XrOGf62rIC/gYEgkBkMrY3DpvNe9vbybjOIwrinDFsYfx+KqtvLa5Hr9l0pFME/RYtCaS/PC48Xz6odc4c/Qg5tY0UdsV44xRg7hs6hjm1zRxwzsruP0TU7lrwVo6k2munrOEa06YxJzNdfxp0XpStk3AsvjO0eM4oqygp7ZFtS386NVF/P1LJ2IaBrF0hjMeeo3HPjeTgqB/wJ8rBZ6PoTXWwtqG1RSHSwh6Q5TnVjBn/cscN2wWXsuX7fLkIPV6x0bS2JycO5KGVBePtC7hGyXHZrss19gWb6IzHeOrg2djGAZvtazk7ZaVBK3dvwHbjs0LDYv45rBPk+sJsqR9E1tjjUzOG8marhpKfBGm5o9mTlPvof6Uk+aCwSfTno5y5+Z/ckRkOAXe8EB08aBS29bFLz5/PEcOKeOx+av538dfZ9aYKizT5KGvn4VhGNz24gJufXEBP/z00fzqn+/xz+9+gZLcEM8sWsfCLXV8fupYXlu1hVGl+YdU2Hltcx0vb6zjwc/MxO8x+e6L3VNP9yxej2UY/PWc4zAMg9vnreb2eWu4csZ4NrR0MrIgzFcmjeCuBWt7tRdLZ7j7zGOo74pz9iNzOHvs4J595eEgX58ympc21nLNCZPY0tbF/81fw+8/fTT5AR/rWzq49B/zeOrc43vOObK8gIjfy9vVDcysKuX59TVMryzKStgBBZ4+MbxwZLZLEBdZm2hikLd7mqQpE6U21ZnlitxlcLCYoOXj/fb1tKQ62RxrwGd6CLL7N2HTMDksPJh7q19hdE4FI0LljAqV/9vHGZMzCICIJ0TI8hPPJMHbp11xhdFlBRw5pAyAs48cxc+feYdUxiaWSvPu+hoAUpkMhTlBLNPk1PHD+MofnmXWmMEcN2oQp48ZvLfmXe29bU2cPKyMHF/3r/KzxwzmoeWbeWNrAx2JFO9tawQgZdsUBv59yDhhaCkApTkBCoI+2hKpPR777rZGGqMJvv6PuT3bDAO2tkd7HXfu4UN5clU1M6tKeWLVVv7f9HH73c++osDTB1bVryDHl0NV/tCebcl0gsU1C6nMG8SgvCq6kl2sb1xDKpPCwWFQXhUVkcosVi39YVW8gcdallLkCVGb6sBrWHyteCr/bFtDl52kId3JpGAFn8kfz2MtS1mdaMR2HIb48jmv8AhWxutZFKthRbwOn2nxYvtaWjIxbqp7gzGBEmqS7VxSMh2AtfFG/tq8iJ9WnpLlXh9c1nbV8ELjIo7JH8OYnEEUeSMs7di8y3EZx+65fU75MdQn2tgYq+PtlpUs7djE58qP2+vjeAyr57YBOH3WA3exTKPXfWPH3R986mhm7ggz0USKRDoDwC8+fwJr61p4b30N97yxlGcXr+fXXzxpQGs+kOz8uvLseC4ztsMVxx7OjKoSAKKpNImMvZuzewtYO79mjb2+aG3HYVplETfMPqpnW21njJJQgFc21fVs+9SoSu6Yv5p5NU1EUxmmVBTuY8/6nq7S6geJHWFnSMEwBuVV4Tg2K2qXMrxoJFOqpnNk5RSqWzfTHm/LdqnSDzYlW5idO4prKk9lZngYf2ycB0DSSXNd5Wl8oWAi/2hbjWkYXFV+MtdUnkK+FeCxlmVMDg3iyGAlp+aO5uTckVxQNIUST5jvls3i+PAwlsS205lJAjCncyMn5o7IZlcPShujdYwOVTAlbxQV/gJWd23DwSHH8rM90QJARzrGllgDANFMgls3PUPQ8nF0/hhOLJxITbz7ONMwsB1FmY9jTW0zq7Y3AfDo/NUcNaSMmaMH89B7K0mlM9i2wzVPv8VtLy2gpSvOaTc+TH7Iz/nHjecbsyezbMcohmUapO1D62cxo6qYlzbW0pFIYTsOz67rHhE7dnAxD6/YTCpjYzsO172xjDvmrf7Yj2cZHzzH0yuLeHdbIxtbu0eg39xazxefeJNEJtPrnKDH4vRRg7jm9aV8/rCqj13Dx6ERnn6wdPsi/J4ApeHuYdpoKkosHWN1/QeXTNqOTWeig0ggL1tlSj+p8uUzJlAMwMzwMO5vXki+FWC0v7jnmCWx7UTtFCti9QCksYmYex9yjlgBJgUreKdrM8flDGV5rI7zC4/a6zmyq8l5I3my9l1+t+V5bMdmRKicVZ3VnF12NE/Vvcedm/9JvifE0FD38H7I8jOz4HD+um0OHtPCxODTpVMBGBmq4MXGRdnszkFveEk+d722iG3NHRTmBLnus7MozAlw0/PzOPe3T2M7DmPLC/neJ6YRDvi4+IQjuOTe5/B7PFimwdVnzwBg5ujB3Phc9/TKfx0/KZtdGjAzq0pZ19zBfz71NhGflzGFubTEklx81Chufm8V//HkW9iOw5iiCJcf/fGnkiaW5vP7hev43ovv85tTJ/PjmRO48pVFOHSHoZtPm0LIu2usOGv0IJ5YtZVPjx70sWv4OBR4+sHoknFsadlEddsWqvKH4jjgMS2mVh3dc0wyncBj6ul3I4sPhuidHWPCBgZ+44Oft43DfxQewcRg91qQuJ0m5fT+y2h3Ts4dyV+aF2IZJpNDgwjoNbTfin0RLh5yWq9tnyjpDo4XDD55t+dMyRvJlLxd1+odFh7MYeFd15B8a9gZe70v3aYNr+Cxb5yz230/OmP3C/W/MG0cX5i26y/vU8YP45Txw/qyvIPChUeM5MIjdn1tXjlj/G6Pv+aED8Lg16eM7rn97JdO7HXczvcf/dwsAIbk5fDUuSf0bD91RAWnjqjY5TF2btdxHN6qbuCMUZXk+rK7iE1TWv0gL5DHuNLD2dKyia5EJyFfCNOwqOvYDkA8HWf+1vfoSHRkuVLpD1uSrWxNdk9Xvt6xkVH+IkJm76v2xgfKeLljPWmne8j5z00LeLy1+yofyzDI0D3fbmH0WksyKvkqgOEAABIoSURBVFCEATzftkbTWSJywDvz4TnM2VzPpTuFoGzRn4f9JOTLYUjBcFbWL2fy4GlMKJ/EusY1bG3dguPYDCscQV5QH5LlRnlWgCdbl9GYjpJr+bmoeBpPtfb+BNgz8w7jkZYlXLP9JWzHocqXzxcLuv/ymhAo5+GWJQCcEB6B17D42fZX+N/ykzAMg5nhYcyLVlPl03SoiBzY/v6hkaNsUuD5GPKDBUwbckyvbSeMnN1zuyp/CFX5QwAI+3M5ctCUAa1PsiNgevl26Yxe2/6reGqv+z7T4vyi3a+/mZoziKk5H8x1X7PTVVgZx2ZFvI7ZufooBBGR/aEpLZGDRE2yne9U/52w6Wdq6ND97BERkY9CIzwifWhcoITrKk/tl7YrfRFurzqrX9oWEXE7jfCIiIiI6ynwiIiIiOsp8IiIiIjrKfCIiIiI6ynwiIiIiOsp8IiIiIjrKfCIiIiI6ynwiIiIiOsp8IiIiIjrKfCIiIiI6ynwiIiIiOsp8IiIiIjrKfCIiIiI6ynwiIiIiOsp8IiIiIjrKfCIiIiI6ynwiIiIiOsp8IiIiIjrKfCIiIiI6ynwiIiIiOsp8IiIiIjrKfCIiIiI6ynwiIiIiOsp8IiIiIjrKfCIiIiI6ynwiIiIiOsp8IiIiIjrGY7jOHva2drUyve//KOBrEeklzvu/yVOxs52GdKHbMvEsff4tvNvOQ44fPTzD2WBoIXh0ufuQH1NGKD3sAHkySvY874BrENkv5lem9STN2W7DOljxsc4N3n25fzoKz/ps1rk4HfdvdfyrfP/J9tlyAHggRfu3uM+TWmJiIiI6ynwiIiIiOsp8IiIiIjrKfCIiIiI6ynwiIiIiOsp8IiIiIjrKfCIiIiI6ynwiIiIiOsp8IiIiIjrKfCIiIiI6ynwiIiIiOsp8IiIiIjrKfCIiIiI6ynwiIiIiOsp8IiIiIjrKfCIiIiI6ynwiIiIiOt59rbTMAx+ce/PBqoWkV0YGNkuQUREXGCvgSdtZ7jgS5cNVC0iu/jbU3dluwQREXEBTWmJiIiI6ynwiIiIiOsp8IiIiIjrKfCIiIiI6ynwiIiIiOsp8IgcgO58YynPLNuY7TIkC1Y1rOStzW+wvmndx25r0faF1LTX9EFVkk1r6paTzqRYW7eCWDKa7XIOWnu9LF1EsuOyWROzXYJkybb2amYMnUXAE8h2KXKA6Ii3AjC67PAsV3JwU+ARyaJ5W+q5440lDM4Ls66xjbRt8+PTpvLEkg2MKs7jgunjWFrTxA0vv08slcZrmnz3pCOZPrSMDU3t/Orl92mLJck4DudNHs05k0Zku0vyMczfNg/oHpkZWzyWDc0bSNspAIbkD6UitxLoDkVbW7dgGAY+y8fY4nGEfDkk0nFW1C8nkU4Q8AZIZpJZ64v0jU2NawFYXbeMeCrKuPJJ2I7NtpbN+Dw+4qk4pmlSHhlMfUcN8VSMglARVYXd7wWt0Wa2t23FcRxM02RwwTDC/kg2u5Q1CjwiWbasppkrT5nCuLIC7pu7ijteX0plfg4AqYzN5U++yVWfnMbxIytZUdvMVf+Yy4MXnMr//O0tfv7pozmsvJCORJIL7n+ZEcURJlUWZ7lH8lFNHTSNl9e/yOTKKcyvnsuootGUhstIpOPMq55LyBsiY9tsbtnE1MHT8Vk+atprWFy7mGOqjmV14yoigTxGFo4imooyd+u72e6SfEzDikfT1FXP2LIJrNy+uGd7V7KDIUVHEPKFWVu3nNr2asaUTcC2MyypnkdZZFB3MGrdzNiyCXgsL7FklDX1y5hQOQXLtLLYq+xQ4BHJsoq8EOPKCgA4rKyAp5dtopLuwLOuoRXTMDh+ZPdf9oeXF/LY1z7J+sY2qls7ufq5eT3txNMZVtW1KvC4QFeyC9uxKQ2XAeD3BCgJl9IUbSLjZCgLl+OzfABURipZ07SaeDpOc7SZUUVjAAh5QxQEC7LWB+lffk+AkC/cfdsbwDI8mIaJaZmYpkXGTtORaCeVSbKmbnnPeQYGiXSckC8nW6VnjQKPSJb5PTv9pWUYODg9dy3TxPjQ14mta2jFAcJ+L49c+Ime7U1dccJ+bz9XK1njgO3Y4Djs8hVzjoPj2LucYhi6LsWtPvyzNT78RgHgOEQCeYwoGdezKZlO4N0Rlg81+t8gcgAbVpiLgcE7m2oBWFnbzMUPv8awwlz8Hotnl28CoLY9yufvfo4Vtc1ZrFb6So4vB8MwqO+sAyCRjlPfVUdhqIjCUDF1nbU963Nq2rfhtbwEvSGKQsVsa68GIJ6K0RLT68EtHMf59wd9SG4gn/Z4K/FU95VdbbFmVmxf2B2cD0Ea4RE5gPk8Fr85Zwa/fmUhN7+2GK9pctM5M/BaFrd8dia/enkh985dRTpjc9nMCRw1uCTbJUsfmVR+JGsaV7GxZQO24zC8YASFwUIAqvKH8n7NAnAcvJaPIyqOwjAMxpaMY0X9ct7Z8jYBj5+wLzfLvZC+UBAqZnXdUjJOZr/OC/pCDC0cxYaGNYCDYRiMLDnskFy/A2A4e4mNTY3NXHCuvi1dsudvT91F6pGbsl2GHEASZ1/Oj77yk2yXIQeQ6+69lm+d/z/ZLkMOAA+8cPce92lKS0RERFxPgUdERERcT4FHREREXE+BR0RERFxPgUdERERcT4FHREREXE+BR0RERFxPgUdERERcT4FHREREXE+BR0RERFxPgUdERERcT4FHREREXE+BR0RERFxPgUdERERcT4FHREREXE+BR0RERFxPgUdERERcT4FHREREXE+BR0RERFxPgUdERERcT4FHREREXE+BR0RERFxPgUdERERcT4FHREREXE+BR0RERFzPcBzH2dPOpsZmLjj3soGsR6SXp57+PcaeX6JyCIqmIZ22P9K5NnotuZFhmmQymT5pyzSMPmlHsqOwpHCP+zwDWIfIfkvHMmy88LpslyEuUXzPj/jSFy7JdhlyAHvumT+RvO8X2S5DPqpv/mqPuzSlJSIiIq6nwCMiIiKup8AjIiIirqfAIyIiIq6nwCMiIiKup8AjIiIirqfAIyIiIq6nwCMiIiKup8AjIiIirqfAIyIiIq6nwCMiIiKup8AjIiIirqfAc4DY1riOTCad7TJERERcSYHnABFNdGS7BBEREdfyZLuAg0lzRy3tXc2YpknQF6Yz3kbQH8a206TSSXICEYoiFTS21RBLduI4Dn5fiJK8wVimRWesjZbOOhzHJmOniYQKKYpUUtuyGYDqxrVUFo3E6/FluaciIiLuosCzj7ri7bRHm6kqHYNpWNS3bunZZzs2Q8sOA6CpfTsYBlUlYzEMg8a2GpraayjJG0xrZz1lBUPweQKkMyk21i4jP6eU8oKhdESbGVw8GsvSj0RERKSv6bfrPorG28kN5mOZ3U9ZXk4J0UQnAEFfuOe4rng7tp35YIrKcbBMD4ZhUFk0gq54Ox3RFpLpONAdlqyB7YqIiMghR4FnXxng7HzX+OC2aey8FMqhJH8QOYE8AGw7g+M42HaGLfWrCQfzCPjCREJFdMXa6N2qiIiI9ActWt5HOYE8OmOtZOwMAG1dzbs9LuSP0NrZiOPYOI5DXesWGttrSKUT2E6GokgF4WBe9xofnF5xx1H4ERER6Rca4dlHIX8ueaFiqhvWYBgGPk/wQyM73Qoj5TS2bWNL/WocHPzeIMV5gzANk5xAhE11KzEMA783iM8TIJVO4PP4CQfzqW5YS0XRcPzeYBZ6KCIi4l4KPPsonoxiGPQsTm7pqMfBprxgaK/jTMOkNL9qt22UfejYnVUUDu+7YkVERKQXBZ595PX4aemoo61rJQAey0dZwe6DjYiIiBxYFHj2kWVaVBRpFEZERORgpEXLIiIi4noKPCIiIuJ6CjwiIiLiego8IiIi4noKPCIiIuJ6CjwiIiLiego8IiIi4noKPCIiIuJ6CjwiIiLiego8IiIi4noKPCJZtjTaxLe2zOmz9i7e9Apr463/9rhra+ayJdnRZ48rB5Z4oovtjeuyXYYMkPnVjXz+r69w57sreWblFgB+N3c1r27YDsDyuhZ+9uriXsceavRdWiKHqKsqp2e7BBHpY5cdc1jP7XnVDYwozAVgfXMH9Z2xbJV1QFDgERlgL7Vv5W+tGzAxiFg+ZucOJm5n+HXt+2xLdpF0MnyjdBLjg4WkHJs/N65iebwJ23EY4c/j4pLDCZletiU7ubNhKW2ZJCYGXygYxazcyp7Hidlprq2Zx7hAPhcUH7ZLHRdveoXvl08mbme4v3k15d4QmxMdZLC5rGQihwULB/JpkX5i2xla2reTTMcxgIA/TF64jK5YC7FEByUFQwFIpRM0NG+iomQM6UySlvbt2HYGgHCokHCoIIu9kH111YvvM6oogt9jsqK+lVveWk4ineG3766iM5ni6pfe58xxQ3qOT2Vsbn17OQu2NZGxHcaV5PH9EyYS9nmz2Iv+oSktkQG0MdHOnxtXcXXFdG4bcjzTc8p4tGUdjek4Z+UP55Yhs/hE3hAeal4DwOMt67EMg5sGz+TWIcdT6PFzX+MqAG6sW8iMcAV3DDmBn1RM4/6m1UTtFABRO81Pa+YyNad0t2Hnw9bEWzl7x+PPzq3iL02r++9JkAHV0r4d07QoLxpJWdEIUqk4HV2NhAJ5JJJRMpnu10xXrIWcYD4Aja1byc8to7x4JKWFw+joaiKRjGazG7KfvjhpBIeX5vOdGeM5Y1wVlx4zjqMqi7jmlMm9jrt7wVosw+SBL57AI+edRElOgNveXpGlqvuXRnhEBtCSaCNHhYop8QYBOCt/OMN9Ee5sWMrYQPdf0MN9EV5urwZgflcdXXaaxdFGAFKOTb7loyOTZFOinVMj3X+plXiD/G7YST2Pc3PdIizD4Iy8YftUV6knyAh/HgAj/BFe6ajuk/5K9sWTnZQWDscwDMAgJ1RIZ1cTkXAJoUCErngbuaEiorE2SguHk84kSKeTNLfV9LThYJNKx/H7QtnriPSLNzbW0pFM8e7WeqB7xKcw5M9yVf1DgUdkAJmGseMXT7eEnaE61Ylnp20GBg4OADYOFxUfzpScUqB7mirl2Fg7jjd2ars62UmJpztInVs4iqXRJv7ctJJLSiawNt7K/9Uv7Tn2liGzetXlMz8Y7N358cUFdvOj/NfPNydYQEt7DV7Lj8fjx+PxkUzFMU2T8uKRPcdnMmlMUxMCbmQ7DlfMmsjMYWUARJNpEplMlqvqH3oFiwygicEiFkcbaU7HAXi+fQt/3jFFtTtHhUp4tm0TKcfGdhz+r34p9zWtImR6GenP45UdI0ENqRg/rH67Z0prtD+fS0sn8lZnLQujDYwO5HPLkFk9/+TQEfCH6Yw24zgOjmPTFW0m4AsD9IzYtHc1EA52jzB6PT4MTLpi3Vf6pTMpahvXkUzFs9MB+cgswyBt27vc3tmxQ0p5eMlGUpnu95hrX1nE7W+vHOhSB4RGeEQG0DB/hAuLx3FNzVwACjwBLi2dwGMtu798+NyC0dzTtJLLt76B7TgM90f42o41Od8rO4q7GpbxbNsmDAy+WTqJAk+g59yI5ePrJeO5vW4Jtw05nrDlvkWI8u/lR8ppba+ltmk9OA4Bf5hIuLhnf06wgPbOBoKB7qt5DMOkuGAIre3b6ehqxHEc8nJLNZ11EDphRDm3v72CVMbmyIpCfjd3Nd97di7/ccSInmMunj6Wm99cxpceeg3bdhhTksd3Z43PYtX9x3AcZ49j102NzVxw7mUDWY9IL48//Fs2XnhdtssQlyi+50d86QuXZLsMOYA998yfSN73i2yXIR9R6Ju/2uM+TWmJiIiI6ynwiIiIiOsp8IiIiIjrKfCIiIiI6ynwiIiIiOsp8IiIiIjrKfCIiIiI6ynwiIiIiOsp8IiIiIjrKfCIiIiI6ynwiIiIiOsp8IiIiIjrKfCIiIiI6ynwiIiIiOsp8IiIiIjrKfCIiIiI6ynwiIiIiOsp8IiIiIjrKfCIiIiI6ynwiIiIiOsp8IiIiIjrKfCIiIiI6ynwiIiIiOsp8IiIiIjrKfCIiIiI6ynwiIiIiOsp8IiIiIjrKfCIiIiI6ynwiIiIiOsp8IiIiIjrKfCIiIiI6ynwiIiIiOsp8IiIiIjrKfCIiIiI6xmO4zjZLkJERESkP2mER0RERFxPgUdERERcT4FHREREXE+BR0RERFxPgUdERERcT4FHREREXO//AzoZIB5TdStBAAAAAElFTkSuQmCC\n",
>>>>>>> 96bc7d4ce0cc275b29aabf5b66b19ee7c06873c9
      "text/plain": [
       "<Figure size 720x432 with 1 Axes>"
      ]
     },
     "metadata": {},
     "output_type": "display_data"
    }
   ],
   "source": [
    "wc_top20 = wc[wc['rank'] <= 20]\n",
    "\n",
    "squarify.plot(sizes=wc_top20['pct_total'], label=wc_top20['word'], alpha=.8 )\n",
    "plt.axis('off')\n",
    "plt.show()"
   ]
  },
  {
   "cell_type": "markdown",
   "metadata": {},
   "source": [
    "\n",
    "## Can visualize the words with the greatest difference in counts between 'good' & 'bad'?\n",
    "Couple Notes:\n",
    "\n",
    "-Rel. freq. instead of absolute counts b/c of different numbers of reviews\n",
    "-Only look at the top 5-10 words with the greatest differences"
   ]
  },
  {
   "cell_type": "code",
<<<<<<< HEAD
   "execution_count": 104,
=======
   "execution_count": 44,
>>>>>>> 96bc7d4ce0cc275b29aabf5b66b19ee7c06873c9
   "metadata": {},
   "outputs": [],
   "source": [
    "# Make a comparison among all reviews, good and bad\n",
    "\n",
    "shops['good']=shops['word_rate'].str.contains('good')\n",
    "shops['bad']=shops['word_rate'].str.contains('bad')"
   ]
  },
  {
   "cell_type": "code",
<<<<<<< HEAD
   "execution_count": 105,
=======
   "execution_count": 45,
>>>>>>> 96bc7d4ce0cc275b29aabf5b66b19ee7c06873c9
   "metadata": {},
   "outputs": [
    {
     "data": {
      "text/plain": [
       "False    6140\n",
       "True     1476\n",
       "Name: bad, dtype: int64"
      ]
     },
<<<<<<< HEAD
     "execution_count": 105,
=======
     "execution_count": 45,
>>>>>>> 96bc7d4ce0cc275b29aabf5b66b19ee7c06873c9
     "metadata": {},
     "output_type": "execute_result"
    }
   ],
   "source": [
    "shops['bad'].value_counts()"
   ]
  },
  {
   "cell_type": "code",
<<<<<<< HEAD
   "execution_count": 106,
=======
   "execution_count": 46,
>>>>>>> 96bc7d4ce0cc275b29aabf5b66b19ee7c06873c9
   "metadata": {},
   "outputs": [
    {
     "name": "stdout",
     "output_type": "stream",
     "text": [
      "(7616, 8)\n"
     ]
    },
    {
     "data": {
      "text/plain": [
       "good    6140\n",
       "bad     1476\n",
       "Name: word_rate, dtype: int64"
      ]
     },
<<<<<<< HEAD
     "execution_count": 106,
=======
     "execution_count": 46,
>>>>>>> 96bc7d4ce0cc275b29aabf5b66b19ee7c06873c9
     "metadata": {},
     "output_type": "execute_result"
    }
   ],
   "source": [
    "print(shops.shape)\n",
    "shops['word_rate'].value_counts()"
   ]
  },
  {
   "cell_type": "code",
<<<<<<< HEAD
   "execution_count": 107,
=======
   "execution_count": 47,
>>>>>>> 96bc7d4ce0cc275b29aabf5b66b19ee7c06873c9
   "metadata": {},
   "outputs": [
    {
     "name": "stdout",
     "output_type": "stream",
     "text": [
      "(38917, 7) (32897, 7) (15607, 7)\n"
     ]
    }
   ],
   "source": [
    "wc = count(shops['token_rev'])\n",
    "wc_good= count(shops[shops['good']==1]['token_rev'])\n",
    "wc_bad= count(shops[shops['good']!=1]['token_rev'])\n",
    "\n",
    "print(wc.shape, wc_good.shape, wc_bad.shape)"
   ]
  },
  {
   "cell_type": "code",
<<<<<<< HEAD
   "execution_count": 108,
=======
   "execution_count": 48,
>>>>>>> 96bc7d4ce0cc275b29aabf5b66b19ee7c06873c9
   "metadata": {},
   "outputs": [
    {
     "data": {
<<<<<<< HEAD
      "image/png": "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\n",
=======
      "image/png": "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\n",
>>>>>>> 96bc7d4ce0cc275b29aabf5b66b19ee7c06873c9
      "text/plain": [
       "<Figure size 1440x576 with 3 Axes>"
      ]
     },
     "metadata": {},
     "output_type": "display_data"
    }
   ],
   "source": [
    "# Top 20 words for each occurrences\n",
    "\n",
    "wc_top20=wc[wc['rank']<=20]\n",
    "wc_good_top20=wc_good[wc_good['rank']<=20]\n",
    "wc_bad_top20=wc_bad[wc_bad['rank']<=20]\n",
    "\n",
    "fig, axes =plt.subplots (1, 3, figsize=(20,8))\n",
    "\n",
    "axes[0].set_title('All Coffee Reviews')\n",
    "squarify.plot(sizes =wc_top20['pct_total'], label=wc_top20['word'], alpha = .8, ax=axes[0])\n",
    "axes[0].axis('off')\n",
    "\n",
    "\n",
    "axes[1].set_title('Good Coffee Reviews')\n",
    "squarify.plot(sizes =wc_good_top20['pct_total'], label=wc_good_top20['word'], alpha = .8, ax=axes[1])\n",
    "axes[1].axis('off')\n",
    "\n",
    "\n",
    "axes[2].set_title('Bad Coffee Reviews')\n",
    "squarify.plot(sizes =wc_bad_top20['pct_total'], label=wc_bad_top20['word'], alpha = .8, ax=axes[2])\n",
    "axes[2].axis('off')\n",
    "\n",
    "plt.show();"
   ]
  },
  {
   "cell_type": "code",
<<<<<<< HEAD
   "execution_count": 109,
=======
   "execution_count": 49,
>>>>>>> 96bc7d4ce0cc275b29aabf5b66b19ee7c06873c9
   "metadata": {},
   "outputs": [
    {
     "data": {
      "image/png": "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\n",
      "text/plain": [
       "<Figure size 720x432 with 1 Axes>"
      ]
     },
     "metadata": {},
     "output_type": "display_data"
    }
   ],
   "source": [
    "sns.lineplot(x='rank', y='cul_pct_total', data=wc);"
   ]
  },
  {
   "cell_type": "code",
<<<<<<< HEAD
   "execution_count": 110,
=======
   "execution_count": 50,
>>>>>>> 96bc7d4ce0cc275b29aabf5b66b19ee7c06873c9
   "metadata": {},
   "outputs": [
    {
     "data": {
      "text/plain": [
       "0.22437655877231708"
      ]
     },
<<<<<<< HEAD
     "execution_count": 110,
=======
     "execution_count": 50,
>>>>>>> 96bc7d4ce0cc275b29aabf5b66b19ee7c06873c9
     "metadata": {},
     "output_type": "execute_result"
    }
   ],
   "source": [
    "wc[wc['rank'] <= 100]['cul_pct_total'].max()"
   ]
  },
  {
   "cell_type": "code",
<<<<<<< HEAD
   "execution_count": 111,
=======
   "execution_count": 51,
>>>>>>> 96bc7d4ce0cc275b29aabf5b66b19ee7c06873c9
   "metadata": {},
   "outputs": [
    {
     "data": {
      "text/html": [
       "<div>\n",
       "<style scoped>\n",
       "    .dataframe tbody tr th:only-of-type {\n",
       "        vertical-align: middle;\n",
       "    }\n",
       "\n",
       "    .dataframe tbody tr th {\n",
       "        vertical-align: top;\n",
       "    }\n",
       "\n",
       "    .dataframe thead th {\n",
       "        text-align: right;\n",
       "    }\n",
       "</style>\n",
       "<table border=\"1\" class=\"dataframe\">\n",
       "  <thead>\n",
       "    <tr style=\"text-align: right;\">\n",
       "      <th></th>\n",
       "      <th>word</th>\n",
       "      <th>appears_in</th>\n",
       "      <th>count</th>\n",
       "      <th>rank</th>\n",
       "      <th>pct_total</th>\n",
       "      <th>cul_pct_total</th>\n",
       "      <th>appears_in_pct</th>\n",
       "    </tr>\n",
       "  </thead>\n",
       "  <tbody>\n",
       "    <tr>\n",
<<<<<<< HEAD
       "      <th>38895</th>\n",
=======
       "      <th>38896</th>\n",
>>>>>>> 96bc7d4ce0cc275b29aabf5b66b19ee7c06873c9
       "      <td>delicious...and</td>\n",
       "      <td>1</td>\n",
       "      <td>1</td>\n",
       "      <td>38898.0</td>\n",
       "      <td>0.000003</td>\n",
       "      <td>0.999949</td>\n",
       "      <td>0.000131</td>\n",
       "    </tr>\n",
       "    <tr>\n",
       "      <th>38903</th>\n",
       "      <td>(turkey,</td>\n",
       "      <td>1</td>\n",
       "      <td>1</td>\n",
       "      <td>38899.0</td>\n",
       "      <td>0.000003</td>\n",
       "      <td>0.999951</td>\n",
       "      <td>0.000131</td>\n",
       "    </tr>\n",
       "    <tr>\n",
<<<<<<< HEAD
       "      <th>38897</th>\n",
=======
       "      <th>38898</th>\n",
>>>>>>> 96bc7d4ce0cc275b29aabf5b66b19ee7c06873c9
       "      <td>romaine</td>\n",
       "      <td>1</td>\n",
       "      <td>1</td>\n",
       "      <td>38900.0</td>\n",
       "      <td>0.000003</td>\n",
       "      <td>0.999954</td>\n",
       "      <td>0.000131</td>\n",
       "    </tr>\n",
       "    <tr>\n",
<<<<<<< HEAD
       "      <th>38899</th>\n",
=======
       "      <th>38902</th>\n",
>>>>>>> 96bc7d4ce0cc275b29aabf5b66b19ee7c06873c9
       "      <td>rib,</td>\n",
       "      <td>1</td>\n",
       "      <td>1</td>\n",
       "      <td>38901.0</td>\n",
       "      <td>0.000003</td>\n",
       "      <td>0.999957</td>\n",
       "      <td>0.000131</td>\n",
       "    </tr>\n",
       "    <tr>\n",
<<<<<<< HEAD
       "      <th>38901</th>\n",
=======
       "      <th>38899</th>\n",
>>>>>>> 96bc7d4ce0cc275b29aabf5b66b19ee7c06873c9
       "      <td>predictably,</td>\n",
       "      <td>1</td>\n",
       "      <td>1</td>\n",
       "      <td>38902.0</td>\n",
       "      <td>0.000003</td>\n",
       "      <td>0.999959</td>\n",
       "      <td>0.000131</td>\n",
       "    </tr>\n",
       "    <tr>\n",
<<<<<<< HEAD
       "      <th>38900</th>\n",
=======
       "      <th>38897</th>\n",
>>>>>>> 96bc7d4ce0cc275b29aabf5b66b19ee7c06873c9
       "      <td>blts</td>\n",
       "      <td>1</td>\n",
       "      <td>1</td>\n",
       "      <td>38903.0</td>\n",
       "      <td>0.000003</td>\n",
       "      <td>0.999962</td>\n",
       "      <td>0.000131</td>\n",
       "    </tr>\n",
       "    <tr>\n",
<<<<<<< HEAD
       "      <th>38902</th>\n",
=======
       "      <th>38900</th>\n",
>>>>>>> 96bc7d4ce0cc275b29aabf5b66b19ee7c06873c9
       "      <td>(+</td>\n",
       "      <td>1</td>\n",
       "      <td>1</td>\n",
       "      <td>38904.0</td>\n",
       "      <td>0.000003</td>\n",
       "      <td>0.999965</td>\n",
       "      <td>0.000131</td>\n",
       "    </tr>\n",
       "    <tr>\n",
<<<<<<< HEAD
       "      <th>38898</th>\n",
=======
       "      <th>38901</th>\n",
>>>>>>> 96bc7d4ce0cc275b29aabf5b66b19ee7c06873c9
       "      <td>turkey)</td>\n",
       "      <td>1</td>\n",
       "      <td>1</td>\n",
       "      <td>38905.0</td>\n",
       "      <td>0.000003</td>\n",
       "      <td>0.999968</td>\n",
       "      <td>0.000131</td>\n",
       "    </tr>\n",
       "    <tr>\n",
       "      <th>38904</th>\n",
       "      <td>(pork)</td>\n",
       "      <td>1</td>\n",
       "      <td>1</td>\n",
       "      <td>38906.0</td>\n",
       "      <td>0.000003</td>\n",
       "      <td>0.999970</td>\n",
       "      <td>0.000131</td>\n",
       "    </tr>\n",
       "    <tr>\n",
<<<<<<< HEAD
       "      <th>38906</th>\n",
=======
       "      <th>38905</th>\n",
>>>>>>> 96bc7d4ce0cc275b29aabf5b66b19ee7c06873c9
       "      <td>roomier</td>\n",
       "      <td>1</td>\n",
       "      <td>1</td>\n",
       "      <td>38907.0</td>\n",
       "      <td>0.000003</td>\n",
       "      <td>0.999973</td>\n",
       "      <td>0.000131</td>\n",
       "    </tr>\n",
       "    <tr>\n",
       "      <th>38907</th>\n",
       "      <td>pine</td>\n",
       "      <td>1</td>\n",
       "      <td>1</td>\n",
       "      <td>38908.0</td>\n",
       "      <td>0.000003</td>\n",
       "      <td>0.999976</td>\n",
       "      <td>0.000131</td>\n",
       "    </tr>\n",
       "    <tr>\n",
<<<<<<< HEAD
       "      <th>38905</th>\n",
=======
       "      <th>38906</th>\n",
>>>>>>> 96bc7d4ce0cc275b29aabf5b66b19ee7c06873c9
       "      <td>windowed</td>\n",
       "      <td>1</td>\n",
       "      <td>1</td>\n",
       "      <td>38909.0</td>\n",
       "      <td>0.000003</td>\n",
       "      <td>0.999978</td>\n",
       "      <td>0.000131</td>\n",
       "    </tr>\n",
       "    <tr>\n",
<<<<<<< HEAD
       "      <th>38908</th>\n",
=======
       "      <th>38909</th>\n",
>>>>>>> 96bc7d4ce0cc275b29aabf5b66b19ee7c06873c9
       "      <td>irregular.</td>\n",
       "      <td>1</td>\n",
       "      <td>1</td>\n",
       "      <td>38910.0</td>\n",
       "      <td>0.000003</td>\n",
       "      <td>0.999981</td>\n",
       "      <td>0.000131</td>\n",
       "    </tr>\n",
       "    <tr>\n",
<<<<<<< HEAD
       "      <th>38909</th>\n",
=======
       "      <th>38908</th>\n",
>>>>>>> 96bc7d4ce0cc275b29aabf5b66b19ee7c06873c9
       "      <td>responsive.</td>\n",
       "      <td>1</td>\n",
       "      <td>1</td>\n",
       "      <td>38911.0</td>\n",
       "      <td>0.000003</td>\n",
       "      <td>0.999984</td>\n",
       "      <td>0.000131</td>\n",
       "    </tr>\n",
       "    <tr>\n",
<<<<<<< HEAD
       "      <th>38911</th>\n",
=======
       "      <th>38912</th>\n",
>>>>>>> 96bc7d4ce0cc275b29aabf5b66b19ee7c06873c9
       "      <td>cheddar,</td>\n",
       "      <td>1</td>\n",
       "      <td>1</td>\n",
       "      <td>38912.0</td>\n",
       "      <td>0.000003</td>\n",
       "      <td>0.999986</td>\n",
       "      <td>0.000131</td>\n",
       "    </tr>\n",
       "    <tr>\n",
<<<<<<< HEAD
       "      <th>38912</th>\n",
=======
       "      <th>38911</th>\n",
>>>>>>> 96bc7d4ce0cc275b29aabf5b66b19ee7c06873c9
       "      <td>actuality.</td>\n",
       "      <td>1</td>\n",
       "      <td>1</td>\n",
       "      <td>38913.0</td>\n",
       "      <td>0.000003</td>\n",
       "      <td>0.999989</td>\n",
       "      <td>0.000131</td>\n",
       "    </tr>\n",
       "    <tr>\n",
       "      <th>38910</th>\n",
       "      <td>crass.</td>\n",
       "      <td>1</td>\n",
       "      <td>1</td>\n",
       "      <td>38914.0</td>\n",
       "      <td>0.000003</td>\n",
       "      <td>0.999992</td>\n",
       "      <td>0.000131</td>\n",
       "    </tr>\n",
       "    <tr>\n",
       "      <th>38913</th>\n",
       "      <td>restrictions.</td>\n",
       "      <td>1</td>\n",
       "      <td>1</td>\n",
       "      <td>38915.0</td>\n",
       "      <td>0.000003</td>\n",
       "      <td>0.999995</td>\n",
       "      <td>0.000131</td>\n",
       "    </tr>\n",
       "    <tr>\n",
<<<<<<< HEAD
       "      <th>38914</th>\n",
=======
       "      <th>38916</th>\n",
>>>>>>> 96bc7d4ce0cc275b29aabf5b66b19ee7c06873c9
       "      <td>specially,</td>\n",
       "      <td>1</td>\n",
       "      <td>1</td>\n",
       "      <td>38916.0</td>\n",
       "      <td>0.000003</td>\n",
       "      <td>0.999997</td>\n",
       "      <td>0.000131</td>\n",
       "    </tr>\n",
       "    <tr>\n",
<<<<<<< HEAD
       "      <th>38916</th>\n",
=======
       "      <th>38915</th>\n",
>>>>>>> 96bc7d4ce0cc275b29aabf5b66b19ee7c06873c9
       "      <td>digestion,</td>\n",
       "      <td>1</td>\n",
       "      <td>1</td>\n",
       "      <td>38917.0</td>\n",
       "      <td>0.000003</td>\n",
       "      <td>1.000000</td>\n",
       "      <td>0.000131</td>\n",
       "    </tr>\n",
       "  </tbody>\n",
       "</table>\n",
       "</div>"
      ],
      "text/plain": [
       "                  word  appears_in  count     rank  pct_total  cul_pct_total  \\\n",
<<<<<<< HEAD
       "38895  delicious...and           1      1  38898.0   0.000003       0.999949   \n",
       "38903         (turkey,           1      1  38899.0   0.000003       0.999951   \n",
       "38897          romaine           1      1  38900.0   0.000003       0.999954   \n",
       "38899             rib,           1      1  38901.0   0.000003       0.999957   \n",
       "38901     predictably,           1      1  38902.0   0.000003       0.999959   \n",
       "38900             blts           1      1  38903.0   0.000003       0.999962   \n",
       "38902               (+           1      1  38904.0   0.000003       0.999965   \n",
       "38898          turkey)           1      1  38905.0   0.000003       0.999968   \n",
       "38904           (pork)           1      1  38906.0   0.000003       0.999970   \n",
       "38906          roomier           1      1  38907.0   0.000003       0.999973   \n",
       "38907             pine           1      1  38908.0   0.000003       0.999976   \n",
       "38905         windowed           1      1  38909.0   0.000003       0.999978   \n",
       "38908       irregular.           1      1  38910.0   0.000003       0.999981   \n",
       "38909      responsive.           1      1  38911.0   0.000003       0.999984   \n",
       "38911         cheddar,           1      1  38912.0   0.000003       0.999986   \n",
       "38912       actuality.           1      1  38913.0   0.000003       0.999989   \n",
       "38910           crass.           1      1  38914.0   0.000003       0.999992   \n",
       "38913    restrictions.           1      1  38915.0   0.000003       0.999995   \n",
       "38914       specially,           1      1  38916.0   0.000003       0.999997   \n",
       "38916       digestion,           1      1  38917.0   0.000003       1.000000   \n",
       "\n",
       "       appears_in_pct  \n",
       "38895        0.000131  \n",
       "38903        0.000131  \n",
       "38897        0.000131  \n",
       "38899        0.000131  \n",
       "38901        0.000131  \n",
       "38900        0.000131  \n",
       "38902        0.000131  \n",
       "38898        0.000131  \n",
       "38904        0.000131  \n",
       "38906        0.000131  \n",
       "38907        0.000131  \n",
       "38905        0.000131  \n",
       "38908        0.000131  \n",
       "38909        0.000131  \n",
       "38911        0.000131  \n",
       "38912        0.000131  \n",
       "38910        0.000131  \n",
       "38913        0.000131  \n",
       "38914        0.000131  \n",
       "38916        0.000131  "
      ]
     },
     "execution_count": 111,
=======
       "38896  delicious...and           1      1  38898.0   0.000003       0.999949   \n",
       "38903         (turkey,           1      1  38899.0   0.000003       0.999951   \n",
       "38898          romaine           1      1  38900.0   0.000003       0.999954   \n",
       "38902             rib,           1      1  38901.0   0.000003       0.999957   \n",
       "38899     predictably,           1      1  38902.0   0.000003       0.999959   \n",
       "38897             blts           1      1  38903.0   0.000003       0.999962   \n",
       "38900               (+           1      1  38904.0   0.000003       0.999965   \n",
       "38901          turkey)           1      1  38905.0   0.000003       0.999968   \n",
       "38904           (pork)           1      1  38906.0   0.000003       0.999970   \n",
       "38905          roomier           1      1  38907.0   0.000003       0.999973   \n",
       "38907             pine           1      1  38908.0   0.000003       0.999976   \n",
       "38906         windowed           1      1  38909.0   0.000003       0.999978   \n",
       "38909       irregular.           1      1  38910.0   0.000003       0.999981   \n",
       "38908      responsive.           1      1  38911.0   0.000003       0.999984   \n",
       "38912         cheddar,           1      1  38912.0   0.000003       0.999986   \n",
       "38911       actuality.           1      1  38913.0   0.000003       0.999989   \n",
       "38910           crass.           1      1  38914.0   0.000003       0.999992   \n",
       "38913    restrictions.           1      1  38915.0   0.000003       0.999995   \n",
       "38916       specially,           1      1  38916.0   0.000003       0.999997   \n",
       "38915       digestion,           1      1  38917.0   0.000003       1.000000   \n",
       "\n",
       "       appears_in_pct  \n",
       "38896        0.000131  \n",
       "38903        0.000131  \n",
       "38898        0.000131  \n",
       "38902        0.000131  \n",
       "38899        0.000131  \n",
       "38897        0.000131  \n",
       "38900        0.000131  \n",
       "38901        0.000131  \n",
       "38904        0.000131  \n",
       "38905        0.000131  \n",
       "38907        0.000131  \n",
       "38906        0.000131  \n",
       "38909        0.000131  \n",
       "38908        0.000131  \n",
       "38912        0.000131  \n",
       "38911        0.000131  \n",
       "38910        0.000131  \n",
       "38913        0.000131  \n",
       "38916        0.000131  \n",
       "38915        0.000131  "
      ]
     },
     "execution_count": 51,
>>>>>>> 96bc7d4ce0cc275b29aabf5b66b19ee7c06873c9
     "metadata": {},
     "output_type": "execute_result"
    }
   ],
   "source": [
    "wc.tail(20)"
   ]
  },
  {
   "cell_type": "code",
<<<<<<< HEAD
   "execution_count": 112,
=======
   "execution_count": 52,
>>>>>>> 96bc7d4ce0cc275b29aabf5b66b19ee7c06873c9
   "metadata": {},
   "outputs": [
    {
     "data": {
      "text/plain": [
       "count    38917.000000\n",
       "mean         0.001142\n",
       "std          0.006126\n",
       "min          0.000131\n",
       "25%          0.000131\n",
       "50%          0.000131\n",
       "75%          0.000394\n",
       "max          0.320116\n",
       "Name: appears_in_pct, dtype: float64"
      ]
     },
<<<<<<< HEAD
     "execution_count": 112,
=======
     "execution_count": 52,
>>>>>>> 96bc7d4ce0cc275b29aabf5b66b19ee7c06873c9
     "metadata": {},
     "output_type": "execute_result"
    }
   ],
   "source": [
    "wc['appears_in_pct'].describe()"
   ]
  },
  {
   "cell_type": "code",
<<<<<<< HEAD
   "execution_count": 113,
=======
   "execution_count": 53,
>>>>>>> 96bc7d4ce0cc275b29aabf5b66b19ee7c06873c9
   "metadata": {},
   "outputs": [
    {
     "data": {
      "image/png": "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\n",
      "text/plain": [
       "<Figure size 720x432 with 1 Axes>"
      ]
     },
     "metadata": {},
     "output_type": "display_data"
    }
   ],
   "source": [
    "# Frequency of appears in documents\n",
    "sns.distplot(wc['appears_in_pct']);"
   ]
  },
  {
   "cell_type": "code",
<<<<<<< HEAD
   "execution_count": 114,
=======
   "execution_count": 54,
>>>>>>> 96bc7d4ce0cc275b29aabf5b66b19ee7c06873c9
   "metadata": {},
   "outputs": [
    {
     "data": {
      "image/png": "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\n",
      "text/plain": [
       "<Figure size 720x432 with 1 Axes>"
      ]
     },
     "metadata": {},
     "output_type": "display_data"
    }
   ],
   "source": [
    "# Tree-Map w/ Words that appear in a least 2.5% of documents. \n",
    "\n",
    "wc = wc[wc['appears_in_pct'] >= 0.025]\n",
    "\n",
    "sns.distplot(wc['appears_in_pct']);"
   ]
  },
  {
   "cell_type": "code",
<<<<<<< HEAD
   "execution_count": 115,
=======
   "execution_count": 55,
>>>>>>> 96bc7d4ce0cc275b29aabf5b66b19ee7c06873c9
   "metadata": {},
   "outputs": [
    {
     "data": {
      "text/plain": [
       "(281, 7)"
      ]
     },
<<<<<<< HEAD
     "execution_count": 115,
=======
     "execution_count": 55,
>>>>>>> 96bc7d4ce0cc275b29aabf5b66b19ee7c06873c9
     "metadata": {},
     "output_type": "execute_result"
    }
   ],
   "source": [
    "wc.shape"
   ]
  },
  {
   "cell_type": "code",
<<<<<<< HEAD
   "execution_count": 116,
=======
   "execution_count": 56,
>>>>>>> 96bc7d4ce0cc275b29aabf5b66b19ee7c06873c9
   "metadata": {},
   "outputs": [
    {
     "name": "stdout",
     "output_type": "stream",
     "text": [
      "wolf\n",
      "wolv\n"
     ]
    }
   ],
   "source": [
    "from nltk.stem import PorterStemmer\n",
    "\n",
    "ps = PorterStemmer()\n",
    "\n",
    "words = [\"wolf\", \"wolves\"]\n",
    "\n",
    "for word in words:\n",
    "    print(ps.stem(word))"
   ]
  },
  {
   "cell_type": "code",
<<<<<<< HEAD
   "execution_count": 117,
=======
   "execution_count": 57,
>>>>>>> 96bc7d4ce0cc275b29aabf5b66b19ee7c06873c9
   "metadata": {},
   "outputs": [
    {
     "name": "stderr",
     "output_type": "stream",
     "text": [
<<<<<<< HEAD
      "C:\\Users\\J8015\\anaconda3\\envs\\U4S12-NLP\\lib\\site-packages\\ipykernel_launcher.py:3: FutureWarning: The Panel class is removed from pandas. Accessing it from the top-level namespace will also be removed in the next version\n",
      "  This is separate from the ipykernel package so we can avoid doing imports until\n",
      "C:\\Users\\J8015\\anaconda3\\envs\\U4S12-NLP\\lib\\site-packages\\tqdm\\std.py:668: FutureWarning: The Panel class is removed from pandas. Accessing it from the top-level namespace will also be removed in the next version\n",
=======
      "C:\\Users\\J8015\\anaconda3\\envs\\u4s1-nlp\\lib\\site-packages\\ipykernel_launcher.py:3: FutureWarning: The Panel class is removed from pandas. Accessing it from the top-level namespace will also be removed in the next version\n",
      "  This is separate from the ipykernel package so we can avoid doing imports until\n",
      "C:\\Users\\J8015\\anaconda3\\envs\\u4s1-nlp\\lib\\site-packages\\tqdm\\std.py:668: FutureWarning: The Panel class is removed from pandas. Accessing it from the top-level namespace will also be removed in the next version\n",
>>>>>>> 96bc7d4ce0cc275b29aabf5b66b19ee7c06873c9
      "  from pandas import Panel\n"
     ]
    }
   ],
   "source": [
    "#Use tqdm progess_apply\n",
    "\n",
    "from pandas import Panel\n",
    "from tqdm import tqdm\n",
    "tqdm.pandas()"
   ]
  },
  {
   "cell_type": "code",
<<<<<<< HEAD
   "execution_count": 118,
=======
   "execution_count": 58,
>>>>>>> 96bc7d4ce0cc275b29aabf5b66b19ee7c06873c9
   "metadata": {},
   "outputs": [
    {
     "name": "stderr",
     "output_type": "stream",
     "text": [
<<<<<<< HEAD
      "100%|██████████| 7616/7616 [00:12<00:00, 591.95it/s]\n"
=======
      "100%|█████████████████████████████████████████████████████████████████████████████| 7616/7616 [00:10<00:00, 737.06it/s]\n"
>>>>>>> 96bc7d4ce0cc275b29aabf5b66b19ee7c06873c9
     ]
    },
    {
     "data": {
      "text/html": [
       "<div>\n",
       "<style scoped>\n",
       "    .dataframe tbody tr th:only-of-type {\n",
       "        vertical-align: middle;\n",
       "    }\n",
       "\n",
       "    .dataframe tbody tr th {\n",
       "        vertical-align: top;\n",
       "    }\n",
       "\n",
       "    .dataframe thead th {\n",
       "        text-align: right;\n",
       "    }\n",
       "</style>\n",
       "<table border=\"1\" class=\"dataframe\">\n",
       "  <thead>\n",
       "    <tr style=\"text-align: right;\">\n",
       "      <th></th>\n",
       "      <th>coffee_shop_name</th>\n",
       "      <th>num_rate</th>\n",
       "      <th>date_rev</th>\n",
       "      <th>text_rev</th>\n",
       "      <th>token_rev</th>\n",
       "      <th>word_rate</th>\n",
       "      <th>good</th>\n",
       "      <th>bad</th>\n",
       "      <th>stems</th>\n",
       "    </tr>\n",
       "  </thead>\n",
       "  <tbody>\n",
       "    <tr>\n",
       "      <th>0</th>\n",
       "      <td>The Factory - Cafe With a Soul</td>\n",
       "      <td>5</td>\n",
       "      <td>11/25/2016</td>\n",
       "      <td>1 check-in Love love loved the atmosphere! Eve...</td>\n",
       "      <td>[check-in, love, love, loved, atmosphere!, cor...</td>\n",
       "      <td>good</td>\n",
       "      <td>True</td>\n",
       "      <td>False</td>\n",
       "      <td>[check-in, love, love, love, atmosphere!, corn...</td>\n",
       "    </tr>\n",
       "    <tr>\n",
       "      <th>1</th>\n",
       "      <td>The Factory - Cafe With a Soul</td>\n",
       "      <td>4</td>\n",
       "      <td>12/2/2016</td>\n",
       "      <td>Listed in Date Night: Austin, Ambiance in Aust...</td>\n",
       "      <td>[listed, date, night:, austin,, ambiance, aust...</td>\n",
       "      <td>good</td>\n",
       "      <td>True</td>\n",
       "      <td>False</td>\n",
       "      <td>[list, date, night:, austin,, ambianc, austin,...</td>\n",
       "    </tr>\n",
       "  </tbody>\n",
       "</table>\n",
       "</div>"
      ],
      "text/plain": [
       "                  coffee_shop_name num_rate    date_rev  \\\n",
       "0  The Factory - Cafe With a Soul         5  11/25/2016   \n",
       "1  The Factory - Cafe With a Soul         4   12/2/2016   \n",
       "\n",
       "                                            text_rev  \\\n",
       "0  1 check-in Love love loved the atmosphere! Eve...   \n",
       "1  Listed in Date Night: Austin, Ambiance in Aust...   \n",
       "\n",
       "                                           token_rev word_rate  good    bad  \\\n",
       "0  [check-in, love, love, loved, atmosphere!, cor...      good  True  False   \n",
       "1  [listed, date, night:, austin,, ambiance, aust...      good  True  False   \n",
       "\n",
       "                                               stems  \n",
       "0  [check-in, love, love, love, atmosphere!, corn...  \n",
       "1  [list, date, night:, austin,, ambianc, austin,...  "
      ]
     },
<<<<<<< HEAD
     "execution_count": 118,
=======
     "execution_count": 58,
>>>>>>> 96bc7d4ce0cc275b29aabf5b66b19ee7c06873c9
     "metadata": {},
     "output_type": "execute_result"
    }
   ],
   "source": [
    "shops['stems']= shops.token_rev.progress_apply(lambda x:[ps.stem(word) for word in x])\n",
    "shops.head(2)"
   ]
  },
  {
   "cell_type": "code",
<<<<<<< HEAD
   "execution_count": 119,
=======
   "execution_count": 59,
>>>>>>> 96bc7d4ce0cc275b29aabf5b66b19ee7c06873c9
   "metadata": {},
   "outputs": [
    {
     "data": {
<<<<<<< HEAD
      "image/png": "iVBORw0KGgoAAAANSUhEUgAAAjwAAAFUCAYAAAAgQOYwAAAABHNCSVQICAgIfAhkiAAAAAlwSFlzAAALEgAACxIB0t1+/AAAADh0RVh0U29mdHdhcmUAbWF0cGxvdGxpYiB2ZXJzaW9uMy4yLjIsIGh0dHA6Ly9tYXRwbG90bGliLm9yZy+WH4yJAAAgAElEQVR4nO3dd5gddaH/8fectr1vsumNkNBJCAkgoTcLKkgRAeV6RbD9VNQL4hXLVREBuXbxoggWpEr3ekFAiobeQgkJBNKzm832fs6Z+f2RuBBSBEz2hNn363nycM7M98z5fDd52M+ZmTMTRFEUIUmSFGOJQgeQJEna1iw8kiQp9iw8kiQp9iw8kiQp9iw8kiQp9iw8kiQp9lJbWjnQ0UOYzQ1VFr3N9QUhuTBf6Bh6gxKJJFHoVSmGkyCA0CuRDDtVxSmSQaFTDI1EWeVm122x8ITZHPecctFWD6R42vvKz3H88R8rdAy9Qdff8CtO/9DnCh1DQ+iyq37ISSd8vNAxNMTuuP3X9F9zSaFjDImSj/3XZtd5SEuSJMWehUeSJMWehUeSJMWehUeSJMWehUeSJMWehUeSJMWehUeSJMWehUeSJMWehUeSJMWehUeSJMWehUeSJMWehUeSJMWehUeSJMWehUeSJMWehUeSJMWehUeSJMWehUeSJMWehUeSpNdpbV9BZ3dzoWNoK7LwSJKk2EsVOoAkSW9U/0A37Z2NpJIZsvl+AgJqqsaSSmZo72pkYKCHiIhMqpiqilEkEkmyuT7aOlYTRnkAKkrrKC2p3uy20qmiAs9S24KFR1LsrWlfQSZVRFVZfaGjaCvI5vqoqmigKFNGd08Lre0rKC6qICBgRO1kgiCgvbORjq4mqipGsbZtGVXlDZQUV5LPZ2lqeZlkMrPZbY2sm1LgGWpbsPBIir0RVWMLHUFbUTpVTFGmDIDSkhraOlcTRiEA/QNdAERRRCKRIpcfIIoiSoorAUgm05QUVdI/0EVRpmyT28qHuQLMStuahUdSbHT3ddDcsYJ0qoj+bC9RFDGqZiJt3c0UpUuoqxhFb38XjW3LCKM8QZBgZNU4yoor6c/20ti2bP0vu4ia8gaq3SP0NhAN/re6YhTFRRUAhGFIREiY31R5iYiiaJPLAQKCbZJUhWXhkRQrvQPdNFRPpDhTytrO1axpXzF4TkYUhSxf+xKjayZSXlJN30A3q1peYVLDzqxY+xJjaidTnCkjH+ZY0rSAolQxJUXlBZ6RXi+b6yOb7SOdLqa7t41MuoRMupSunlaKMuv+vto6VhIkElRXjCYgoLevY/CQVm9/J7Xr9/ptaluJRLKQ09M2YuGRFCvpZBHFmVIAitOldHSvHVzXn+0lCKC8pHrd+kwZk0ftSn+2l2yun1WtrwyOjaKQvmyPhWc7lEyk6OhqIhdmSSaS1FSNJZlI0d7ZSNPaxUBEOlVMVXkDQRBQVz2ets7VdHSvgSiisqyeokwZ/QPdm9yW4snCIylWgmDDwxERrz10sfGhiv5sLxERiUSSyQ27Di7P5bN+0t9OBUGSupoJGy2vrhy9yfHpdDEjaie9qW1ZfOLH6/BIGjYy6WIgoLuvHYC+gW6WrnmBolQxQZCgff3eoGxugJcbn6VvoLuAaSVtTe7hkTRsJIIEY+t2oKltGU3tywkIGFu3A0GQYFzdVBrbltLStZooiqivHEPp+hNgtf0oypTRUL/Ddrctbf8sPJJio6y4kimjdtvsc4CSTBkTR+600WuLM6WbXC4pHjykJUmSYs/CI0mSYs/Co2GrpXUpYZijpW0ZuVx/oeNIkrYhz+HRsDWQ7QGgtnp8gZNIkrY1C4+GpfaOVQC0tC4jl++nrmYiYRTS1bWGZDJNLj9AECQoK62lp6eVXH6A4qIKKisaAOjr76S7ey0REUGQoKJ8JJl0SSGnJEnaAg9paViqWn+Bstqa8SQSr/b+bK6PstI66msnEwQJurtbqKkeT33tJHp6W8nns+RyA3R1Na9fPpnKilG0tS8fvHmhJGn74x4e6TWSyTTpdDEAqWSaIJUkCAKCIEUQJAmjkOxAD/kwR0vb0te8MiCfGyCx/rWSpO2LhUd6jTdyl+SIiKJMKdWvufR8Pp/dYE+RJGn74iEtDWtR9M/HvN4/bjr4j2929fd30dzyMtFb2ZgkaUj4kVTDVnFRBS1tS950UUmliqiqGEVbx8rBZTVV40gk/PwgSdsrC4+GrepN3A25qG7K4OPKilEbrGsYsePg4+LiSoqLK7ddOEnSVuVHUkmSFHsWHkmSFHsWHkmStE398amXuOaJRQBc98SLXP7g80OewXN4JEnSNvXEimam1lcBcMLMqQXJYOGRJEkbCaOIi+5+gvkr19IzkCOKIr72ztn88enFTK2v4rQ5OwFw3p8eGnx+7RMvcv2TL5JKJihKJfnqkXuzpKWTe19cyYOvNFKUStLa009bbz/nHjGLd116K+/bbTIPL21kdUcPR+86iU8fsPs2mc+wLDyLepu4Ye3jfHncO7fK9r657DY+OvIdTCiq3eK4X6y+j/fX7smoTNVWeV9JejOSyQRXX3dZoWPobWL+yrWs6erlN6ceTiIIuPzB5/n1QwuoKslscnw+DLno7if405lHM6K8hNuefYUnljdz/IwduOfFFUytr+KkvXbk5w88s8HrerM5fn3yYTR29vC+y/7EMbtPZmx1+Vafz7AsPIVy5qgDCx1B0jAWhPD1j3690DE0xH58zXfe0uv2HFtPVXGG6598ieVtXTy6tInSTHqzhSeZSHDE9PGc9vu7OGDKaN4xeRTv2nnCP32fg6euu0RIQ0UptaVFtPcNsPFFQ/51w6LwPNi5mL+2LyQgoDxZxJzySfRHOa5smkdjtpNclOeD9XuzQ/EIclGeW1ue5qW+NYREjM3UcFzdTIoTaZqynVzb/Chd+X4CAo6o3pm9yl/9y+wPs/xi9f1MKq7jfbV7bpTjH3uC+sMcf2qdT12qnFXZdvJRyIn1ezOluH4ofyySJG3WfS+t5KK7nuDDs6dz8NSxTKqt4PbnlhCw4VXqs/lXb5x8/tH78uKaNh5c0sjlDz3Pbc8u4aL3v2OL71OUSm7wfFtdtD7239Ja0d/GrS3zOXPUgZwz7ih2LR3Dne3P057r5aDKaZw99kjeUTGFP7c+C8Bf2haQCBJ8ccwRnD32KKqSxdza8jQAv2max4yy8Xx53Ds5Y9QB3N46n74wC0BfmOXS1fexS+noTZad11vS38LBVdP4j7FHsk/FZG5vnb/tfgiSJL1JD76ymgN3GMOJM6eyy6ga7lm0gjCKqCkt5rnVLQA0dfby2LI1ALT29HPUz2+hqqSIU/eezmfm7s6z68elgoBcGG72vYZC7PfwLOxrZKeSBmpSpQAcXDWNsZlqrl37GJOK6wAYm6nhoc5XAHiuZxW94QAv9DYCkI9CypNFdOf7WTHQzr4VkwGoSZVy3vj3DL7P79Y8RIIEB1buyBtRkyplXFENAOMyNTy8/v0lSdoenDBjKl++dR7HX/5n8mHIvpNHcdcLy/nOe/blq7c/xPsv+xNjqsqYM2EkADWlRXx8v10485q/UpRKkkwEfO2ovQHYf8povn/Pk4WcTvwLT4JggztgD4Q5mrIdJF93V+yIdfvQQiKOrZvJLqWjgXWHqbJRSDJYtzPstdtqHOgYLFJHVu/Cot4mbm19muPq9mJpfwtXNz86OPbssUdu8H7p4HW78PDGk5Kk7cfkukqu+bejNlh2zmF7AXD5yYdu8jXHz5jK8TM2/tr54dPHc/j08Rst/99PvHeLz7em2B/S2rFkJAv7GmnP9QLw987F3LL+ENWm7FTSwAMdL5KL8oRRxNXNj3Jby9MUJ9KMz9TwcNcrALTmevjRqrsHD2lNKKrlhPpZPNm9nAU9q5lQVMvZY48c/CNJkgon9nt4xmSqeV/tnvyi8T4AKpMlnFg/izvbNn2VxyOrd+GWlqe4eMWd609aruaYuhkAfHjkPlzf/Dj3dywCAj5YP5vKVMnga8uTRRxftxd/aH6Ec8YeRWly02eyS9uDTDrN5df8uNAxNJSi4J+PkWIq9oUHYO/yiexdPnGDZbNe83zHkpGD1+TJJFIcXz9rk9sZka7gk6MP2mj518cfPfh4z7Jx7Fk2bpOvf+24114D6LXvLw2VsrIiwpXPFjqGhlBP+Q6FjiAVTOwPaUmSJFl4JElS7Fl4JElS7Fl4JElS7Fl4JElS7Fl4JElS7Fl4JElS7Fl4JElS7Fl4JElS7Fl4JElS7Fl4JElS7Fl4JEmx0NrbwkNL521xzMsti1nT3QRAR187C9Zs+kbSih8LjyRp2GjtbSGKIgC6B7rpz/UXOJGGyrC4W7okafjoGejmheYXyIc5+vMDVGTK2bVhd1Z1rqSzv5MX1y4iH4Usbn2JXJjjuaZn2WXkroWOrW3MwiNJipWVHSsZXTGaURWjCaOQR5Y/zNqeZsZVjaepq5FxVeMZWd4AUURTd5NlZ5iw8EiSYmWHuqm09LawpPUVerI9DOT6yYf5QsdSgVl4JEmx8mzjM0SEjCxvoK6snr5cX6EjaTvgScuSpFhp6V3LpJopNJSPAqCjv52IdScqB0GCMPrH44AoCguWU0PLPTySpFiZUrsD81c/TTKRIJVIUVNcQ2+2F4D60noWt7xIFIVUlVTzcuti5q9+it1H7Vng1NrWLDySpFioKallnwn7ATCuavwmx4yvnsD46gmDz/ebsP+QZFPhWXi01aTTSW74468KHUNvUFDoAJI0hCw82moqi1MMPHBdoWPoDUocchp+b0XScOFJy5Ji6dmFi/nCt35Q6BiSthMWHkmxtOu0KVxy3ucLHUPSdsJDWpJi6ZGnnuP8n17B73/4X5z/0yt48rmFJJNJDt1vFp/96AfJ5fJc8qs/8Nj858nnQ3aaOolzP/kRystKCx1d0jbgHh5JsfaT31zHQDbLzZddzPU/+y5PPLeQR59+nl9ecwupZIJrfvIdbrj0AkbWVvODy68udFxJ24h7eCTF2oNPPMN/nHEqyWSCZDLBFRd/DYBLfnkVnd09zHv8GQCyuRy11ZWFjCppG7LwSIq1VDJJELz6JfzVTWspLs6QD0PO+eRHOGD2DAB6evvoHxgoVExJ25iHtCTF2r4zd+OWO+8jDEMGBrJ84ds/4NGnn2f/WXvwh1vuIJvNEYYh3/jBZfzw8msKHVfSNuIeHkmx9olTP8D3fv4bjvvkuYRhyDsP2pfD585h7uwZXHzZ7znhU+eSD0N22mEiXzrjlELHlbSNWHgkxdLsPXfhxv+5EIBvnnXGRuuLizJ89TMfHepYkgrEQ1qSJCn2LDySJCn2LDySJCn2LDySJCn2LDySJCn2LDySJCn2LDySJCn2LDySJCn2LDySJCn2LDySJCn2vLWEJA0TyUTA+Vd+u9AxhqUgKOSbJyg66YsFDLB9sPBI0jCRDuGhU79f6BjD0qE3f4Xs8/cU5L3z6/8MB0Uz37PZdR7SkiRJsWfhkSRJsWfhkSRJsWfhkSRJsbflk5aDgIN/86UhiqK3v0J+DUGSpM3bYuHJRRGXfux7Q5VFb3NnXXNuoSNIkrRJHtKSJEmxZ+GRJEmxZ+GRJEmxZ+GRJEmxZ+GRJEmxZ+GRJEmx581DpWEsPXa3QkfQEOpv7yt0BKlgLDzSMBUN9DFw/Q8KHUND6d2fL3QCqWA8pCVJkmLPPTwaVm6cN5/f3P0YyURAdVkJ3/7wO3nguVe46t7HSQYJaitLOfeEQ5k0spbzfvtnijMpFq1sZm1nDwfvPoXqshLufeYlmjt6+PqHjmSf6RPI5vL84Ob7ePTF5YRhxE7jRnLO8YdQXlJU6OlKktZzD4+GjReWN/HDW+7n55/6ANefexoH774DH//x9Vzxl0f45f87kevO/QjvnrUTZ112M1EUAfD88iYu++wJ/PrzH+Q3dz9GSVGa33zhZE45eC8u/8vDAPzqzodJJhNcffapXHfuRxhRVcYPb7m/kFOVJL2Oe3g0bDy0cCn77TSJUTWVAJx6yCzWtHeRSiaprSgF4P377saFN9zDirUdABy02xTSyST1lWWUZNLsv/NkAMbVV9HRve4E0PueWUxnbz8PLlgCQDafp7a8dKinJ0naAguPho1kIkHwmhu69w1kWdbczpRRtRuMi4BcmAcgk0pusC6V3HinaBiFnHPcIczddV0Z6ukfoD+b27rhJUn/Eg9padiYM208D72wlDXtXQBc/7eneeC5l/nzYy/Q0tkDwE0PPkNVaTET6mve8HbfsdMkrr7vCbK5PGEY8c2r7uBHtzywTeYgSXpr3MOjYWPHMSM465gD+dTP/ghAfVUZt339Y9z91CI+/uPrCKOI2vISfvyJY0kkgn+ytVed8c59ueSmeznxe78lDEOmjxvJF489aFtNQ5L0Flh4NKwcPXsXjp69ywbLTjpwJicdOHOjsd/68Ds3eP7g9z87+Pig3XbgoN12AKA4k+YrJx6+DdJKkrYWD2lJkqTYs/BIkqTYs/BIkqTYs/BIkqTYs/BIkqTYs/BIkqTYs/BIkqTYs/BIkgrmD2sf42vLb+eW1vn/8rZ+3vgA8zpf+ddDaZNuuPtBrr7jbwAsb1rLWZf8GoCmlnY+fN6PChntDfHCg5Kkgvlb52K+Ne491KS84e727okFLzN1/CgAVq1p5ZWVawAYWVvFb7/12S29dLtg4ZEkFcQlq+4hAn7WeD8n1u3F7W3P0p0fIAAOq5rGPuWTAHigczF/7VhEgoCKZDEn1s2kIV1BW66X3zY/TFu+j9pUKV35/kJOZ7v2yLMv8t9X3caYETW8vLKJonSab3/qQ1x+8920d/ewvLGZA2fuwmc++C7++/e38ejzLxGGITtNGseX/+1YHnpmIX997BkenP8CxZk0v/3TvTS1tPOJ83/BeaefwAf+40IeuvKCQk9ziyw8kqSC+MLoQ/j0K9fxuVEHc9Gquzi2Zg9mlI2jLdfLRavuYkSqgmyU5872BXxp9GFUJIuY1/kK/9P0N7465iiubXmcSUV1vLdmN5qyXXx35R2FntJ27bnFy/jiqe9j1s5TuPbOv/OVn/6eqeNG09c/wI0XnwPApTf8H8lkgmu++wWCIOCHf7idH/zhNr76seO559FnmTp+FCcdNZcdxo3i/F//kUu/ciYrmloKPLM3xsIjSSqoVdkOslGeGWXjAKhOlTCjdCzP9a4mG+WZVTaeimQRAPtVTOL6lidYm+thQW8Tx9bsCcDIdDnTi0cWbA5vB9MmjmHWzlMAOPaQOZx/+Q3UV1cyc/rkwTH3Pf4cnd19PDh/IQDZXJ7ayvKC5N3aLDySpIIKgIBgg2URkCckJCK1ie/X5AkJ1o/7h0Tg93C2JJV89ecTrf/BJRMJSouLBpfnw4izTzuGA2buDEBPXz/9A9khzbmt+K9DklRQDelKkkHAk93LAWjL9fJkz3J2Lm5gl5JRPNq9lM715+fM63yZsmSGEalydi4Zxd86FwPQkuthYV9TwebwdrDglZUsXLISgOvvmsee0yZRUVqywZh37DGdq+94gGwuRxiGfON/ruWHV98OQDKZIJfPb/T47cI9PJJi6ZEljXz3/x7lsOnjmVBbznt3n8Kl989nekMNh0wbxzMr13LjUy9x3rvmDI794xnvKXTsYSkAzhi5P9etfYLb254jJORdVbswrWTdIapDK6fxo9V/JQQqEkV8YuRcEkHAB+v24nfNj/BfK/5MTbKEcZnqgs5je1dfXcGPrvkTK9e0UFtZwfmfPoWfX/9/G4w587gj+P7vbuXEL3+ffBix08QxfOnU9wMwd8ZOXPzbWwA44fD9KEqnOPk//5sLP/eRIZ/LW2HhkRRrnz5oj8HHjyxpZIf6KgBeam6nsbOnULG03k8nnQBAebKIs0YfsskxB1VO5aDKqRstr0gW8cmGuds0X5yUlRTzk7NP32DZtz/1oQ2eF2cy/Oe/H7fJ1x+xz54csc+eg8+vv/A/Bh9v79/QAguPpJg779Z5TB1RTVEqybOrWrjk7ifoy+X52X1P09Wf5bzbHuR9u0/+5xuS9LZm4ZE0LJy09zTuXLCUk2ZN44idJxBGEXcuWMq3jt6XR5Y0FjqetE3N3nUqN158dqFjFJQnLUuSpNiz8EiSpNiz8EgaNpKJgFwYvvo4HxY4kaShYuGRNGwctOM4fvTXp7jl6cXsMaaeFW1dnHX9fYWOJWkIeNKypFiaPbFho+vqnDJ7OqfMnj74/NZPvm/wsdfgkeLNPTySJCn2LDySJCn2LDySJCn2LDySJCn2LDySJCn2LDySJCn2LDySJCn2LDySJCn2LDySJCn2LDySJCn2LDybsLJnDde/ciePNj/Lwo4lAFy28Ab68v0FTiZJkt4K76W1BXvX71roCJIkaSuw8GzBX1c/Sm2mkj1qpw0u68n18afl97Nz9RR2rd6B1v4O5q15iv78ACERu1VPZXrVpMKFliRJG7HwvAnd2V7uXv0wM2t3YmrlBMIo5C+rHuSQUbOpL65hIJ/l5mX3UJ2poKGkrtBxh1wQJMgccHKhY+iNCvOFTiBJQ8bC8yb8ecXfKEuVsEPFeADaB7rozHZzb+Njg2NyYZ61/W3DsvBEUUj2nisLHUNvUObgDxc6giQNGQvPmzC3YSZPtrzA/NZF7FE7jYiITCLNcRMPHxzTk+sjk0gXMKUkSXo9v6X1JjSU1HHQqL15omUBLf3tVGUqSAZJFnUsBaAr28MNS+6kub+1wEklSdJruYfnTarOVDCzbifuWf0Ix0w4lCPH7se8pqd4uuUFQiJm1e3KqJL6QseUJEmvYeHZhDGlIzh+0hEbLPv4tOMGH+9RM409atZ9c6uuqJqjxx80pPkkSdKb4yEtSZIUexYeSZIUexYeSZIUexYeSZIUexYeSZIUe35LSxq2EmSO+3yhQ+hNioAoit7Sa/PZgHf89ktbN5BIJAIg2OKYiIDMrocOTSBtkoVHGqbCvhzLz/h6oWPoTSr72Xkc84GPFjqGXuPev/4ROldvcUzUA969bttL1U7Y7DoPaUmSpNiz8EiSpNiz8EiSpNiz8EiSpNiz8EiSpNiz8EiSpNiz8EiSpNiz8EiSpNiz8EiSpNiz8EiSpNiz8EiSpNiz8EiSpNiz8EiSpNiz8EiSpNiz8EiSpNiz8EiSpNiz8EiSpNiz8EiSpNiz8EiSpNiz8EiSpNiz8EiSpNiz8EiSpNiz8EiSpNiz8EiSpNiz8EiSpNiz8EhvwGd+eSs3P/x8oWNIkt4iC48kSYq9VKEDSEPt+nnPcNX9T5EMAmorSjn3Awfxq7sepb2nn2XN7Ry4yyROOXBPzvvDX2hq72ZMTQUtXb2Dr1/c2ML3bryP9p4+wjDiQwfsybH77MIjLy7nwhvvo6QoTU9/lqvO+iCZVLKAM5Uk/YOFR8PKQ4uWccXdj/Obz51AbXkJNz/8PGf9+nZ2Hd9A30CWG885BYDPX347u08cxWfetS9L17Rx4vevBiCXD/niFf/L+accwc7jRtLZ289HfnQdOzTUAvDi6hZu/8+PMKa2smBzlCRtzMKjYeXvC5Zy1MwdqS0vAeD9c3bmwpvuY9fxMHPymMFxDy1axhffNxeACSOqmbPjOACWrGlj+dp2vn71XYNj+7J5FqxYw+SGGkZVl1t2JGk7ZOHRsJIPQ9LJDU9di6KIXD6ktCg9uCxYv/wfkokAgDAMKS/OcO2XPjS4bm1nD+XFGZ5espqS12xD28b97au5Ze1SLpoyZ4PlVzYuYkymlCNqxm72tXe0ruD+jka+NXGvbR1TwMBAD93da6ipmVjoKPoX7LrfETzwv9dTU11V6Cj/Ek9a1rCy/04T+fMTiwbPybnp4eeoKishmQw2GnfDg88CsKq1k0deXAHApJE1FKdT3PboAgBWt3Zy3IW/57nlTUM4C23KaQ07brHsSBre3MOjYWW/6RM49aAZfPxnNxJGEbXlJfz49KO58p7HNxh37nEH87Wr/8IxF/yOhupypo+pByCdSvKDf38PF950P1fc8zi5fMin3rUvMyeP4ZEXlxdiSsPClY2LuKdtFRWpNGMzZQBcvHw+nfksKwd62KdiBG25ASYWl3NC/WSOfvZOPlg/mce61tKS6+eE+km8t27CBtu8v301v1q9kG9NmsX4orJCTCtWoiiks7ORfH4ACEiliigqqiCKQjo6Vq1fHlFe3kA6XUIY5unuXkMu1w9AJlNGaWkdQRDQ3LyIkpIaBgZ6gJDS0nqKisoLOb23nQ985EzO/n9nsu/svbj9jrv56ncuZt7/3UhxcRFfO//77LjDZJ55fiELFr1EAMzdbw6f/8S/k0olmXHguzn0gP144cXFfO8bXx7c5pq1LZz+2XP44LFHc/Lx7y/c5N4iC4+GnZPm7sFJc/fYYNm3PnTEBs9ry0v4yenv3eTrp48dwa8+/YGNls+eOo4/nn3K1gsqAP7e0cQDHY38bOo7KEok+MbSJwfX9YV5Lttx3blWFy+fP7g8G4VUptL8YId9WNTbzlmLH+ao1+z9uadtFX9Ys5gLJ89mZKZk6CYTY/39XURRSE3NRKIooquriTDMEoY5SkpqSKeL6e1tpadnLVVV4+juXkMQJKmungBEdHSsore3ldLSdV8ACIIENTUTyOX6aW9fTjpdTCLhr6w36vCD5nL/vEfYd/ZePPDgo1RWVPDYU/N5x5xZ3DfvYVY1rWHKxPHc9Lv/IZvN8umzv8avr7qOj3/kJLLZLAfP3ZdLvnPe4PZWN63hnG9cwBmnfYijjzqsgDN76zykJWm79kTXWuZWNlCaTJEMEhxV/Wpx2a20ZrOv269iJABTiyvJRiF9YR6AhT3tXLh8Pu+pHWfZ2YrS6RLy+QHa2pbT29tKSUk1iUSaZDJNOl0MQDJZRLj+72FgoIeSkiqCICAIEhQXV63fo7NOcfG680VSqSKSyQzZbO/Gb6rNOvygudz/4CNEUcTjT83ntJOOY97Dj/PUM88zfuwYFix8iZOPfz9BEJDJZPjgMUfzwLyHB18/a8buG2zvk1/8T0qKi3nPkYcO9VS2GguPpO1e9JrHyeDV862Kk5u/zlFRYt26YP34f2yjPJniuzWQsoMAAAvsSURBVJNm8buml1g94C/RrSWZTFNTM5HS0hqiKKS9fQVRFLLuKwCbEm3i+avLguD1r9vcdrQp06ZOJpvNcs/985gwfiwHz92Xvz38GPfcP48jDzmAMNzw7yaMInK5/ODz0pINPwx8/ezPk0gEXPmH64dqCludhUfSdm12RT33t6+mK58ljCLualv5L21vTFEZM8rreH/dBC5aPp8wev0vXr0Vvb1tdHU1kk6XUlZWTyZTSj7fv9nxmUwZvb3tRFFEFIX09XWQTpcOru/r6wAgl+sjnx8gnXZv3Jt12EFz+e+f/ZL958xiyqQJdHV1c9sdd3H4wXPZf5+9uer6m4miiIGBAa67+Xb2m7P5by/O2H0Xzj/vbH5xxVUseunlIZzF1mPhkbRdm1MxgiNrxvKZl+bxucUPUpbcOudxfGjEFPrCPNc1vz3/5729KS6uJIqgrW0Jra1LiaKQZLJos+PLykYQRTna2pbS2rqUZDI9eP4OrCs6ra1L6exspKJiNImEVy1/sw4/aH8WL1nGfnNmAbDfnL0YUVfH6IaRfOULn6altY1jTj2DY049g8kTxnPGv528xe1NnjieMz96Cud88wIGstmhmMJWFUTR5j/edK3t4NJ/u2Ao8+ht7KxrziV7z5WFjqE3KLXvKSw/4+uFjqE3qexn53HMBz5a6BjbVHPzImprp7xtSs69f/0jdK4udAwBqdoJm13nHh5JkhR7fsdPkrRdqa/fsdARFEPu4ZEkSbFn4ZEkSbG35UNaiYAzLj97iKJIkiRtG1ssPGEY8r2Pfnuosuht7r+u9Rs/kqTtk4e0JElS7Fl4JElS7Fl4JElS7Fl4JElS7Fl4JElS7Fl4JElS7Fl4JElS7Fl4JElS7Fl4JElS7Fl4JElS7Fl4JElS7Fl4JElS7Fl4JElS7Fl4JElS7Fl4JElS7Fl4JElS7Fl4JElS7Fl4JElS7Fl4JElS7Fl4JElS7Fl4JElS7Fl4JElS7Fl4JElS7Fl4JElS7Fl4JElS7Fl4JElS7KUKHUDxkY8gdfBHCh1Db1Q2Ysyl3yh0iiGVSLz9P+N1EXHTTVcWOka8RdG6P290eBiRrBi9DQNpa7DwaKtp7+7ntJM+VegY0mbd+uffEjYtKnSMf0lZoQMMA1HxeJ46+buFjqG3YPYdF2x23dv/444kSdI/YeGRJEmxZ+GRJEmxZ+GRJEmxZ+GRJEmxZ+GRJEmxZ+GRJEmxZ+GRJEmxZ+GRJEmxZ+GRJEmxZ+GRJEmxZ+GRJEmxZ+GRJEmxZ+GRJEmxZ+GRJEmxZ+GRJEmxZ+GRJEmxZ+GRJEmxZ+GRJEmxZ+GRJEmxZ+GRJEmxZ+GRJEmxZ+HZxu5bMY/+fH+hY0iSNKxZeLaxpp7mQkeQJGnYSxU6wPZgQcsiXulYRiqRpL6kjpVdqxlRUsdAmKU7282osgZ2q9uJp5ufo7l3LVEE1UWVzBixG+lkmpVdjSxoXUQUhfTl+5lYOZ7d6nbikdVPAnDv8nnMHbMPpemSAs9UkqThadgXntXdTSzpWMah4w8gnUjxWNNTg+vyYZ4jJx4CwHNrF5IgwWHjDyQIAuY3P8/8tc8zc8TuLGp7idkNM6jIlNOb6+NPL/+FHasnM3vUDJZ0LuOgcftRlCwq1BQlSRr2LDw9TYytGEMmmQZgh6pJg4eh6kpqB8et6m4kG2Zp7FkDQEhIUbKIIAjYf8wcVnU3sqxzBR0DXURE5MI8Rcmhn48kSdrYsC88AQFEr3keBIOPU4lXfzwREXuO2JXRZQ0A5MIc+ShPLszxl6X3MaZ8FPXFtUyqnMDK7tVDll+SJP1zw/6k5dFlDazoWkU2nwXglfZlmxzXUDqCl9peIYxCoijiscaneKZ5AV3ZbrJhlt3qdmJM+SjW9DYPjoF1hSqMok1uU5IkDY1hv4dnZGk9k6smcPfyB0gFSSozFaQSGx+L2qV2Gk83P8dflt5LFEVUFVWxR/0upBIpRpc18H+v3EMiSFBVVEFlppyubDflmTLGlY/m3uV/Z7/Re1NVVFmAGUqSpGFfeFr62giCgKPWn5y8sPUl8lHI7FEzNxiXTCSZOXL3TW5j74YZm93+PqNnbb2wkiTpLRn2haciXcYLrS/ycvtSAEpTJcxq2KPAqSRJ0tY07AtPOplmv9F7FzqGJEnahob9ScuSJCn+LDySJCn2LDySJCn2LDxSDLR1NtHUurTQMbSdePjJZzjmY58vdAxtJy5o/Bud+f6Nll/U+HdWDHQUIFFhDPuTliVJirNn+po2ufw/Gt4xxEkKy8IjDaHWzkY6u1sIEklKMmV097UzbuR0mtuW05/tIwBKiyuorRxNEAT09nextn0VURQSBAG1laMoLa4kiiKa21fQ09dJMpkilUiR2MQFMzW8dXZ18+0f/ZIXXnqZIAiYO3smnzv9FG7837v467xH+el3vgLA4qXLOf1L3+TOP1zKK8tXccFPL6e9o5N8GHLKse/mA+86rMAz0Vv1i+bHAPhO4wOsyHYwp3QsywbaOaFmV37fMp/PjpjDlKKaAqccGh7SkoZIT18HnT2tjB05jXEjdiSMQgCa21aQTKQYP3Ia40buSH+2l7auJvL5HI0tS6ivHsP4humMrJlAY+tSsrl+2rubyeb6mdAwnTF1UwZvjSK91nd/cjnVleXc+Mv/5pqfXcgLi1/himtv5t2HHsATzyyguaUVgJv+fA/HvPMQIuAL37yIs04/lWsvvYgrLvkvrrj2Fp56bmFhJ6K37Mz6dRe//c+GudQlSxmXruTCsUcwu3RMgZMNPQuPNER6+jopL6kimUgSBAFVZXXrlvd3UlleTxAEBEGCyrJ6evo66cv2kE5lKM6UAZBJF1OcKaO3v5ve/i7KS6oJggSJRJKKkuHxCU1vzgOPPM7Jx7yLIAjIZNKc+N6jeODhJygrLeGwuftw61/uI5/Pc/td9/GBdx3GkmUrWbaykfMu/inHnfFF/u0LX6N/YIDnX1xc6KloK5leXFfoCAXjIS1pqAQB0euerxMRbDAwIiKCzd50dhPLg40XSWEYEQSv/uOIwpBsLg/A8e85gm9c8nOmTBjH5AnjGDe6gYWLl1BeVsoN//P9wdc0t7RRUV465Nm1bRQHw/fXvnt4pCFSWlxBd287+XDdL5zO7hYgoLSogvauZqIoIopCOrrXUlpUQXGmjIFcP30DPQAMZPvo6++iOFNOaVEFnT2thFFIGIV097YVcGbaXu0/ewZX3fS/RFHEwECW626/k/1mrbt1zp67TAPg0t9ex/HvORyAyePHUFyU4dY77wVgVVMzx55+Fs8udA/P21mCgNxmP0ANH8O36klDrLSogsrSOlasWUQiSJBOFRMEAfVVY2luX8GypoUQhZQWV1JTMZIgSDCqdhLNbSuI1p/vM6JmPJl0EelUhmyun2WNL5BMpEinMgWenbZH5376Y5z/k19y7Olnkc3m2H/OTM485bjB9ce9+3B+8bvrOWz/OQCk02l+9K0vc8FPL+fya24il8/zmY+exF677VSoKWgrmFM6lu803kdflCt0lIIKomjzta9jbTvfO+1bQ5lHb2Ofv/zLnHbSpwodY7vVN9BD30A31eUjAGjrXENftptRtZMKG2wYufXPvyVsWlToGNrORcXjeerk7xY6ht6C2XdcsNl17uGRhkgmVURbZxNLu1sIgFQyzYia8YWOJUnDgoVHGiKJRJJRdZMKHUOShiVPWpYkSbFn4ZEkSbFn4ZEkSbFn4ZEkSbFn4ZEkSbFn4ZEkSbFn4ZEkSbFn4ZEkSbFn4ZEkSbFn4ZEkSbFn4ZEkSbFn4ZEkSbFn4ZEkSbFn4ZEkSbFn4ZEkSbFn4ZEkSbFn4ZEkSbFn4ZEkSbFn4ZEkSbFn4ZEkSbFn4ZEkSbFn4ZEkSbFn4ZEkSbFn4ZEkSbFn4ZEkSbFn4ZEkSbFn4ZEkSbFn4ZEkSbFn4ZEkSbFn4ZEkSbFn4ZEkSbFn4ZEkSbFn4ZEkSbFn4ZEkSbFn4ZEkSbFn4ZEkSbEXRFEUFTqEJEnStuQeHkmSFHsWHkmSFHsWHkmSFHsWHkmSFHsWHkmSFHsWHkmSFHv/H6SlKfxM8WzhAAAAAElFTkSuQmCC\n",
=======
      "image/png": "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\n",
>>>>>>> 96bc7d4ce0cc275b29aabf5b66b19ee7c06873c9
      "text/plain": [
       "<Figure size 720x432 with 1 Axes>"
      ]
     },
     "metadata": {},
     "output_type": "display_data"
    }
   ],
   "source": [
    "wc = count(shops['stems'])\n",
    "\n",
    "wc_top20 = wc[wc['rank'] <= 20]\n",
    "\n",
    "squarify.plot(sizes=wc_top20['pct_total'], label=wc_top20['word'], alpha=.8 )\n",
    "plt.axis('off')\n",
    "plt.show()"
   ]
  },
  {
   "cell_type": "code",
<<<<<<< HEAD
   "execution_count": 120,
=======
   "execution_count": 60,
>>>>>>> 96bc7d4ce0cc275b29aabf5b66b19ee7c06873c9
   "metadata": {},
   "outputs": [
    {
     "data": {
      "text/plain": [
       "(34395, 7)"
      ]
     },
<<<<<<< HEAD
     "execution_count": 120,
=======
     "execution_count": 60,
>>>>>>> 96bc7d4ce0cc275b29aabf5b66b19ee7c06873c9
     "metadata": {},
     "output_type": "execute_result"
    }
   ],
   "source": [
    "wc.shape"
   ]
  },
  {
   "cell_type": "code",
<<<<<<< HEAD
   "execution_count": 121,
=======
   "execution_count": 61,
>>>>>>> 96bc7d4ce0cc275b29aabf5b66b19ee7c06873c9
   "metadata": {},
   "outputs": [
    {
     "name": "stdout",
     "output_type": "stream",
     "text": [
      "This    this\n",
      "is    be\n",
      "the    the\n",
      "start    start\n",
      "of    of\n",
      "our    -PRON-\n",
      "NLP    NLP\n",
      "adventures    adventure\n",
      ".    .\n",
      "We    -PRON-\n",
      "started    start\n",
      "here    here\n",
      "with    with\n",
      "Spacy    Spacy\n",
      ".    .\n",
      "We    -PRON-\n",
      "are    be\n",
      "starting    start\n",
      "here    here\n",
      "with    with\n",
      "NLP    NLP\n",
      ".    .\n"
     ]
    }
   ],
   "source": [
    "sent = \"This is the start of our NLP adventures. We started here with Spacy. We are starting here with NLP.\"\n",
    "\n",
    "nlp = spacy.load(\"en_core_web_lg\")\n",
    "\n",
    "doc = nlp(sent)\n",
    "\n",
    "# Lemma Attributes\n",
    "for token in doc:\n",
    "    print(token.text, \"  \", token.lemma_)"
   ]
  },
  {
   "cell_type": "code",
<<<<<<< HEAD
   "execution_count": 122,
=======
   "execution_count": 62,
>>>>>>> 96bc7d4ce0cc275b29aabf5b66b19ee7c06873c9
   "metadata": {},
   "outputs": [],
   "source": [
    "# Wrap it all in a function\n",
    "def get_lemmas(text):\n",
    "\n",
    "    lemmas = []\n",
    "    \n",
    "    doc = nlp(text)\n",
    "    \n",
    "    # Something goes here :P\n",
    "    for token in doc: \n",
    "        if ((token.is_stop == False) and (token.is_punct == False)) and (token.pos_ != 'PRON'):\n",
    "            lemmas.append(token.lemma_)\n",
    "    \n",
    "    return lemmas"
   ]
  },
  {
   "cell_type": "code",
<<<<<<< HEAD
   "execution_count": 123,
=======
   "execution_count": 142,
>>>>>>> 96bc7d4ce0cc275b29aabf5b66b19ee7c06873c9
   "metadata": {},
   "outputs": [
    {
     "name": "stderr",
     "output_type": "stream",
     "text": [
<<<<<<< HEAD
      "100%|██████████| 7616/7616 [04:21<00:00, 29.13it/s]\n"
=======
      "100%|██████████████████████████████████████████████████████████████████████████████| 7616/7616 [03:37<00:00, 35.04it/s]\n"
>>>>>>> 96bc7d4ce0cc275b29aabf5b66b19ee7c06873c9
     ]
    }
   ],
   "source": [
    "shops['lemmas'] = shops['text_rev'].progress_apply(get_lemmas)"
   ]
  },
  {
   "cell_type": "code",
<<<<<<< HEAD
   "execution_count": 124,
=======
   "execution_count": 143,
>>>>>>> 96bc7d4ce0cc275b29aabf5b66b19ee7c06873c9
   "metadata": {},
   "outputs": [
    {
     "data": {
      "text/plain": [
       "0    [1, check, Love, love, love, atmosphere, corne...\n",
       "1    [list, Date, Night, Austin, Ambiance, Austin, ...\n",
       "2    [1, check, list, Brunch, Spots, love, eclectic...\n",
       "3    [cool, decor, good, drink, nice, seating,  ,  ...\n",
       "4    [1, check, locate, Northcross, mall, shopping,...\n",
       "Name: lemmas, dtype: object"
      ]
     },
<<<<<<< HEAD
     "execution_count": 124,
=======
     "execution_count": 143,
>>>>>>> 96bc7d4ce0cc275b29aabf5b66b19ee7c06873c9
     "metadata": {},
     "output_type": "execute_result"
    }
   ],
   "source": [
    "shops['lemmas'].head()"
   ]
  },
  {
   "cell_type": "code",
<<<<<<< HEAD
   "execution_count": 125,
=======
   "execution_count": 144,
>>>>>>> 96bc7d4ce0cc275b29aabf5b66b19ee7c06873c9
   "metadata": {},
   "outputs": [
    {
     "data": {
<<<<<<< HEAD
      "image/png": "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\n",
=======
      "image/png": "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\n",
>>>>>>> 96bc7d4ce0cc275b29aabf5b66b19ee7c06873c9
      "text/plain": [
       "<Figure size 720x432 with 1 Axes>"
      ]
     },
     "metadata": {},
     "output_type": "display_data"
    }
   ],
   "source": [
    "wc = count(shops['lemmas'])\n",
    "wc_top20 = wc[wc['rank'] <= 20]\n",
    "\n",
    "squarify.plot(sizes=wc_top20['pct_total'], label=wc_top20['word'], alpha=.8 )\n",
    "plt.axis('off')\n",
    "plt.show()"
   ]
  },
  {
   "cell_type": "markdown",
   "metadata": {},
   "source": [
    "## Using TextBlob\n",
    "- Sentiment analysis (or opnion mining) attempts to determine if a text is subjective or objective, positive or negative\n",
    "- The sentiment analysis lexicon bundlef in Pattern focuses on adjectives\n",
    "- It contains adjectives that occur frequenctly in customer reviews, hand tagged with values for polarity and subjectivity"
   ]
  },
  {
   "cell_type": "code",
<<<<<<< HEAD
   "execution_count": 126,
=======
   "execution_count": 63,
>>>>>>> 96bc7d4ce0cc275b29aabf5b66b19ee7c06873c9
   "metadata": {},
   "outputs": [],
   "source": [
    "import seaborn as sns\n",
    "\n",
    "sns.set(rc={'figure.figsize':(30,1)})\n",
    "\n",
    "def visualize_sentiments(data):\n",
    "    sns.heatmap(pd.DataFrame(data).set_index(\"Sentence\").T, center=0, annot=True, cmap='PiYG')"
   ]
  },
  {
   "cell_type": "code",
<<<<<<< HEAD
   "execution_count": 127,
   "metadata": {},
   "outputs": [
    {
     "name": "stdout",
     "output_type": "stream",
     "text": [
      "Requirement already satisfied: textblob in c:\\users\\j8015\\anaconda3\\envs\\u4s12-nlp\\lib\\site-packages (0.15.3)Note: you may need to restart the kernel to use updated packages.\n",
      "\n",
      "Requirement already satisfied: nltk>=3.1 in c:\\users\\j8015\\anaconda3\\envs\\u4s12-nlp\\lib\\site-packages (from textblob) (3.5)\n",
      "Requirement already satisfied: click in c:\\users\\j8015\\anaconda3\\envs\\u4s12-nlp\\lib\\site-packages (from nltk>=3.1->textblob) (7.1.2)\n",
      "Requirement already satisfied: tqdm in c:\\users\\j8015\\anaconda3\\envs\\u4s12-nlp\\lib\\site-packages (from nltk>=3.1->textblob) (4.47.0)\n",
      "Requirement already satisfied: joblib in c:\\users\\j8015\\anaconda3\\envs\\u4s12-nlp\\lib\\site-packages (from nltk>=3.1->textblob) (0.15.1)\n",
      "Requirement already satisfied: regex in c:\\users\\j8015\\anaconda3\\envs\\u4s12-nlp\\lib\\site-packages (from nltk>=3.1->textblob) (2020.6.8)\n"
     ]
    }
   ],
   "source": [
    "pip install textblob"
   ]
  },
  {
   "cell_type": "code",
   "execution_count": 128,
=======
   "execution_count": 64,
>>>>>>> 96bc7d4ce0cc275b29aabf5b66b19ee7c06873c9
   "metadata": {},
   "outputs": [
    {
     "data": {
      "text/plain": [
       "Sentiment(polarity=0.21666666666666667, subjectivity=0.5952380952380952)"
      ]
     },
<<<<<<< HEAD
     "execution_count": 128,
=======
     "execution_count": 64,
>>>>>>> 96bc7d4ce0cc275b29aabf5b66b19ee7c06873c9
     "metadata": {},
     "output_type": "execute_result"
    }
   ],
   "source": [
    "from textblob import TextBlob\n",
    "\n",
    "TextBlob(' Textblob makes it simple and easy to calculate sentiment').sentiment"
   ]
  },
  {
   "cell_type": "code",
<<<<<<< HEAD
   "execution_count": 129,
=======
   "execution_count": 65,
>>>>>>> 96bc7d4ce0cc275b29aabf5b66b19ee7c06873c9
   "metadata": {},
   "outputs": [
    {
     "name": "stdout",
     "output_type": "stream",
     "text": [
      "1 check-in Love love loved the atmosphere! Every corner of the coffee shop had its own style, and there were swings!!! I ordered the matcha latte, and it was muy fantastico! Ordering and getting my drink were pretty streamlined. I ordered on an iPad, which included all beverage selections that ranged from coffee to wine, desired level of sweetness, and a checkout system. I got my latte within minutes!  I was hoping for a typical heart or feather on my latte, but found myself listing out all the possibilities of what the art may be. Any ideas? \n"
     ]
    },
    {
     "data": {
      "text/plain": [
       "Sentiment(polarity=0.5034722222222222, subjectivity=0.75)"
      ]
     },
<<<<<<< HEAD
     "execution_count": 129,
=======
     "execution_count": 65,
>>>>>>> 96bc7d4ce0cc275b29aabf5b66b19ee7c06873c9
     "metadata": {},
     "output_type": "execute_result"
    }
   ],
   "source": [
    "sentence = shops['text_rev'].iloc[0]\n",
    "print(sentence)\n",
    "TextBlob(sentence).sentiment"
   ]
  },
  {
   "cell_type": "code",
<<<<<<< HEAD
   "execution_count": 130,
=======
   "execution_count": 66,
>>>>>>> 96bc7d4ce0cc275b29aabf5b66b19ee7c06873c9
   "metadata": {},
   "outputs": [
    {
     "data": {
      "image/png": "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\n",
      "text/plain": [
       "<Figure size 2160x72 with 2 Axes>"
      ]
     },
     "metadata": {},
     "output_type": "display_data"
    }
   ],
   "source": [
    "visualize_sentiments({\n",
    "    \"Sentence\":[\"SENTENCE\"] + sentence.split(),\n",
    "    \"Sentiment\":[TextBlob(sentence).polarity] + [TextBlob(word).polarity for word in sentence.split()]\n",
    "})"
   ]
  },
  {
   "cell_type": "code",
<<<<<<< HEAD
   "execution_count": 84,
=======
   "execution_count": 67,
>>>>>>> 96bc7d4ce0cc275b29aabf5b66b19ee7c06873c9
   "metadata": {},
   "outputs": [
    {
     "data": {
      "text/plain": [
       "TextBlob(\"Texblob also makes it simple and easy to correct spelling\")"
      ]
     },
<<<<<<< HEAD
     "execution_count": 84,
=======
     "execution_count": 67,
>>>>>>> 96bc7d4ce0cc275b29aabf5b66b19ee7c06873c9
     "metadata": {},
     "output_type": "execute_result"
    }
   ],
   "source": [
    "#Spelling Correction\n",
    "\n",
    "TextBlob(\"Texblob also makes it simple and easy to correcct speeling\").correct()"
   ]
  },
  {
   "cell_type": "markdown",
   "metadata": {},
   "source": [
    "## ScatterText"
   ]
  },
  {
   "cell_type": "code",
<<<<<<< HEAD
   "execution_count": 85,
=======
   "execution_count": 68,
>>>>>>> 96bc7d4ce0cc275b29aabf5b66b19ee7c06873c9
   "metadata": {},
   "outputs": [
    {
     "name": "stdout",
     "output_type": "stream",
     "text": [
<<<<<<< HEAD
      "(7616, 11)\n"
=======
      "(7616, 10)\n"
>>>>>>> 96bc7d4ce0cc275b29aabf5b66b19ee7c06873c9
     ]
    },
    {
     "data": {
      "text/plain": [
       "GOOD    6140\n",
       "BAD     1476\n",
       "Name: rate, dtype: int64"
      ]
     },
<<<<<<< HEAD
     "execution_count": 85,
=======
     "execution_count": 68,
>>>>>>> 96bc7d4ce0cc275b29aabf5b66b19ee7c06873c9
     "metadata": {},
     "output_type": "execute_result"
    }
   ],
   "source": [
    "#Create a copy of the dataframe and add columns that have tags for 'good' and 'bad'\n",
    "\n",
    "subset_shops = shops.copy()\n",
    "\n",
    "subset_shops.loc[subset_shops['word_rate'].str.contains('good'), 'rate'] ='GOOD'\n",
    "subset_shops.loc[subset_shops['word_rate'].str.contains('bad'), 'rate'] ='BAD'\n",
    "\n",
    "print(subset_shops.shape)\n",
    "subset_shops['rate'].value_counts()"
   ]
  },
  {
   "cell_type": "code",
<<<<<<< HEAD
   "execution_count": 87,
   "metadata": {},
   "outputs": [
    {
     "name": "stdout",
     "output_type": "stream",
     "text": [
      "Collecting scattertext\n",
      "  Using cached scattertext-0.0.2.65-py3-none-any.whl (7.2 MB)\n",
      "Requirement already satisfied: six in c:\\users\\j8015\\anaconda3\\envs\\u4s12-nlp\\lib\\site-packages (from scattertext) (1.15.0)\n",
      "Collecting statsmodels\n",
      "  Using cached statsmodels-0.11.1-cp37-none-win_amd64.whl (8.2 MB)\n",
      "Requirement already satisfied: scikit-learn in c:\\users\\j8015\\anaconda3\\envs\\u4s12-nlp\\lib\\site-packages (from scattertext) (0.22.2)\n",
      "Requirement already satisfied: scipy in c:\\users\\j8015\\anaconda3\\envs\\u4s12-nlp\\lib\\site-packages (from scattertext) (1.5.0)\n",
      "Collecting mock\n",
      "  Using cached mock-4.0.2-py3-none-any.whl (28 kB)\n",
      "Requirement already satisfied: numpy in c:\\users\\j8015\\anaconda3\\envs\\u4s12-nlp\\lib\\site-packages (from scattertext) (1.19.0)\n",
      "Requirement already satisfied: pandas in c:\\users\\j8015\\anaconda3\\envs\\u4s12-nlp\\lib\\site-packages (from scattertext) (1.0.5)\n",
      "Collecting patsy>=0.5\n",
      "  Using cached patsy-0.5.1-py2.py3-none-any.whl (231 kB)\n",
      "Requirement already satisfied: joblib>=0.11 in c:\\users\\j8015\\anaconda3\\envs\\u4s12-nlp\\lib\\site-packages (from scikit-learn->scattertext) (0.15.1)\n",
      "Requirement already satisfied: pytz>=2017.2 in c:\\users\\j8015\\anaconda3\\envs\\u4s12-nlp\\lib\\site-packages (from pandas->scattertext) (2020.1)\n",
      "Requirement already satisfied: python-dateutil>=2.6.1 in c:\\users\\j8015\\anaconda3\\envs\\u4s12-nlp\\lib\\site-packages (from pandas->scattertext) (2.8.1)\n",
      "Installing collected packages: patsy, statsmodels, mock, scattertext\n",
      "Successfully installed mock-4.0.2 patsy-0.5.1 scattertext-0.0.2.65 statsmodels-0.11.1\n",
      "Note: you may need to restart the kernel to use updated packages.\n"
     ]
    },
    {
     "name": "stderr",
     "output_type": "stream",
     "text": [
      "  WARNING: The script scattertext.exe is installed in 'C:\\Users\\J8015\\anaconda3\\envs\\U4S12-NLP\\Scripts' which is not on PATH.\n",
      "  Consider adding this directory to PATH or, if you prefer to suppress this warning, use --no-warn-script-location.\n"
     ]
    }
   ],
   "source": [
    "pip install scattertext"
   ]
  },
  {
   "cell_type": "code",
   "execution_count": 88,
=======
   "execution_count": 70,
>>>>>>> 96bc7d4ce0cc275b29aabf5b66b19ee7c06873c9
   "metadata": {},
   "outputs": [
    {
     "data": {
      "text/plain": [
       "10754736"
      ]
     },
<<<<<<< HEAD
     "execution_count": 88,
=======
     "execution_count": 70,
>>>>>>> 96bc7d4ce0cc275b29aabf5b66b19ee7c06873c9
     "metadata": {},
     "output_type": "execute_result"
    }
   ],
   "source": [
    "import scattertext as st\n",
    "\n",
    "corpus = st.CorpusFromPandas(subset_shops,\n",
    "                             category_col ='rate',\n",
    "                             text_col = 'text_rev',\n",
    "                             nlp = nlp).build()\n",
    "\n",
    "html = st.produce_scattertext_explorer(\n",
    "    corpus,\n",
    "    category = \"GOOD\",\n",
    "    category_name = \"GOOD\",\n",
    "    not_category_name = \"BAD\",\n",
    "    width_in_pixels = 1000,\n",
    "    metadata = subset_shops['text_rev'])\n",
    "open('./good_vs_bad.html', 'w').write(html)\n",
    "\n",
    "                            \n",
    "                            "
   ]
  },
  {
<<<<<<< HEAD
=======
   "cell_type": "code",
   "execution_count": null,
   "metadata": {},
   "outputs": [],
   "source": []
  },
  {
   "cell_type": "code",
   "execution_count": null,
   "metadata": {},
   "outputs": [],
   "source": []
  },
  {
>>>>>>> 96bc7d4ce0cc275b29aabf5b66b19ee7c06873c9
   "cell_type": "markdown",
   "metadata": {},
   "source": [
    "\n",
    "## Stretch Goals\n",
    "- Analyze another corpus of documents - such as Indeed.com job listings ;).\n",
    "- Play with the Spacy API to\n",
    "- Extract Named Entities\n",
    "- Extracting 'noun chunks'\n",
    "- Attempt Document Classification with just Spacy\n",
    "- Note: This course will be of interesting in helping you with these stretch goals.\n",
    "- Try to build a plotly dash app with your text data"
   ]
  },
  {
   "cell_type": "code",
   "execution_count": 2,
   "metadata": {},
   "outputs": [],
   "source": [
    "import numpy as np\n",
    "import pandas as pd"
   ]
  },
  {
   "cell_type": "code",
<<<<<<< HEAD
   "execution_count": 8,
   "metadata": {},
   "outputs": [
    {
     "name": "stdout",
     "output_type": "stream",
     "text": [
      "Requirement already satisfied: beautifulsoup4 in c:\\users\\j8015\\anaconda3\\envs\\u4s12-nlp\\lib\\site-packages (4.9.1)\n",
      "Requirement already satisfied: soupsieve>1.2 in c:\\users\\j8015\\anaconda3\\envs\\u4s12-nlp\\lib\\site-packages (from beautifulsoup4) (2.0.1)\n",
      "Note: you may need to restart the kernel to use updated packages.\n"
     ]
    }
   ],
   "source": [
    "pip install beautifulsoup4"
   ]
  },
  {
   "cell_type": "code",
   "execution_count": 34,
   "metadata": {},
   "outputs": [
    {
     "data": {
      "text/html": [
       "<div>\n",
       "<style scoped>\n",
       "    .dataframe tbody tr th:only-of-type {\n",
       "        vertical-align: middle;\n",
       "    }\n",
       "\n",
       "    .dataframe tbody tr th {\n",
       "        vertical-align: top;\n",
       "    }\n",
       "\n",
       "    .dataframe thead th {\n",
       "        text-align: right;\n",
       "    }\n",
       "</style>\n",
       "<table border=\"1\" class=\"dataframe\">\n",
       "  <thead>\n",
       "    <tr style=\"text-align: right;\">\n",
       "      <th></th>\n",
       "      <th>description</th>\n",
       "      <th>title</th>\n",
       "    </tr>\n",
       "  </thead>\n",
       "  <tbody>\n",
       "    <tr>\n",
       "      <th>0</th>\n",
       "      <td>b\"&lt;div&gt;&lt;div&gt;Job Requirements:&lt;/div&gt;&lt;ul&gt;&lt;li&gt;&lt;p&gt;...</td>\n",
       "      <td>Data scientist</td>\n",
       "    </tr>\n",
       "    <tr>\n",
       "      <th>1</th>\n",
       "      <td>b'&lt;div&gt;Job Description&lt;br/&gt;\\n&lt;br/&gt;\\n&lt;p&gt;As a Da...</td>\n",
       "      <td>Data Scientist I</td>\n",
       "    </tr>\n",
       "    <tr>\n",
       "      <th>2</th>\n",
       "      <td>b'&lt;div&gt;&lt;p&gt;As a Data Scientist you will be work...</td>\n",
       "      <td>Data Scientist - Entry Level</td>\n",
       "    </tr>\n",
       "    <tr>\n",
       "      <th>3</th>\n",
       "      <td>b'&lt;div class=\"jobsearch-JobMetadataHeader icl-...</td>\n",
       "      <td>Data Scientist</td>\n",
       "    </tr>\n",
       "    <tr>\n",
       "      <th>4</th>\n",
       "      <td>b'&lt;ul&gt;&lt;li&gt;Location: USA \\xe2\\x80\\x93 multiple ...</td>\n",
       "      <td>Data Scientist</td>\n",
       "    </tr>\n",
       "  </tbody>\n",
       "</table>\n",
       "</div>"
      ],
      "text/plain": [
       "                                         description  \\\n",
       "0  b\"<div><div>Job Requirements:</div><ul><li><p>...   \n",
       "1  b'<div>Job Description<br/>\\n<br/>\\n<p>As a Da...   \n",
       "2  b'<div><p>As a Data Scientist you will be work...   \n",
       "3  b'<div class=\"jobsearch-JobMetadataHeader icl-...   \n",
       "4  b'<ul><li>Location: USA \\xe2\\x80\\x93 multiple ...   \n",
       "\n",
       "                          title  \n",
       "0               Data scientist   \n",
       "1              Data Scientist I  \n",
       "2  Data Scientist - Entry Level  \n",
       "3                Data Scientist  \n",
       "4                Data Scientist  "
      ]
     },
     "execution_count": 34,
     "metadata": {},
     "output_type": "execute_result"
    }
   ],
   "source": [
    "\n",
    "jobs = pd.read_csv(\"data\\job_listings.csv\", index_col='Unnamed: 0')\n",
    "jobs.head()"
   ]
  },
  {
   "cell_type": "code",
   "execution_count": 35,
   "metadata": {},
   "outputs": [],
   "source": [
    "from bs4 import BeautifulSoup\n",
    "\n",
    "def beautify(text):\n",
    "    \"\"\"\n",
    "    Extracts text from html string\n",
    "    \n",
    "    Args: \n",
    "        text(str): The html string\n",
    "        \n",
    "    Returns:\n",
    "        string: Text of the html string \n",
    "    \"\"\"\n",
    "    \n",
    "    text= BeautifulSoup(text).text\n",
    "       \n",
    "    return text"
   ]
  },
  {
   "cell_type": "code",
   "execution_count": 36,
   "metadata": {},
   "outputs": [],
   "source": [
    "import re\n",
    "\n",
    "def lower_word(text):\n",
    "    \"\"\"\n",
    "    Converts a string into lower case form\n",
    "    \n",
    "    Args: \n",
    "        text(str): The string that the function will convert to lowercase\n",
    "        \n",
    "    Returns:\n",
    "        list: lowercased versions \n",
    "    \"\"\"\n",
    "    \n",
    "    lower = re.sub('[^a-zA-Z 0-9]', '', text)\n",
    "    lower = lower.lower()\n",
    "    \n",
    "    return lower"
   ]
  },
  {
   "cell_type": "code",
   "execution_count": 37,
   "metadata": {},
   "outputs": [
    {
     "data": {
      "text/html": [
       "<div>\n",
       "<style scoped>\n",
       "    .dataframe tbody tr th:only-of-type {\n",
       "        vertical-align: middle;\n",
       "    }\n",
       "\n",
       "    .dataframe tbody tr th {\n",
       "        vertical-align: top;\n",
       "    }\n",
       "\n",
       "    .dataframe thead th {\n",
       "        text-align: right;\n",
       "    }\n",
       "</style>\n",
       "<table border=\"1\" class=\"dataframe\">\n",
       "  <thead>\n",
       "    <tr style=\"text-align: right;\">\n",
       "      <th></th>\n",
       "      <th>description</th>\n",
       "      <th>title</th>\n",
       "    </tr>\n",
       "  </thead>\n",
       "  <tbody>\n",
       "    <tr>\n",
       "      <th>0</th>\n",
       "      <td>bjob requirementsnconceptual understanding in ...</td>\n",
       "      <td>Data scientist</td>\n",
       "    </tr>\n",
       "    <tr>\n",
       "      <th>1</th>\n",
       "      <td>bjob descriptionnnas a data scientist 1 you wi...</td>\n",
       "      <td>Data Scientist I</td>\n",
       "    </tr>\n",
       "    <tr>\n",
       "      <th>2</th>\n",
       "      <td>bas a data scientist you will be working on co...</td>\n",
       "      <td>Data Scientist - Entry Level</td>\n",
       "    </tr>\n",
       "    <tr>\n",
       "      <th>3</th>\n",
       "      <td>b4969  6756 a monthcontractunder the general s...</td>\n",
       "      <td>Data Scientist</td>\n",
       "    </tr>\n",
       "    <tr>\n",
       "      <th>4</th>\n",
       "      <td>blocation usa xe2x80x93 multiple locationsn2 y...</td>\n",
       "      <td>Data Scientist</td>\n",
       "    </tr>\n",
       "  </tbody>\n",
       "</table>\n",
       "</div>"
      ],
      "text/plain": [
       "                                         description  \\\n",
       "0  bjob requirementsnconceptual understanding in ...   \n",
       "1  bjob descriptionnnas a data scientist 1 you wi...   \n",
       "2  bas a data scientist you will be working on co...   \n",
       "3  b4969  6756 a monthcontractunder the general s...   \n",
       "4  blocation usa xe2x80x93 multiple locationsn2 y...   \n",
       "\n",
       "                          title  \n",
       "0               Data scientist   \n",
       "1              Data Scientist I  \n",
       "2  Data Scientist - Entry Level  \n",
       "3                Data Scientist  \n",
       "4                Data Scientist  "
      ]
     },
     "execution_count": 37,
     "metadata": {},
     "output_type": "execute_result"
    }
   ],
   "source": [
    "jobs['description']= jobs['description'].apply(beautify).apply(lower_word)\n",
    "jobs.head()"
   ]
  },
  {
   "cell_type": "code",
   "execution_count": 19,
   "metadata": {},
   "outputs": [
    {
     "data": {
      "text/html": [
       "<div>\n",
       "<style scoped>\n",
       "    .dataframe tbody tr th:only-of-type {\n",
       "        vertical-align: middle;\n",
       "    }\n",
       "\n",
       "    .dataframe tbody tr th {\n",
       "        vertical-align: top;\n",
       "    }\n",
       "\n",
       "    .dataframe thead th {\n",
       "        text-align: right;\n",
       "    }\n",
       "</style>\n",
       "<table border=\"1\" class=\"dataframe\">\n",
       "  <thead>\n",
       "    <tr style=\"text-align: right;\">\n",
       "      <th></th>\n",
       "      <th>description</th>\n",
       "      <th>title</th>\n",
       "    </tr>\n",
       "  </thead>\n",
       "  <tbody>\n",
       "    <tr>\n",
       "      <th>0</th>\n",
       "      <td>[bjob, requirementsnconceptual, understanding,...</td>\n",
       "      <td>Data scientist</td>\n",
       "    </tr>\n",
       "    <tr>\n",
       "      <th>1</th>\n",
       "      <td>[bjob, descriptionnnas, a, data, scientist, 1,...</td>\n",
       "      <td>Data Scientist I</td>\n",
       "    </tr>\n",
       "    <tr>\n",
       "      <th>2</th>\n",
       "      <td>[bas, a, data, scientist, you, will, be, worki...</td>\n",
       "      <td>Data Scientist - Entry Level</td>\n",
       "    </tr>\n",
       "    <tr>\n",
       "      <th>3</th>\n",
       "      <td>[b4969,  , 6756, a, monthcontractunder, the, g...</td>\n",
       "      <td>Data Scientist</td>\n",
       "    </tr>\n",
       "    <tr>\n",
       "      <th>4</th>\n",
       "      <td>[blocation, usa, xe2x80x93, multiple, location...</td>\n",
       "      <td>Data Scientist</td>\n",
       "    </tr>\n",
       "  </tbody>\n",
       "</table>\n",
       "</div>"
      ],
      "text/plain": [
       "                                         description  \\\n",
       "0  [bjob, requirementsnconceptual, understanding,...   \n",
       "1  [bjob, descriptionnnas, a, data, scientist, 1,...   \n",
       "2  [bas, a, data, scientist, you, will, be, worki...   \n",
       "3  [b4969,  , 6756, a, monthcontractunder, the, g...   \n",
       "4  [blocation, usa, xe2x80x93, multiple, location...   \n",
       "\n",
       "                          title  \n",
       "0               Data scientist   \n",
       "1              Data Scientist I  \n",
       "2  Data Scientist - Entry Level  \n",
       "3                Data Scientist  \n",
       "4                Data Scientist  "
      ]
     },
     "execution_count": 19,
     "metadata": {},
     "output_type": "execute_result"
    }
   ],
   "source": [
    "jobs.head()"
   ]
  },
  {
   "cell_type": "code",
   "execution_count": 38,
   "metadata": {},
   "outputs": [
    {
     "data": {
      "text/html": [
       "<div>\n",
       "<style scoped>\n",
       "    .dataframe tbody tr th:only-of-type {\n",
       "        vertical-align: middle;\n",
       "    }\n",
       "\n",
       "    .dataframe tbody tr th {\n",
       "        vertical-align: top;\n",
       "    }\n",
       "\n",
       "    .dataframe thead th {\n",
       "        text-align: right;\n",
       "    }\n",
       "</style>\n",
       "<table border=\"1\" class=\"dataframe\">\n",
       "  <thead>\n",
       "    <tr style=\"text-align: right;\">\n",
       "      <th></th>\n",
       "      <th>description</th>\n",
       "      <th>title</th>\n",
       "    </tr>\n",
       "  </thead>\n",
       "  <tbody>\n",
       "    <tr>\n",
       "      <th>0</th>\n",
       "      <td>bjob requirementsnconceptual understanding in ...</td>\n",
       "      <td>Data scientist</td>\n",
       "    </tr>\n",
       "    <tr>\n",
       "      <th>1</th>\n",
       "      <td>bjob descriptionnnas a data scientist 1 you wi...</td>\n",
       "      <td>Data Scientist I</td>\n",
       "    </tr>\n",
       "    <tr>\n",
       "      <th>2</th>\n",
       "      <td>bas a data scientist you will be working on co...</td>\n",
       "      <td>Data Scientist - Entry Level</td>\n",
       "    </tr>\n",
       "    <tr>\n",
       "      <th>3</th>\n",
       "      <td>b4969  6756 a monthcontractunder the general s...</td>\n",
       "      <td>Data Scientist</td>\n",
       "    </tr>\n",
       "    <tr>\n",
       "      <th>4</th>\n",
       "      <td>blocation usa xe2x80x93 multiple locationsn2 y...</td>\n",
       "      <td>Data Scientist</td>\n",
       "    </tr>\n",
       "  </tbody>\n",
       "</table>\n",
       "</div>"
      ],
      "text/plain": [
       "                                         description  \\\n",
       "0  bjob requirementsnconceptual understanding in ...   \n",
       "1  bjob descriptionnnas a data scientist 1 you wi...   \n",
       "2  bas a data scientist you will be working on co...   \n",
       "3  b4969  6756 a monthcontractunder the general s...   \n",
       "4  blocation usa xe2x80x93 multiple locationsn2 y...   \n",
       "\n",
       "                          title  \n",
       "0               Data scientist   \n",
       "1              Data Scientist I  \n",
       "2  Data Scientist - Entry Level  \n",
       "3                Data Scientist  \n",
       "4                Data Scientist  "
      ]
     },
     "execution_count": 38,
     "metadata": {},
     "output_type": "execute_result"
    }
   ],
   "source": [
    "jobs['description']= jobs['description'].apply(beautify).apply(lower_word)\n",
    "jobs.head()"
   ]
  },
  {
   "cell_type": "code",
   "execution_count": 39,
   "metadata": {},
   "outputs": [
    {
     "name": "stderr",
     "output_type": "stream",
     "text": [
      "100%|██████████| 426/426 [00:45<00:00,  9.42it/s]\n"
     ]
    }
   ],
   "source": [
    "jobs['lemmas'] = jobs['description'].progress_apply(get_lemmas)"
   ]
  },
  {
   "cell_type": "code",
   "execution_count": 40,
   "metadata": {},
   "outputs": [
    {
     "data": {
      "text/html": [
       "<div>\n",
       "<style scoped>\n",
       "    .dataframe tbody tr th:only-of-type {\n",
       "        vertical-align: middle;\n",
       "    }\n",
       "\n",
       "    .dataframe tbody tr th {\n",
       "        vertical-align: top;\n",
       "    }\n",
       "\n",
       "    .dataframe thead th {\n",
       "        text-align: right;\n",
       "    }\n",
       "</style>\n",
       "<table border=\"1\" class=\"dataframe\">\n",
       "  <thead>\n",
       "    <tr style=\"text-align: right;\">\n",
       "      <th></th>\n",
       "      <th>description</th>\n",
       "      <th>title</th>\n",
       "      <th>lemmas</th>\n",
       "    </tr>\n",
       "  </thead>\n",
       "  <tbody>\n",
       "    <tr>\n",
       "      <th>0</th>\n",
       "      <td>bjob requirementsnconceptual understanding in ...</td>\n",
       "      <td>Data scientist</td>\n",
       "      <td>[bjob, requirementsnconceptual, understanding,...</td>\n",
       "    </tr>\n",
       "    <tr>\n",
       "      <th>1</th>\n",
       "      <td>bjob descriptionnnas a data scientist 1 you wi...</td>\n",
       "      <td>Data Scientist I</td>\n",
       "      <td>[bjob, descriptionnnas, data, scientist, 1, he...</td>\n",
       "    </tr>\n",
       "    <tr>\n",
       "      <th>2</th>\n",
       "      <td>bas a data scientist you will be working on co...</td>\n",
       "      <td>Data Scientist - Entry Level</td>\n",
       "      <td>[bas, data, scientist, work, consult, business...</td>\n",
       "    </tr>\n",
       "    <tr>\n",
       "      <th>3</th>\n",
       "      <td>b4969  6756 a monthcontractunder the general s...</td>\n",
       "      <td>Data Scientist</td>\n",
       "      <td>[b4969,  , 6756, monthcontractunder, general, ...</td>\n",
       "    </tr>\n",
       "    <tr>\n",
       "      <th>4</th>\n",
       "      <td>blocation usa xe2x80x93 multiple locationsn2 y...</td>\n",
       "      <td>Data Scientist</td>\n",
       "      <td>[blocation, usa, xe2x80x93, multiple, location...</td>\n",
       "    </tr>\n",
       "  </tbody>\n",
       "</table>\n",
       "</div>"
      ],
      "text/plain": [
       "                                         description  \\\n",
       "0  bjob requirementsnconceptual understanding in ...   \n",
       "1  bjob descriptionnnas a data scientist 1 you wi...   \n",
       "2  bas a data scientist you will be working on co...   \n",
       "3  b4969  6756 a monthcontractunder the general s...   \n",
       "4  blocation usa xe2x80x93 multiple locationsn2 y...   \n",
       "\n",
       "                          title  \\\n",
       "0               Data scientist    \n",
       "1              Data Scientist I   \n",
       "2  Data Scientist - Entry Level   \n",
       "3                Data Scientist   \n",
       "4                Data Scientist   \n",
       "\n",
       "                                              lemmas  \n",
       "0  [bjob, requirementsnconceptual, understanding,...  \n",
       "1  [bjob, descriptionnnas, data, scientist, 1, he...  \n",
       "2  [bas, data, scientist, work, consult, business...  \n",
       "3  [b4969,  , 6756, monthcontractunder, general, ...  \n",
       "4  [blocation, usa, xe2x80x93, multiple, location...  "
      ]
     },
     "execution_count": 40,
     "metadata": {},
     "output_type": "execute_result"
    }
   ],
   "source": [
    "jobs.head()"
   ]
  },
  {
   "cell_type": "code",
   "execution_count": 59,
   "metadata": {},
   "outputs": [
    {
     "data": {
      "image/png": "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\n",
      "text/plain": [
       "<Figure size 720x432 with 1 Axes>"
      ]
     },
     "metadata": {},
     "output_type": "display_data"
    }
   ],
   "source": [
    "import seaborn as sns\n",
    "\n",
    "sns.set(rc={'figure.figsize':(10,6)})\n",
    "sns.set_palette(\"Greens\")\n",
    "\n",
    "\n",
    "wc_job = count(jobs['lemmas'])\n",
    "wc_top20_job = wc_job[wc_job['rank'] <= 30]\n",
    "\n",
    "squarify.plot(sizes=wc_top20_job['pct_total'], label=wc_top20_job['word'], alpha=.8 )\n",
    "plt.axis('off')\n",
    "plt.show()"
   ]
  },
  {
   "cell_type": "code",
   "execution_count": 134,
   "metadata": {},
   "outputs": [
    {
     "data": {
      "image/png": "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\n",
      "text/plain": [
       "<Figure size 720x432 with 1 Axes>"
      ]
     },
     "metadata": {},
     "output_type": "display_data"
    }
   ],
   "source": [
    "\n",
    "sns.set(rc={'figure.figsize':(10,6)})\n",
    "sns.lineplot(x='rank', y='cul_pct_total', data=wc_job);"
   ]
  },
  {
   "cell_type": "code",
   "execution_count": 135,
   "metadata": {},
   "outputs": [
    {
     "data": {
      "text/plain": [
       "0.3352915317907525"
      ]
     },
     "execution_count": 135,
     "metadata": {},
     "output_type": "execute_result"
    }
   ],
   "source": [
    "wc_job[wc_job['rank'] <= 100]['cul_pct_total'].max()"
   ]
  },
  {
   "cell_type": "code",
   "execution_count": 136,
   "metadata": {},
   "outputs": [
    {
     "data": {
      "image/png": "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\n",
      "text/plain": [
       "<Figure size 720x432 with 1 Axes>"
      ]
     },
     "metadata": {},
     "output_type": "display_data"
    }
   ],
   "source": [
    "# Tree-Map w/ Words that appear in a least 2.5% of documents. \n",
    "\n",
    "wc_job = wc_job[wc_job['appears_in_pct'] >= 0.025]\n",
    "\n",
    "sns.distplot(wc_job['appears_in_pct']);"
   ]
  },
  {
   "cell_type": "code",
   "execution_count": 131,
   "metadata": {},
   "outputs": [
    {
     "name": "stdout",
     "output_type": "stream",
     "text": [
      "bjob requirementsnconceptual understanding in machine learning models like naixc2xa8ve bayes kmeans svm apriori linear logistic regression neural random forests decision trees knn along with handson experience in at least 2 of themnintermediate to expert level coding skills in pythonr ability to write functions clean and efficient data manipulation are mandatory for this rolenexposure to packages like numpy scipy pandas matplotlib etc in python or ggplot2 dplyr tidyr in rnability to communicate model findings to both technical and nontechnical stake holdersnhands on experience in sqlhive or similar programming languagenmust show past work via github kaggle or any other published articlenmasters degree in statisticsmathematicscomputer science or any other quant specific fieldnapply now\n"
     ]
    },
    {
     "data": {
      "text/plain": [
       "Sentiment(polarity=-0.1037037037037037, subjectivity=0.35833333333333334)"
      ]
     },
     "execution_count": 131,
     "metadata": {},
     "output_type": "execute_result"
    }
   ],
   "source": [
    "descript = jobs['description'].iloc[0]\n",
    "print(descript)\n",
    "TextBlob(descript).sentiment"
   ]
  },
  {
   "cell_type": "code",
   "execution_count": 132,
   "metadata": {},
   "outputs": [
    {
     "data": {
      "image/png": "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\n",
      "text/plain": [
       "<Figure size 2160x72 with 2 Axes>"
      ]
     },
     "metadata": {},
     "output_type": "display_data"
    }
   ],
   "source": [
    "visualize_sentiments({\n",
    "    \"Sentence\":[\"SENTENCE\"] + descript.split(),\n",
    "    \"Sentiment\":[TextBlob(descript).polarity] + [TextBlob(word).polarity for word in descript.split()]\n",
    "})"
   ]
=======
   "execution_count": null,
   "metadata": {},
   "outputs": [],
   "source": []
>>>>>>> 96bc7d4ce0cc275b29aabf5b66b19ee7c06873c9
  },
  {
   "cell_type": "code",
   "execution_count": null,
   "metadata": {},
   "outputs": [],
   "source": []
  }
 ],
 "metadata": {
  "colab": {
   "collapsed_sections": [],
   "name": "LS_DS_421_Text_Data_Assignment.ipynb",
   "provenance": [],
   "version": "0.3.2"
  },
  "kernelspec": {
   "display_name": "U4S12-NLP (Python3)",
   "language": "python",
   "name": "u4s12-nlp"
  },
  "language_info": {
   "codemirror_mode": {
    "name": "ipython",
    "version": 3
   },
   "file_extension": ".py",
   "mimetype": "text/x-python",
   "name": "python",
   "nbconvert_exporter": "python",
   "pygments_lexer": "ipython3",
   "version": "3.7.0"
  },
  "toc-autonumbering": false
 },
 "nbformat": 4,
 "nbformat_minor": 4
}
