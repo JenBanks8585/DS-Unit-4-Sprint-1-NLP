{
 "cells": [
  {
   "cell_type": "markdown",
   "metadata": {},
   "source": [
    "<img align=\"left\" src=\"https://lever-client-logos.s3.amazonaws.com/864372b1-534c-480e-acd5-9711f850815c-1524247202159.png\" width=200>\n",
    "<br></br>\n",
    "\n",
    "# Vector Representations\n",
    "## *Data Science Unit 4 Sprint 2 Assignment 2*"
   ]
  },
  {
   "cell_type": "code",
   "execution_count": 1,
   "metadata": {
    "colab": {
     "base_uri": "https://localhost:8080/",
     "height": 159
    },
    "colab_type": "code",
    "id": "hyj-f9FDcVFp",
    "outputId": "5dd045fe-6e4c-458c-e2fc-253c3da9c805"
   },
   "outputs": [],
   "source": [
    "import re\n",
    "import string\n",
    "\n",
    "from sklearn.feature_extraction.text import CountVectorizer, TfidfVectorizer\n",
    "import matplotlib.pyplot as plt\n",
    "import pandas as pd\n",
    "import numpy as np\n",
    "import spacy\n",
    "nlp = spacy.load(\"en_core_web_lg\")\n",
    "from spacy.tokenizer import Tokenizer\n",
    "\n",
    "from bs4 import BeautifulSoup"
   ]
  },
  {
   "cell_type": "markdown",
   "metadata": {
    "colab_type": "text",
    "id": "M7bcmqfGXrFG"
   },
   "source": [
    "## 1) *Clean:* Job Listings from indeed.com that contain the title \"Data Scientist\" \n",
    "\n",
    "You have `job_listings.csv` in the data folder for this module. The text data in the description column is still messy - full of html tags. Use the [BeautifulSoup](https://www.crummy.com/software/BeautifulSoup/bs4/doc/) library to clean up this column. You will need to read through the documentation to accomplish this task. "
   ]
  },
  {
   "cell_type": "code",
   "execution_count": 2,
   "metadata": {},
   "outputs": [
    {
     "name": "stdout",
     "output_type": "stream",
     "text": [
      "Requirement already satisfied: request in c:\\users\\j8015\\anaconda3\\envs\\u4s12-nlp\\lib\\site-packages (0.0.0)\n",
      "Requirement already satisfied: post in c:\\users\\j8015\\anaconda3\\envs\\u4s12-nlp\\lib\\site-packages (from request) (0.0.0)\n",
      "Requirement already satisfied: get in c:\\users\\j8015\\anaconda3\\envs\\u4s12-nlp\\lib\\site-packages (from request) (0.0.0)\n",
      "Requirement already satisfied: query-string in c:\\users\\j8015\\anaconda3\\envs\\u4s12-nlp\\lib\\site-packages (from get->request) (0.0.0)\n",
      "Note: you may need to restart the kernel to use updated packages.\n"
     ]
    }
   ],
   "source": [
    "pip install request"
   ]
  },
  {
   "cell_type": "code",
   "execution_count": 33,
   "metadata": {
    "colab": {},
    "colab_type": "code",
    "id": "KcYlc1URXhlC"
   },
   "outputs": [
    {
     "data": {
      "text/html": [
       "<div>\n",
       "<style scoped>\n",
       "    .dataframe tbody tr th:only-of-type {\n",
       "        vertical-align: middle;\n",
       "    }\n",
       "\n",
       "    .dataframe tbody tr th {\n",
       "        vertical-align: top;\n",
       "    }\n",
       "\n",
       "    .dataframe thead th {\n",
       "        text-align: right;\n",
       "    }\n",
       "</style>\n",
       "<table border=\"1\" class=\"dataframe\">\n",
       "  <thead>\n",
       "    <tr style=\"text-align: right;\">\n",
       "      <th></th>\n",
       "      <th>description</th>\n",
       "      <th>title</th>\n",
       "    </tr>\n",
       "  </thead>\n",
       "  <tbody>\n",
       "    <tr>\n",
       "      <th>0</th>\n",
       "      <td>b\"&lt;div&gt;&lt;div&gt;Job Requirements:&lt;/div&gt;&lt;ul&gt;&lt;li&gt;&lt;p&gt;...</td>\n",
       "      <td>Data scientist</td>\n",
       "    </tr>\n",
       "    <tr>\n",
       "      <th>1</th>\n",
       "      <td>b'&lt;div&gt;Job Description&lt;br/&gt;\\n&lt;br/&gt;\\n&lt;p&gt;As a Da...</td>\n",
       "      <td>Data Scientist I</td>\n",
       "    </tr>\n",
       "    <tr>\n",
       "      <th>2</th>\n",
       "      <td>b'&lt;div&gt;&lt;p&gt;As a Data Scientist you will be work...</td>\n",
       "      <td>Data Scientist - Entry Level</td>\n",
       "    </tr>\n",
       "    <tr>\n",
       "      <th>3</th>\n",
       "      <td>b'&lt;div class=\"jobsearch-JobMetadataHeader icl-...</td>\n",
       "      <td>Data Scientist</td>\n",
       "    </tr>\n",
       "    <tr>\n",
       "      <th>4</th>\n",
       "      <td>b'&lt;ul&gt;&lt;li&gt;Location: USA \\xe2\\x80\\x93 multiple ...</td>\n",
       "      <td>Data Scientist</td>\n",
       "    </tr>\n",
       "  </tbody>\n",
       "</table>\n",
       "</div>"
      ],
      "text/plain": [
       "                                         description  \\\n",
       "0  b\"<div><div>Job Requirements:</div><ul><li><p>...   \n",
       "1  b'<div>Job Description<br/>\\n<br/>\\n<p>As a Da...   \n",
       "2  b'<div><p>As a Data Scientist you will be work...   \n",
       "3  b'<div class=\"jobsearch-JobMetadataHeader icl-...   \n",
       "4  b'<ul><li>Location: USA \\xe2\\x80\\x93 multiple ...   \n",
       "\n",
       "                          title  \n",
       "0               Data scientist   \n",
       "1              Data Scientist I  \n",
       "2  Data Scientist - Entry Level  \n",
       "3                Data Scientist  \n",
       "4                Data Scientist  "
      ]
     },
     "execution_count": 33,
     "metadata": {},
     "output_type": "execute_result"
    }
   ],
   "source": [
    "from bs4 import BeautifulSoup\n",
    "\n",
    "##### Your Code Here #####\n",
    "\n",
    "result = pd.read_csv(\"data\\job_listings.csv\", index_col='Unnamed: 0')\n",
    "#raise Exception(\"\\nThis task is not complete. \\nReplace this line with your code for the task.\")\n",
    "\n",
    "result. head()"
   ]
  },
  {
   "cell_type": "code",
   "execution_count": 34,
   "metadata": {},
   "outputs": [
    {
     "data": {
      "text/plain": [
       "Data Scientist                                              150\n",
       "Senior Data Scientist                                        14\n",
       "Junior Data Scientist                                        10\n",
       "Associate Data Scientist                                      8\n",
       "Data Scientist Intern                                         7\n",
       "                                                           ... \n",
       "Data Scientist Summer Intern                                  1\n",
       "Data Analyst/Jr. Data Scientist                               1\n",
       "Advisor: CCO Audience Strategy - Data Science                 1\n",
       "2019 University Graduate - Data Scientist - Core Product      1\n",
       "Associate Data Scientist - Associate Statistical Modeler      1\n",
       "Name: title, Length: 177, dtype: int64"
      ]
     },
     "execution_count": 34,
     "metadata": {},
     "output_type": "execute_result"
    }
   ],
   "source": [
    "result['title'].value_counts()"
   ]
  },
  {
   "cell_type": "code",
   "execution_count": 35,
   "metadata": {},
   "outputs": [],
   "source": [
    "import re\n",
    "\n",
    "def lower_word(text):\n",
    "    \"\"\"\n",
    "    Converts a string into lower case form\n",
    "    \n",
    "    Args: \n",
    "        text(str): The string that the function will convert to lowercase\n",
    "        \n",
    "    Returns:\n",
    "        list: lowercased versions \n",
    "    \"\"\"\n",
    "    \n",
    "    lower = re.sub('[^a-zA-Z 0-9]', '', text)\n",
    "    lower = lower.lower()\n",
    "    \n",
    "    return lower"
   ]
  },
  {
   "cell_type": "code",
   "execution_count": 36,
   "metadata": {},
   "outputs": [
    {
     "name": "stdout",
     "output_type": "stream",
     "text": [
      "(426, 2)\n"
     ]
    },
    {
     "data": {
      "text/html": [
       "<div>\n",
       "<style scoped>\n",
       "    .dataframe tbody tr th:only-of-type {\n",
       "        vertical-align: middle;\n",
       "    }\n",
       "\n",
       "    .dataframe tbody tr th {\n",
       "        vertical-align: top;\n",
       "    }\n",
       "\n",
       "    .dataframe thead th {\n",
       "        text-align: right;\n",
       "    }\n",
       "</style>\n",
       "<table border=\"1\" class=\"dataframe\">\n",
       "  <thead>\n",
       "    <tr style=\"text-align: right;\">\n",
       "      <th></th>\n",
       "      <th>description</th>\n",
       "      <th>title</th>\n",
       "    </tr>\n",
       "  </thead>\n",
       "  <tbody>\n",
       "    <tr>\n",
       "      <th>0</th>\n",
       "      <td>b\"&lt;div&gt;&lt;div&gt;Job Requirements:&lt;/div&gt;&lt;ul&gt;&lt;li&gt;&lt;p&gt;...</td>\n",
       "      <td>data scientist</td>\n",
       "    </tr>\n",
       "    <tr>\n",
       "      <th>1</th>\n",
       "      <td>b'&lt;div&gt;Job Description&lt;br/&gt;\\n&lt;br/&gt;\\n&lt;p&gt;As a Da...</td>\n",
       "      <td>data scientist i</td>\n",
       "    </tr>\n",
       "    <tr>\n",
       "      <th>2</th>\n",
       "      <td>b'&lt;div&gt;&lt;p&gt;As a Data Scientist you will be work...</td>\n",
       "      <td>data scientist  entry level</td>\n",
       "    </tr>\n",
       "    <tr>\n",
       "      <th>3</th>\n",
       "      <td>b'&lt;div class=\"jobsearch-JobMetadataHeader icl-...</td>\n",
       "      <td>data scientist</td>\n",
       "    </tr>\n",
       "    <tr>\n",
       "      <th>4</th>\n",
       "      <td>b'&lt;ul&gt;&lt;li&gt;Location: USA \\xe2\\x80\\x93 multiple ...</td>\n",
       "      <td>data scientist</td>\n",
       "    </tr>\n",
       "  </tbody>\n",
       "</table>\n",
       "</div>"
      ],
      "text/plain": [
       "                                         description  \\\n",
       "0  b\"<div><div>Job Requirements:</div><ul><li><p>...   \n",
       "1  b'<div>Job Description<br/>\\n<br/>\\n<p>As a Da...   \n",
       "2  b'<div><p>As a Data Scientist you will be work...   \n",
       "3  b'<div class=\"jobsearch-JobMetadataHeader icl-...   \n",
       "4  b'<ul><li>Location: USA \\xe2\\x80\\x93 multiple ...   \n",
       "\n",
       "                         title  \n",
       "0               data scientist  \n",
       "1             data scientist i  \n",
       "2  data scientist  entry level  \n",
       "3               data scientist  \n",
       "4               data scientist  "
      ]
     },
     "execution_count": 36,
     "metadata": {},
     "output_type": "execute_result"
    }
   ],
   "source": [
    "result['title']= result['title'].apply(lower_word)\n",
    "print(result.shape)\n",
    "result.head()"
   ]
  },
  {
   "cell_type": "code",
   "execution_count": 37,
   "metadata": {},
   "outputs": [
    {
     "data": {
      "text/html": [
       "<div>\n",
       "<style scoped>\n",
       "    .dataframe tbody tr th:only-of-type {\n",
       "        vertical-align: middle;\n",
       "    }\n",
       "\n",
       "    .dataframe tbody tr th {\n",
       "        vertical-align: top;\n",
       "    }\n",
       "\n",
       "    .dataframe thead th {\n",
       "        text-align: right;\n",
       "    }\n",
       "</style>\n",
       "<table border=\"1\" class=\"dataframe\">\n",
       "  <thead>\n",
       "    <tr style=\"text-align: right;\">\n",
       "      <th></th>\n",
       "      <th>description</th>\n",
       "      <th>title</th>\n",
       "    </tr>\n",
       "  </thead>\n",
       "  <tbody>\n",
       "    <tr>\n",
       "      <th>0</th>\n",
       "      <td>b\"&lt;div&gt;&lt;div&gt;Job Requirements:&lt;/div&gt;&lt;ul&gt;&lt;li&gt;&lt;p&gt;...</td>\n",
       "      <td>data scientist</td>\n",
       "    </tr>\n",
       "    <tr>\n",
       "      <th>1</th>\n",
       "      <td>b'&lt;div&gt;Job Description&lt;br/&gt;\\n&lt;br/&gt;\\n&lt;p&gt;As a Da...</td>\n",
       "      <td>data scientist i</td>\n",
       "    </tr>\n",
       "  </tbody>\n",
       "</table>\n",
       "</div>"
      ],
      "text/plain": [
       "                                         description             title\n",
       "0  b\"<div><div>Job Requirements:</div><ul><li><p>...    data scientist\n",
       "1  b'<div>Job Description<br/>\\n<br/>\\n<p>As a Da...  data scientist i"
      ]
     },
     "execution_count": 37,
     "metadata": {},
     "output_type": "execute_result"
    }
   ],
   "source": [
    "result[result['title'].str.contains('data scientist')].head(2)"
   ]
  },
  {
   "cell_type": "code",
   "execution_count": 38,
   "metadata": {},
   "outputs": [],
   "source": [
    "def beautify(text):\n",
    "    \"\"\"\n",
    "    Extracts text from html string\n",
    "    \n",
    "    Args: \n",
    "        text(str): The html string\n",
    "        \n",
    "    Returns:\n",
    "        string: Text of the html string \n",
    "    \"\"\"\n",
    "    \n",
    "    text= BeautifulSoup(text).text\n",
    "       \n",
    "    return text"
   ]
  },
  {
   "cell_type": "code",
   "execution_count": 47,
   "metadata": {},
   "outputs": [
    {
     "data": {
      "text/html": [
       "<div>\n",
       "<style scoped>\n",
       "    .dataframe tbody tr th:only-of-type {\n",
       "        vertical-align: middle;\n",
       "    }\n",
       "\n",
       "    .dataframe tbody tr th {\n",
       "        vertical-align: top;\n",
       "    }\n",
       "\n",
       "    .dataframe thead th {\n",
       "        text-align: right;\n",
       "    }\n",
       "</style>\n",
       "<table border=\"1\" class=\"dataframe\">\n",
       "  <thead>\n",
       "    <tr style=\"text-align: right;\">\n",
       "      <th></th>\n",
       "      <th>description</th>\n",
       "      <th>title</th>\n",
       "    </tr>\n",
       "  </thead>\n",
       "  <tbody>\n",
       "    <tr>\n",
       "      <th>0</th>\n",
       "      <td>bjob requirementsnconceptual understanding in ...</td>\n",
       "      <td>data scientist</td>\n",
       "    </tr>\n",
       "    <tr>\n",
       "      <th>1</th>\n",
       "      <td>bjob descriptionnnas a data scientist 1 you wi...</td>\n",
       "      <td>data scientist i</td>\n",
       "    </tr>\n",
       "    <tr>\n",
       "      <th>2</th>\n",
       "      <td>bas a data scientist you will be working on co...</td>\n",
       "      <td>data scientist  entry level</td>\n",
       "    </tr>\n",
       "    <tr>\n",
       "      <th>3</th>\n",
       "      <td>b4969  6756 a monthcontractunder the general s...</td>\n",
       "      <td>data scientist</td>\n",
       "    </tr>\n",
       "    <tr>\n",
       "      <th>4</th>\n",
       "      <td>blocation usa xe2x80x93 multiple locationsn2 y...</td>\n",
       "      <td>data scientist</td>\n",
       "    </tr>\n",
       "  </tbody>\n",
       "</table>\n",
       "</div>"
      ],
      "text/plain": [
       "                                         description  \\\n",
       "0  bjob requirementsnconceptual understanding in ...   \n",
       "1  bjob descriptionnnas a data scientist 1 you wi...   \n",
       "2  bas a data scientist you will be working on co...   \n",
       "3  b4969  6756 a monthcontractunder the general s...   \n",
       "4  blocation usa xe2x80x93 multiple locationsn2 y...   \n",
       "\n",
       "                         title  \n",
       "0               data scientist  \n",
       "1             data scientist i  \n",
       "2  data scientist  entry level  \n",
       "3               data scientist  \n",
       "4               data scientist  "
      ]
     },
     "execution_count": 47,
     "metadata": {},
     "output_type": "execute_result"
    }
   ],
   "source": [
    "result['description']= result['description'].apply(beautify).apply(lower_word)\n",
    "result.head()"
   ]
  },
  {
   "cell_type": "code",
   "execution_count": 48,
   "metadata": {},
   "outputs": [
    {
     "name": "stdout",
     "output_type": "stream",
     "text": [
      "(426, 1)\n"
     ]
    },
    {
     "data": {
      "text/html": [
       "<div>\n",
       "<style scoped>\n",
       "    .dataframe tbody tr th:only-of-type {\n",
       "        vertical-align: middle;\n",
       "    }\n",
       "\n",
       "    .dataframe tbody tr th {\n",
       "        vertical-align: top;\n",
       "    }\n",
       "\n",
       "    .dataframe thead th {\n",
       "        text-align: right;\n",
       "    }\n",
       "</style>\n",
       "<table border=\"1\" class=\"dataframe\">\n",
       "  <thead>\n",
       "    <tr style=\"text-align: right;\">\n",
       "      <th></th>\n",
       "      <th>description</th>\n",
       "    </tr>\n",
       "  </thead>\n",
       "  <tbody>\n",
       "    <tr>\n",
       "      <th>0</th>\n",
       "      <td>bjob requirementsnconceptual understanding in ...</td>\n",
       "    </tr>\n",
       "    <tr>\n",
       "      <th>1</th>\n",
       "      <td>bjob descriptionnnas a data scientist 1 you wi...</td>\n",
       "    </tr>\n",
       "    <tr>\n",
       "      <th>2</th>\n",
       "      <td>bas a data scientist you will be working on co...</td>\n",
       "    </tr>\n",
       "    <tr>\n",
       "      <th>3</th>\n",
       "      <td>b4969  6756 a monthcontractunder the general s...</td>\n",
       "    </tr>\n",
       "    <tr>\n",
       "      <th>4</th>\n",
       "      <td>blocation usa xe2x80x93 multiple locationsn2 y...</td>\n",
       "    </tr>\n",
       "  </tbody>\n",
       "</table>\n",
       "</div>"
      ],
      "text/plain": [
       "                                         description\n",
       "0  bjob requirementsnconceptual understanding in ...\n",
       "1  bjob descriptionnnas a data scientist 1 you wi...\n",
       "2  bas a data scientist you will be working on co...\n",
       "3  b4969  6756 a monthcontractunder the general s...\n",
       "4  blocation usa xe2x80x93 multiple locationsn2 y..."
      ]
     },
     "execution_count": 48,
     "metadata": {},
     "output_type": "execute_result"
    }
   ],
   "source": [
    "result1= pd.DataFrame(result['description'])\n",
    "print(result1.shape)\n",
    "result1.head()"
   ]
  },
  {
   "cell_type": "markdown",
   "metadata": {
    "colab_type": "text",
    "id": "5C4xFZNtX1m2"
   },
   "source": [
    "## 2) Use Spacy to tokenize the listings "
   ]
  },
  {
   "cell_type": "code",
   "execution_count": 15,
   "metadata": {},
   "outputs": [],
   "source": [
    "# Tokenizer\n",
    "tokenizer = Tokenizer(nlp.vocab)\n",
    "\n",
    "# Tokenizer Pipe\n",
    "tokens = []\n",
    "\n",
    "\"\"\" Make them tokens \"\"\"\n",
    "for doc in tokenizer.pipe(result1['description'], batch_size=500):\n",
    "    doc_tokens = [token.text for token in doc]\n",
    "    tokens.append(doc_tokens)\n",
    "\n",
    "result1['description'] = tokens\n"
   ]
  },
  {
   "cell_type": "code",
   "execution_count": 16,
   "metadata": {},
   "outputs": [
    {
     "data": {
      "text/plain": [
       "0    [bjob, requirementsnconceptual, understanding,...\n",
       "1    [bjob, descriptionnnas, a, data, scientist, 1,...\n",
       "2    [bas, a, data, scientist, you, will, be, worki...\n",
       "3    [b4969,  , 6756, a, monthcontractunder, the, g...\n",
       "4    [blocation, usa, xe2x80x93, multiple, location...\n",
       "Name: description, dtype: object"
      ]
     },
     "execution_count": 16,
     "metadata": {},
     "output_type": "execute_result"
    }
   ],
   "source": [
    "result1['description'].head()"
   ]
  },
  {
   "cell_type": "markdown",
   "metadata": {},
   "source": [
    "## 3) Use Scikit-Learn's CountVectorizer to get word counts for each listing."
   ]
  },
  {
   "cell_type": "code",
   "execution_count": 74,
   "metadata": {},
   "outputs": [
    {
     "data": {
      "text/plain": [
       "426"
      ]
     },
     "execution_count": 74,
     "metadata": {},
     "output_type": "execute_result"
    }
   ],
   "source": [
    "data= list(result1['description'])\n",
    "len(data)"
   ]
  },
  {
   "cell_type": "code",
   "execution_count": 51,
   "metadata": {},
   "outputs": [],
   "source": [
    "# Apply CountVectorizer to our Data\n",
    "# Use custom Spacy Vectorizer\n",
    "\n",
    "\n",
    "from sklearn.feature_extraction.text import CountVectorizer\n",
    "\n",
    "vect = CountVectorizer(stop_words='english', max_features=1000)\n",
    "\n",
    "#Learn our Vocab\n",
    "vect.fit(data)\n",
    "\n",
    "# Get sparse dtm\n",
    "dtm_countvectorizer = vect.transform(data)\n",
    "\n"
   ]
  },
  {
   "cell_type": "code",
   "execution_count": 55,
   "metadata": {},
   "outputs": [],
   "source": [
    "dtm_countvectorizer = pd.DataFrame(dtm_countvectorizer.todense(), columns=vect.get_feature_names())"
   ]
  },
  {
   "cell_type": "code",
   "execution_count": 56,
   "metadata": {},
   "outputs": [
    {
     "data": {
      "text/plain": [
       "Index(['10', '100', '2019', 'ab', 'abilities', 'ability', 'able', 'academic',\n",
       "       'accelerate', 'access',\n",
       "       ...\n",
       "       'writing', 'written', 'xe2x80x93', 'xe2x80x94', 'year', 'years',\n",
       "       'yearsxe2x80x99', 'york', 'youll', 'youxe2x80x99ll'],\n",
       "      dtype='object', length=1000)"
      ]
     },
     "execution_count": 56,
     "metadata": {},
     "output_type": "execute_result"
    }
   ],
   "source": [
    "dtm_countvectorizer.columns"
   ]
  },
  {
   "cell_type": "code",
   "execution_count": 60,
   "metadata": {},
   "outputs": [
    {
     "data": {
      "text/html": [
       "<div>\n",
       "<style scoped>\n",
       "    .dataframe tbody tr th:only-of-type {\n",
       "        vertical-align: middle;\n",
       "    }\n",
       "\n",
       "    .dataframe tbody tr th {\n",
       "        vertical-align: top;\n",
       "    }\n",
       "\n",
       "    .dataframe thead th {\n",
       "        text-align: right;\n",
       "    }\n",
       "</style>\n",
       "<table border=\"1\" class=\"dataframe\">\n",
       "  <thead>\n",
       "    <tr style=\"text-align: right;\">\n",
       "      <th></th>\n",
       "      <th>10</th>\n",
       "      <th>100</th>\n",
       "      <th>2019</th>\n",
       "      <th>ab</th>\n",
       "      <th>abilities</th>\n",
       "      <th>ability</th>\n",
       "      <th>able</th>\n",
       "      <th>academic</th>\n",
       "      <th>accelerate</th>\n",
       "      <th>access</th>\n",
       "      <th>...</th>\n",
       "      <th>writing</th>\n",
       "      <th>written</th>\n",
       "      <th>xe2x80x93</th>\n",
       "      <th>xe2x80x94</th>\n",
       "      <th>year</th>\n",
       "      <th>years</th>\n",
       "      <th>yearsxe2x80x99</th>\n",
       "      <th>york</th>\n",
       "      <th>youll</th>\n",
       "      <th>youxe2x80x99ll</th>\n",
       "    </tr>\n",
       "  </thead>\n",
       "  <tbody>\n",
       "    <tr>\n",
       "      <th>0</th>\n",
       "      <td>0</td>\n",
       "      <td>0</td>\n",
       "      <td>0</td>\n",
       "      <td>0</td>\n",
       "      <td>0</td>\n",
       "      <td>1</td>\n",
       "      <td>0</td>\n",
       "      <td>0</td>\n",
       "      <td>0</td>\n",
       "      <td>0</td>\n",
       "      <td>...</td>\n",
       "      <td>0</td>\n",
       "      <td>0</td>\n",
       "      <td>0</td>\n",
       "      <td>0</td>\n",
       "      <td>0</td>\n",
       "      <td>0</td>\n",
       "      <td>0</td>\n",
       "      <td>0</td>\n",
       "      <td>0</td>\n",
       "      <td>0</td>\n",
       "    </tr>\n",
       "    <tr>\n",
       "      <th>1</th>\n",
       "      <td>0</td>\n",
       "      <td>0</td>\n",
       "      <td>0</td>\n",
       "      <td>0</td>\n",
       "      <td>0</td>\n",
       "      <td>1</td>\n",
       "      <td>0</td>\n",
       "      <td>0</td>\n",
       "      <td>0</td>\n",
       "      <td>0</td>\n",
       "      <td>...</td>\n",
       "      <td>2</td>\n",
       "      <td>1</td>\n",
       "      <td>0</td>\n",
       "      <td>0</td>\n",
       "      <td>1</td>\n",
       "      <td>0</td>\n",
       "      <td>0</td>\n",
       "      <td>0</td>\n",
       "      <td>0</td>\n",
       "      <td>0</td>\n",
       "    </tr>\n",
       "    <tr>\n",
       "      <th>2</th>\n",
       "      <td>0</td>\n",
       "      <td>0</td>\n",
       "      <td>0</td>\n",
       "      <td>0</td>\n",
       "      <td>0</td>\n",
       "      <td>0</td>\n",
       "      <td>0</td>\n",
       "      <td>0</td>\n",
       "      <td>0</td>\n",
       "      <td>0</td>\n",
       "      <td>...</td>\n",
       "      <td>0</td>\n",
       "      <td>0</td>\n",
       "      <td>0</td>\n",
       "      <td>0</td>\n",
       "      <td>0</td>\n",
       "      <td>0</td>\n",
       "      <td>0</td>\n",
       "      <td>0</td>\n",
       "      <td>0</td>\n",
       "      <td>0</td>\n",
       "    </tr>\n",
       "    <tr>\n",
       "      <th>3</th>\n",
       "      <td>0</td>\n",
       "      <td>0</td>\n",
       "      <td>0</td>\n",
       "      <td>0</td>\n",
       "      <td>0</td>\n",
       "      <td>0</td>\n",
       "      <td>0</td>\n",
       "      <td>0</td>\n",
       "      <td>0</td>\n",
       "      <td>0</td>\n",
       "      <td>...</td>\n",
       "      <td>0</td>\n",
       "      <td>0</td>\n",
       "      <td>0</td>\n",
       "      <td>0</td>\n",
       "      <td>0</td>\n",
       "      <td>0</td>\n",
       "      <td>0</td>\n",
       "      <td>0</td>\n",
       "      <td>0</td>\n",
       "      <td>0</td>\n",
       "    </tr>\n",
       "    <tr>\n",
       "      <th>4</th>\n",
       "      <td>0</td>\n",
       "      <td>0</td>\n",
       "      <td>0</td>\n",
       "      <td>0</td>\n",
       "      <td>0</td>\n",
       "      <td>0</td>\n",
       "      <td>0</td>\n",
       "      <td>0</td>\n",
       "      <td>0</td>\n",
       "      <td>0</td>\n",
       "      <td>...</td>\n",
       "      <td>0</td>\n",
       "      <td>0</td>\n",
       "      <td>1</td>\n",
       "      <td>0</td>\n",
       "      <td>0</td>\n",
       "      <td>1</td>\n",
       "      <td>0</td>\n",
       "      <td>0</td>\n",
       "      <td>0</td>\n",
       "      <td>0</td>\n",
       "    </tr>\n",
       "  </tbody>\n",
       "</table>\n",
       "<p>5 rows × 1000 columns</p>\n",
       "</div>"
      ],
      "text/plain": [
       "   10  100  2019  ab  abilities  ability  able  academic  accelerate  access  \\\n",
       "0   0    0     0   0          0        1     0         0           0       0   \n",
       "1   0    0     0   0          0        1     0         0           0       0   \n",
       "2   0    0     0   0          0        0     0         0           0       0   \n",
       "3   0    0     0   0          0        0     0         0           0       0   \n",
       "4   0    0     0   0          0        0     0         0           0       0   \n",
       "\n",
       "   ...  writing  written  xe2x80x93  xe2x80x94  year  years  yearsxe2x80x99  \\\n",
       "0  ...        0        0          0          0     0      0               0   \n",
       "1  ...        2        1          0          0     1      0               0   \n",
       "2  ...        0        0          0          0     0      0               0   \n",
       "3  ...        0        0          0          0     0      0               0   \n",
       "4  ...        0        0          1          0     0      1               0   \n",
       "\n",
       "   york  youll  youxe2x80x99ll  \n",
       "0     0      0               0  \n",
       "1     0      0               0  \n",
       "2     0      0               0  \n",
       "3     0      0               0  \n",
       "4     0      0               0  \n",
       "\n",
       "[5 rows x 1000 columns]"
      ]
     },
     "execution_count": 60,
     "metadata": {},
     "output_type": "execute_result"
    }
   ],
   "source": [
    "dtm_countvectorizer.head()"
   ]
  },
  {
   "cell_type": "markdown",
   "metadata": {},
   "source": [
    "## 4) Visualize the most common word counts\n"
   ]
  },
  {
   "cell_type": "code",
   "execution_count": 67,
   "metadata": {},
   "outputs": [],
   "source": [
    "#Length of each document in the data list\n",
    "\n",
    "doc_len = [len(doc) for doc in data]\n"
   ]
  },
  {
   "cell_type": "code",
   "execution_count": 68,
   "metadata": {},
   "outputs": [
    {
     "data": {
      "image/png": "[encoded data removed]",
      "text/plain": [
       "<Figure size 432x288 with 1 Axes>"
      ]
     },
     "metadata": {
      "needs_background": "light"
     },
     "output_type": "display_data"
    }
   ],
   "source": [
    "import seaborn as sns\n",
    "\n",
    "sns.distplot(doc_len);"
   ]
  },
  {
   "cell_type": "code",
   "execution_count": null,
   "metadata": {},
   "outputs": [],
   "source": []
  },
  {
   "cell_type": "markdown",
   "metadata": {
    "colab_type": "text",
    "id": "bwFsTqrVZMYi"
   },
   "source": [
    "## 5) Use Scikit-Learn's tfidfVectorizer to get a TF-IDF feature matrix"
   ]
  },
  {
   "cell_type": "code",
   "execution_count": 41,
   "metadata": {},
   "outputs": [],
   "source": [
    "# make a copy of the list of posts\n",
    "\n",
    "post= result.copy()"
   ]
  },
  {
   "cell_type": "code",
   "execution_count": 82,
   "metadata": {},
   "outputs": [
    {
     "data": {
      "text/html": [
       "<div>\n",
       "<style scoped>\n",
       "    .dataframe tbody tr th:only-of-type {\n",
       "        vertical-align: middle;\n",
       "    }\n",
       "\n",
       "    .dataframe tbody tr th {\n",
       "        vertical-align: top;\n",
       "    }\n",
       "\n",
       "    .dataframe thead th {\n",
       "        text-align: right;\n",
       "    }\n",
       "</style>\n",
       "<table border=\"1\" class=\"dataframe\">\n",
       "  <thead>\n",
       "    <tr style=\"text-align: right;\">\n",
       "      <th></th>\n",
       "      <th>description</th>\n",
       "      <th>title</th>\n",
       "    </tr>\n",
       "  </thead>\n",
       "  <tbody>\n",
       "    <tr>\n",
       "      <th>0</th>\n",
       "      <td>bjob requirementsnconceptual understanding in ...</td>\n",
       "      <td>data scientist</td>\n",
       "    </tr>\n",
       "    <tr>\n",
       "      <th>1</th>\n",
       "      <td>bjob descriptionnnas a data scientist 1 you wi...</td>\n",
       "      <td>data scientist i</td>\n",
       "    </tr>\n",
       "    <tr>\n",
       "      <th>2</th>\n",
       "      <td>bas a data scientist you will be working on co...</td>\n",
       "      <td>data scientist  entry level</td>\n",
       "    </tr>\n",
       "    <tr>\n",
       "      <th>3</th>\n",
       "      <td>b4969  6756 a monthcontractunder the general s...</td>\n",
       "      <td>data scientist</td>\n",
       "    </tr>\n",
       "    <tr>\n",
       "      <th>4</th>\n",
       "      <td>blocation usa xe2x80x93 multiple locationsn2 y...</td>\n",
       "      <td>data scientist</td>\n",
       "    </tr>\n",
       "  </tbody>\n",
       "</table>\n",
       "</div>"
      ],
      "text/plain": [
       "                                         description  \\\n",
       "0  bjob requirementsnconceptual understanding in ...   \n",
       "1  bjob descriptionnnas a data scientist 1 you wi...   \n",
       "2  bas a data scientist you will be working on co...   \n",
       "3  b4969  6756 a monthcontractunder the general s...   \n",
       "4  blocation usa xe2x80x93 multiple locationsn2 y...   \n",
       "\n",
       "                         title  \n",
       "0               data scientist  \n",
       "1             data scientist i  \n",
       "2  data scientist  entry level  \n",
       "3               data scientist  \n",
       "4               data scientist  "
      ]
     },
     "execution_count": 82,
     "metadata": {},
     "output_type": "execute_result"
    }
   ],
   "source": [
    "post.head()"
   ]
  },
  {
   "cell_type": "code",
   "execution_count": 76,
   "metadata": {},
   "outputs": [
    {
     "data": {
      "text/plain": [
       "426"
      ]
     },
     "execution_count": 76,
     "metadata": {},
     "output_type": "execute_result"
    }
   ],
   "source": [
    "post_data = list(post['description'])\n",
    "len(post_data)"
   ]
  },
  {
   "cell_type": "code",
   "execution_count": 81,
   "metadata": {},
   "outputs": [
    {
     "data": {
      "text/html": [
       "<div>\n",
       "<style scoped>\n",
       "    .dataframe tbody tr th:only-of-type {\n",
       "        vertical-align: middle;\n",
       "    }\n",
       "\n",
       "    .dataframe tbody tr th {\n",
       "        vertical-align: top;\n",
       "    }\n",
       "\n",
       "    .dataframe thead th {\n",
       "        text-align: right;\n",
       "    }\n",
       "</style>\n",
       "<table border=\"1\" class=\"dataframe\">\n",
       "  <thead>\n",
       "    <tr style=\"text-align: right;\">\n",
       "      <th></th>\n",
       "      <th>10</th>\n",
       "      <th>100</th>\n",
       "      <th>1000</th>\n",
       "      <th>100000</th>\n",
       "      <th>11</th>\n",
       "      <th>12</th>\n",
       "      <th>13</th>\n",
       "      <th>15</th>\n",
       "      <th>17</th>\n",
       "      <th>18</th>\n",
       "      <th>...</th>\n",
       "      <th>youxe2x80x99ll</th>\n",
       "      <th>youxe2x80x99re</th>\n",
       "      <th>youxe2x80x99ve</th>\n",
       "      <th>yrs</th>\n",
       "      <th>zero</th>\n",
       "      <th>zeus</th>\n",
       "      <th>zf</th>\n",
       "      <th>zfxe2x80x99s</th>\n",
       "      <th>zillow</th>\n",
       "      <th>zuckerberg</th>\n",
       "    </tr>\n",
       "  </thead>\n",
       "  <tbody>\n",
       "    <tr>\n",
       "      <th>0</th>\n",
       "      <td>0.0</td>\n",
       "      <td>0.0</td>\n",
       "      <td>0.0</td>\n",
       "      <td>0.0</td>\n",
       "      <td>0.0</td>\n",
       "      <td>0.0</td>\n",
       "      <td>0.0</td>\n",
       "      <td>0.0</td>\n",
       "      <td>0.0</td>\n",
       "      <td>0.0</td>\n",
       "      <td>...</td>\n",
       "      <td>0.0</td>\n",
       "      <td>0.0</td>\n",
       "      <td>0.0</td>\n",
       "      <td>0.0</td>\n",
       "      <td>0.0</td>\n",
       "      <td>0.0</td>\n",
       "      <td>0.0</td>\n",
       "      <td>0.0</td>\n",
       "      <td>0.0</td>\n",
       "      <td>0.0</td>\n",
       "    </tr>\n",
       "    <tr>\n",
       "      <th>1</th>\n",
       "      <td>0.0</td>\n",
       "      <td>0.0</td>\n",
       "      <td>0.0</td>\n",
       "      <td>0.0</td>\n",
       "      <td>0.0</td>\n",
       "      <td>0.0</td>\n",
       "      <td>0.0</td>\n",
       "      <td>0.0</td>\n",
       "      <td>0.0</td>\n",
       "      <td>0.0</td>\n",
       "      <td>...</td>\n",
       "      <td>0.0</td>\n",
       "      <td>0.0</td>\n",
       "      <td>0.0</td>\n",
       "      <td>0.0</td>\n",
       "      <td>0.0</td>\n",
       "      <td>0.0</td>\n",
       "      <td>0.0</td>\n",
       "      <td>0.0</td>\n",
       "      <td>0.0</td>\n",
       "      <td>0.0</td>\n",
       "    </tr>\n",
       "    <tr>\n",
       "      <th>2</th>\n",
       "      <td>0.0</td>\n",
       "      <td>0.0</td>\n",
       "      <td>0.0</td>\n",
       "      <td>0.0</td>\n",
       "      <td>0.0</td>\n",
       "      <td>0.0</td>\n",
       "      <td>0.0</td>\n",
       "      <td>0.0</td>\n",
       "      <td>0.0</td>\n",
       "      <td>0.0</td>\n",
       "      <td>...</td>\n",
       "      <td>0.0</td>\n",
       "      <td>0.0</td>\n",
       "      <td>0.0</td>\n",
       "      <td>0.0</td>\n",
       "      <td>0.0</td>\n",
       "      <td>0.0</td>\n",
       "      <td>0.0</td>\n",
       "      <td>0.0</td>\n",
       "      <td>0.0</td>\n",
       "      <td>0.0</td>\n",
       "    </tr>\n",
       "    <tr>\n",
       "      <th>3</th>\n",
       "      <td>0.0</td>\n",
       "      <td>0.0</td>\n",
       "      <td>0.0</td>\n",
       "      <td>0.0</td>\n",
       "      <td>0.0</td>\n",
       "      <td>0.0</td>\n",
       "      <td>0.0</td>\n",
       "      <td>0.0</td>\n",
       "      <td>0.0</td>\n",
       "      <td>0.0</td>\n",
       "      <td>...</td>\n",
       "      <td>0.0</td>\n",
       "      <td>0.0</td>\n",
       "      <td>0.0</td>\n",
       "      <td>0.0</td>\n",
       "      <td>0.0</td>\n",
       "      <td>0.0</td>\n",
       "      <td>0.0</td>\n",
       "      <td>0.0</td>\n",
       "      <td>0.0</td>\n",
       "      <td>0.0</td>\n",
       "    </tr>\n",
       "    <tr>\n",
       "      <th>4</th>\n",
       "      <td>0.0</td>\n",
       "      <td>0.0</td>\n",
       "      <td>0.0</td>\n",
       "      <td>0.0</td>\n",
       "      <td>0.0</td>\n",
       "      <td>0.0</td>\n",
       "      <td>0.0</td>\n",
       "      <td>0.0</td>\n",
       "      <td>0.0</td>\n",
       "      <td>0.0</td>\n",
       "      <td>...</td>\n",
       "      <td>0.0</td>\n",
       "      <td>0.0</td>\n",
       "      <td>0.0</td>\n",
       "      <td>0.0</td>\n",
       "      <td>0.0</td>\n",
       "      <td>0.0</td>\n",
       "      <td>0.0</td>\n",
       "      <td>0.0</td>\n",
       "      <td>0.0</td>\n",
       "      <td>0.0</td>\n",
       "    </tr>\n",
       "  </tbody>\n",
       "</table>\n",
       "<p>5 rows × 5000 columns</p>\n",
       "</div>"
      ],
      "text/plain": [
       "    10  100  1000  100000   11   12   13   15   17   18  ...  youxe2x80x99ll  \\\n",
       "0  0.0  0.0   0.0     0.0  0.0  0.0  0.0  0.0  0.0  0.0  ...             0.0   \n",
       "1  0.0  0.0   0.0     0.0  0.0  0.0  0.0  0.0  0.0  0.0  ...             0.0   \n",
       "2  0.0  0.0   0.0     0.0  0.0  0.0  0.0  0.0  0.0  0.0  ...             0.0   \n",
       "3  0.0  0.0   0.0     0.0  0.0  0.0  0.0  0.0  0.0  0.0  ...             0.0   \n",
       "4  0.0  0.0   0.0     0.0  0.0  0.0  0.0  0.0  0.0  0.0  ...             0.0   \n",
       "\n",
       "   youxe2x80x99re  youxe2x80x99ve  yrs  zero  zeus   zf  zfxe2x80x99s  zillow  \\\n",
       "0             0.0             0.0  0.0   0.0   0.0  0.0           0.0     0.0   \n",
       "1             0.0             0.0  0.0   0.0   0.0  0.0           0.0     0.0   \n",
       "2             0.0             0.0  0.0   0.0   0.0  0.0           0.0     0.0   \n",
       "3             0.0             0.0  0.0   0.0   0.0  0.0           0.0     0.0   \n",
       "4             0.0             0.0  0.0   0.0   0.0  0.0           0.0     0.0   \n",
       "\n",
       "   zuckerberg  \n",
       "0         0.0  \n",
       "1         0.0  \n",
       "2         0.0  \n",
       "3         0.0  \n",
       "4         0.0  \n",
       "\n",
       "[5 rows x 5000 columns]"
      ]
     },
     "execution_count": 81,
     "metadata": {},
     "output_type": "execute_result"
    }
   ],
   "source": [
    "# Apply TFIDF Vectorizer to our Data\n",
    "\n",
    "from sklearn.feature_extraction.text import TfidfVectorizer\n",
    "\n",
    "#Instantiate vectorizer object\n",
    "tfidf= TfidfVectorizer(stop_words='english', max_features=5000)\n",
    "\n",
    "#Create a vocabulaey and get word counts per document\n",
    "#SImila to fit_prdict\n",
    "dtm_tfidf= tfidf.fit_transform(post_data)\n",
    "\n",
    "# Get feature names for DF column headers\n",
    "dtm_tfidf= pd.DataFrame(dtm_tfidf.todense(), columns = tfidf.get_feature_names())\n",
    "\n",
    "#View Feature Matrix as Dataframe\n",
    "dtm_tfidf.head()"
   ]
  },
  {
   "cell_type": "code",
   "execution_count": 88,
   "metadata": {},
   "outputs": [],
   "source": [
    "# Tokenization function\n",
    "\n",
    "def tokenize(document):\n",
    "    doc = nlp(document)\n",
    "    return [token.lemma_.strip() for token in doc if (token.is_stop !=True) and (token.is_punct !=True)]"
   ]
  },
  {
   "cell_type": "code",
   "execution_count": 89,
   "metadata": {},
   "outputs": [
    {
     "data": {
      "text/html": [
       "<div>\n",
       "<style scoped>\n",
       "    .dataframe tbody tr th:only-of-type {\n",
       "        vertical-align: middle;\n",
       "    }\n",
       "\n",
       "    .dataframe tbody tr th {\n",
       "        vertical-align: top;\n",
       "    }\n",
       "\n",
       "    .dataframe thead th {\n",
       "        text-align: right;\n",
       "    }\n",
       "</style>\n",
       "<table border=\"1\" class=\"dataframe\">\n",
       "  <thead>\n",
       "    <tr style=\"text-align: right;\">\n",
       "      <th></th>\n",
       "      <th></th>\n",
       "      <th>ability</th>\n",
       "      <th>able</th>\n",
       "      <th>analytic</th>\n",
       "      <th>business</th>\n",
       "      <th>datum</th>\n",
       "      <th>deep</th>\n",
       "      <th>design</th>\n",
       "      <th>disability</th>\n",
       "      <th>gender</th>\n",
       "      <th>...</th>\n",
       "      <th>yearsxe2x80x99 experience</th>\n",
       "      <th>yes</th>\n",
       "      <th>york</th>\n",
       "      <th>york city</th>\n",
       "      <th>younnabout</th>\n",
       "      <th>youxe2x80x99ll</th>\n",
       "      <th>youxe2x80x99ll work</th>\n",
       "      <th>youxe2x80x99re</th>\n",
       "      <th>youxe2x80x99re look</th>\n",
       "      <th>youxe2x80x99ve</th>\n",
       "    </tr>\n",
       "  </thead>\n",
       "  <tbody>\n",
       "    <tr>\n",
       "      <th>0</th>\n",
       "      <td>0.000000</td>\n",
       "      <td>0.0</td>\n",
       "      <td>0.0</td>\n",
       "      <td>0.0</td>\n",
       "      <td>0.0</td>\n",
       "      <td>0.0</td>\n",
       "      <td>0.0</td>\n",
       "      <td>0.0</td>\n",
       "      <td>0.0</td>\n",
       "      <td>0.0</td>\n",
       "      <td>...</td>\n",
       "      <td>0.0</td>\n",
       "      <td>0.0</td>\n",
       "      <td>0.0</td>\n",
       "      <td>0.0</td>\n",
       "      <td>0.0</td>\n",
       "      <td>0.0</td>\n",
       "      <td>0.0</td>\n",
       "      <td>0.0</td>\n",
       "      <td>0.0</td>\n",
       "      <td>0.0</td>\n",
       "    </tr>\n",
       "    <tr>\n",
       "      <th>1</th>\n",
       "      <td>0.046252</td>\n",
       "      <td>0.0</td>\n",
       "      <td>0.0</td>\n",
       "      <td>0.0</td>\n",
       "      <td>0.0</td>\n",
       "      <td>0.0</td>\n",
       "      <td>0.0</td>\n",
       "      <td>0.0</td>\n",
       "      <td>0.0</td>\n",
       "      <td>0.0</td>\n",
       "      <td>...</td>\n",
       "      <td>0.0</td>\n",
       "      <td>0.0</td>\n",
       "      <td>0.0</td>\n",
       "      <td>0.0</td>\n",
       "      <td>0.0</td>\n",
       "      <td>0.0</td>\n",
       "      <td>0.0</td>\n",
       "      <td>0.0</td>\n",
       "      <td>0.0</td>\n",
       "      <td>0.0</td>\n",
       "    </tr>\n",
       "    <tr>\n",
       "      <th>2</th>\n",
       "      <td>0.000000</td>\n",
       "      <td>0.0</td>\n",
       "      <td>0.0</td>\n",
       "      <td>0.0</td>\n",
       "      <td>0.0</td>\n",
       "      <td>0.0</td>\n",
       "      <td>0.0</td>\n",
       "      <td>0.0</td>\n",
       "      <td>0.0</td>\n",
       "      <td>0.0</td>\n",
       "      <td>...</td>\n",
       "      <td>0.0</td>\n",
       "      <td>0.0</td>\n",
       "      <td>0.0</td>\n",
       "      <td>0.0</td>\n",
       "      <td>0.0</td>\n",
       "      <td>0.0</td>\n",
       "      <td>0.0</td>\n",
       "      <td>0.0</td>\n",
       "      <td>0.0</td>\n",
       "      <td>0.0</td>\n",
       "    </tr>\n",
       "    <tr>\n",
       "      <th>3</th>\n",
       "      <td>0.066985</td>\n",
       "      <td>0.0</td>\n",
       "      <td>0.0</td>\n",
       "      <td>0.0</td>\n",
       "      <td>0.0</td>\n",
       "      <td>0.0</td>\n",
       "      <td>0.0</td>\n",
       "      <td>0.0</td>\n",
       "      <td>0.0</td>\n",
       "      <td>0.0</td>\n",
       "      <td>...</td>\n",
       "      <td>0.0</td>\n",
       "      <td>0.0</td>\n",
       "      <td>0.0</td>\n",
       "      <td>0.0</td>\n",
       "      <td>0.0</td>\n",
       "      <td>0.0</td>\n",
       "      <td>0.0</td>\n",
       "      <td>0.0</td>\n",
       "      <td>0.0</td>\n",
       "      <td>0.0</td>\n",
       "    </tr>\n",
       "    <tr>\n",
       "      <th>4</th>\n",
       "      <td>0.000000</td>\n",
       "      <td>0.0</td>\n",
       "      <td>0.0</td>\n",
       "      <td>0.0</td>\n",
       "      <td>0.0</td>\n",
       "      <td>0.0</td>\n",
       "      <td>0.0</td>\n",
       "      <td>0.0</td>\n",
       "      <td>0.0</td>\n",
       "      <td>0.0</td>\n",
       "      <td>...</td>\n",
       "      <td>0.0</td>\n",
       "      <td>0.0</td>\n",
       "      <td>0.0</td>\n",
       "      <td>0.0</td>\n",
       "      <td>0.0</td>\n",
       "      <td>0.0</td>\n",
       "      <td>0.0</td>\n",
       "      <td>0.0</td>\n",
       "      <td>0.0</td>\n",
       "      <td>0.0</td>\n",
       "    </tr>\n",
       "  </tbody>\n",
       "</table>\n",
       "<p>5 rows × 5010 columns</p>\n",
       "</div>"
      ],
      "text/plain": [
       "              ability   able   analytic   business   datum   deep   design  \\\n",
       "0  0.000000       0.0    0.0        0.0        0.0     0.0    0.0      0.0   \n",
       "1  0.046252       0.0    0.0        0.0        0.0     0.0    0.0      0.0   \n",
       "2  0.000000       0.0    0.0        0.0        0.0     0.0    0.0      0.0   \n",
       "3  0.066985       0.0    0.0        0.0        0.0     0.0    0.0      0.0   \n",
       "4  0.000000       0.0    0.0        0.0        0.0     0.0    0.0      0.0   \n",
       "\n",
       "    disability   gender  ...  yearsxe2x80x99 experience  yes  york  york city  \\\n",
       "0          0.0      0.0  ...                        0.0  0.0   0.0        0.0   \n",
       "1          0.0      0.0  ...                        0.0  0.0   0.0        0.0   \n",
       "2          0.0      0.0  ...                        0.0  0.0   0.0        0.0   \n",
       "3          0.0      0.0  ...                        0.0  0.0   0.0        0.0   \n",
       "4          0.0      0.0  ...                        0.0  0.0   0.0        0.0   \n",
       "\n",
       "   younnabout  youxe2x80x99ll  youxe2x80x99ll work  youxe2x80x99re  \\\n",
       "0         0.0             0.0                  0.0             0.0   \n",
       "1         0.0             0.0                  0.0             0.0   \n",
       "2         0.0             0.0                  0.0             0.0   \n",
       "3         0.0             0.0                  0.0             0.0   \n",
       "4         0.0             0.0                  0.0             0.0   \n",
       "\n",
       "   youxe2x80x99re look  youxe2x80x99ve  \n",
       "0                  0.0             0.0  \n",
       "1                  0.0             0.0  \n",
       "2                  0.0             0.0  \n",
       "3                  0.0             0.0  \n",
       "4                  0.0             0.0  \n",
       "\n",
       "[5 rows x 5010 columns]"
      ]
     },
     "execution_count": 89,
     "metadata": {},
     "output_type": "execute_result"
    }
   ],
   "source": [
    "# Tuning Parameters\n",
    "\n",
    "# Instantiate vectorizer object\n",
    "tfidf = TfidfVectorizer (stop_words = 'english',\n",
    "                        ngram_range = (1,2),\n",
    "                        max_df = .90,\n",
    "                        min_df = 5,\n",
    "                        tokenizer = tokenize)\n",
    "\n",
    "# Create Vocabulary and get words per document\n",
    "dtm= tfidf.fit_transform(post_data)\n",
    "\n",
    "# Get Feature names for dataframe\n",
    "dtm = pd.DataFrame(dtm.todense(), columns = tfidf.get_feature_names())\n",
    "\n",
    "# View matrix\n",
    "dtm.head()\n"
   ]
  },
  {
   "cell_type": "markdown",
   "metadata": {},
   "source": [
    "## Query using Cosine Similarity"
   ]
  },
  {
   "cell_type": "code",
   "execution_count": 92,
   "metadata": {},
   "outputs": [
    {
     "name": "stdout",
     "output_type": "stream",
     "text": [
      "(426, 426)\n"
     ]
    },
    {
     "data": {
      "text/html": [
       "<div>\n",
       "<style scoped>\n",
       "    .dataframe tbody tr th:only-of-type {\n",
       "        vertical-align: middle;\n",
       "    }\n",
       "\n",
       "    .dataframe tbody tr th {\n",
       "        vertical-align: top;\n",
       "    }\n",
       "\n",
       "    .dataframe thead th {\n",
       "        text-align: right;\n",
       "    }\n",
       "</style>\n",
       "<table border=\"1\" class=\"dataframe\">\n",
       "  <thead>\n",
       "    <tr style=\"text-align: right;\">\n",
       "      <th></th>\n",
       "      <th>0</th>\n",
       "      <th>1</th>\n",
       "      <th>2</th>\n",
       "      <th>3</th>\n",
       "      <th>4</th>\n",
       "      <th>5</th>\n",
       "      <th>6</th>\n",
       "      <th>7</th>\n",
       "      <th>8</th>\n",
       "      <th>9</th>\n",
       "      <th>...</th>\n",
       "      <th>416</th>\n",
       "      <th>417</th>\n",
       "      <th>418</th>\n",
       "      <th>419</th>\n",
       "      <th>420</th>\n",
       "      <th>421</th>\n",
       "      <th>422</th>\n",
       "      <th>423</th>\n",
       "      <th>424</th>\n",
       "      <th>425</th>\n",
       "    </tr>\n",
       "  </thead>\n",
       "  <tbody>\n",
       "    <tr>\n",
       "      <th>0</th>\n",
       "      <td>1.000000</td>\n",
       "      <td>0.062686</td>\n",
       "      <td>0.019679</td>\n",
       "      <td>0.002130</td>\n",
       "      <td>0.019917</td>\n",
       "      <td>0.071465</td>\n",
       "      <td>0.022006</td>\n",
       "      <td>0.034935</td>\n",
       "      <td>0.051274</td>\n",
       "      <td>0.027989</td>\n",
       "      <td>...</td>\n",
       "      <td>0.049541</td>\n",
       "      <td>0.068330</td>\n",
       "      <td>0.036639</td>\n",
       "      <td>0.072127</td>\n",
       "      <td>0.031811</td>\n",
       "      <td>0.027097</td>\n",
       "      <td>0.025850</td>\n",
       "      <td>0.028476</td>\n",
       "      <td>0.044234</td>\n",
       "      <td>0.047332</td>\n",
       "    </tr>\n",
       "    <tr>\n",
       "      <th>1</th>\n",
       "      <td>0.062686</td>\n",
       "      <td>1.000000</td>\n",
       "      <td>0.056919</td>\n",
       "      <td>0.040549</td>\n",
       "      <td>0.030598</td>\n",
       "      <td>0.094352</td>\n",
       "      <td>0.103249</td>\n",
       "      <td>0.088285</td>\n",
       "      <td>0.125112</td>\n",
       "      <td>0.092206</td>\n",
       "      <td>...</td>\n",
       "      <td>0.119533</td>\n",
       "      <td>0.150726</td>\n",
       "      <td>0.047212</td>\n",
       "      <td>0.112655</td>\n",
       "      <td>0.112788</td>\n",
       "      <td>0.120003</td>\n",
       "      <td>0.084317</td>\n",
       "      <td>0.086640</td>\n",
       "      <td>0.084154</td>\n",
       "      <td>0.087207</td>\n",
       "    </tr>\n",
       "    <tr>\n",
       "      <th>2</th>\n",
       "      <td>0.019679</td>\n",
       "      <td>0.056919</td>\n",
       "      <td>1.000000</td>\n",
       "      <td>0.014722</td>\n",
       "      <td>0.031885</td>\n",
       "      <td>0.075595</td>\n",
       "      <td>0.093346</td>\n",
       "      <td>0.098013</td>\n",
       "      <td>0.098792</td>\n",
       "      <td>0.034772</td>\n",
       "      <td>...</td>\n",
       "      <td>0.048253</td>\n",
       "      <td>0.042111</td>\n",
       "      <td>0.055500</td>\n",
       "      <td>0.112884</td>\n",
       "      <td>0.074692</td>\n",
       "      <td>0.050450</td>\n",
       "      <td>0.047375</td>\n",
       "      <td>0.030260</td>\n",
       "      <td>0.094717</td>\n",
       "      <td>0.065413</td>\n",
       "    </tr>\n",
       "    <tr>\n",
       "      <th>3</th>\n",
       "      <td>0.002130</td>\n",
       "      <td>0.040549</td>\n",
       "      <td>0.014722</td>\n",
       "      <td>1.000000</td>\n",
       "      <td>0.000000</td>\n",
       "      <td>0.042882</td>\n",
       "      <td>0.022569</td>\n",
       "      <td>0.112442</td>\n",
       "      <td>0.047550</td>\n",
       "      <td>0.091830</td>\n",
       "      <td>...</td>\n",
       "      <td>0.059923</td>\n",
       "      <td>0.043073</td>\n",
       "      <td>0.004891</td>\n",
       "      <td>0.072265</td>\n",
       "      <td>0.035651</td>\n",
       "      <td>0.088729</td>\n",
       "      <td>0.024723</td>\n",
       "      <td>0.108208</td>\n",
       "      <td>0.102136</td>\n",
       "      <td>0.150996</td>\n",
       "    </tr>\n",
       "    <tr>\n",
       "      <th>4</th>\n",
       "      <td>0.019917</td>\n",
       "      <td>0.030598</td>\n",
       "      <td>0.031885</td>\n",
       "      <td>0.000000</td>\n",
       "      <td>1.000000</td>\n",
       "      <td>0.049510</td>\n",
       "      <td>0.018818</td>\n",
       "      <td>0.029355</td>\n",
       "      <td>0.055395</td>\n",
       "      <td>0.018894</td>\n",
       "      <td>...</td>\n",
       "      <td>0.020516</td>\n",
       "      <td>0.109436</td>\n",
       "      <td>0.025194</td>\n",
       "      <td>0.098542</td>\n",
       "      <td>0.011704</td>\n",
       "      <td>0.023620</td>\n",
       "      <td>0.011017</td>\n",
       "      <td>0.014808</td>\n",
       "      <td>0.021802</td>\n",
       "      <td>0.049322</td>\n",
       "    </tr>\n",
       "  </tbody>\n",
       "</table>\n",
       "<p>5 rows × 426 columns</p>\n",
       "</div>"
      ],
      "text/plain": [
       "        0         1         2         3         4         5         6    \\\n",
       "0  1.000000  0.062686  0.019679  0.002130  0.019917  0.071465  0.022006   \n",
       "1  0.062686  1.000000  0.056919  0.040549  0.030598  0.094352  0.103249   \n",
       "2  0.019679  0.056919  1.000000  0.014722  0.031885  0.075595  0.093346   \n",
       "3  0.002130  0.040549  0.014722  1.000000  0.000000  0.042882  0.022569   \n",
       "4  0.019917  0.030598  0.031885  0.000000  1.000000  0.049510  0.018818   \n",
       "\n",
       "        7         8         9    ...       416       417       418       419  \\\n",
       "0  0.034935  0.051274  0.027989  ...  0.049541  0.068330  0.036639  0.072127   \n",
       "1  0.088285  0.125112  0.092206  ...  0.119533  0.150726  0.047212  0.112655   \n",
       "2  0.098013  0.098792  0.034772  ...  0.048253  0.042111  0.055500  0.112884   \n",
       "3  0.112442  0.047550  0.091830  ...  0.059923  0.043073  0.004891  0.072265   \n",
       "4  0.029355  0.055395  0.018894  ...  0.020516  0.109436  0.025194  0.098542   \n",
       "\n",
       "        420       421       422       423       424       425  \n",
       "0  0.031811  0.027097  0.025850  0.028476  0.044234  0.047332  \n",
       "1  0.112788  0.120003  0.084317  0.086640  0.084154  0.087207  \n",
       "2  0.074692  0.050450  0.047375  0.030260  0.094717  0.065413  \n",
       "3  0.035651  0.088729  0.024723  0.108208  0.102136  0.150996  \n",
       "4  0.011704  0.023620  0.011017  0.014808  0.021802  0.049322  \n",
       "\n",
       "[5 rows x 426 columns]"
      ]
     },
     "execution_count": 92,
     "metadata": {},
     "output_type": "execute_result"
    }
   ],
   "source": [
    "# Calculate Distance of TF-IDF Vectors\n",
    "\n",
    "from sklearn.metrics.pairwise import cosine_similarity\n",
    "\n",
    "dist_matrix = cosine_similarity(dtm)\n",
    "\n",
    "# Convert to a dataframe\n",
    "dist_df = pd.DataFrame(dist_matrix)\n",
    "print(dist_df.shape)\n",
    "dist_df.head()"
   ]
  },
  {
   "cell_type": "code",
   "execution_count": 99,
   "metadata": {},
   "outputs": [
    {
     "data": {
      "text/plain": [
       "'bjob descriptionnnas a data scientist 1 you will help us build machine learning models data pipelines and microservices to help our clients navigate their healthcare journey you will do so by empoweri'"
      ]
     },
     "execution_count": 99,
     "metadata": {},
     "output_type": "execute_result"
    }
   ],
   "source": [
    "# pick a random document, and its first 200 charaters\n",
    "\n",
    "post_data[1][:200]"
   ]
  },
  {
   "cell_type": "code",
   "execution_count": 96,
   "metadata": {},
   "outputs": [
    {
     "data": {
      "text/plain": [
       "0    0.062686\n",
       "1    1.000000\n",
       "2    0.056919\n",
       "3    0.040549\n",
       "4    0.030598\n",
       "Name: 1, dtype: float64"
      ]
     },
     "execution_count": 96,
     "metadata": {},
     "output_type": "execute_result"
    }
   ],
   "source": [
    "# Compare cosine similarity of one document to other documents including itself\n",
    "\n",
    "dist_df[1][:5]"
   ]
  },
  {
   "cell_type": "code",
   "execution_count": 98,
   "metadata": {},
   "outputs": [
    {
     "data": {
      "text/plain": [
       "0      1.000000\n",
       "115    0.176574\n",
       "274    0.141243\n",
       "403    0.137347\n",
       "366    0.123224\n",
       "Name: 0, dtype: float64"
      ]
     },
     "execution_count": 98,
     "metadata": {},
     "output_type": "execute_result"
    }
   ],
   "source": [
    "# Grabbing the rows (document #) and their respective similarity factor\n",
    "\n",
    "dist_df[dist_df[1]< 1] [0].sort_values(ascending = False)[:5]"
   ]
  },
  {
   "cell_type": "code",
   "execution_count": 102,
   "metadata": {},
   "outputs": [
    {
     "data": {
      "text/plain": [
       "'bjob descriptionnnas a data scientist 1 you will help us build machine learning models data pipelines and microservices to help our clients navigate their healthcare journey you will do so by empowering and improving the next generation of accolade a'"
      ]
     },
     "execution_count": 102,
     "metadata": {},
     "output_type": "execute_result"
    }
   ],
   "source": [
    "# Check document 1 and its first 250 characters\n",
    "post_data[1][:250]"
   ]
  },
  {
   "cell_type": "code",
   "execution_count": 103,
   "metadata": {},
   "outputs": [
    {
     "data": {
      "text/plain": [
       "'bcompany overviewnat proofpoint we have a passion for protecting people data and brands from todayxe2x80x99s advanced threats and compliance risks we hire the best people in the business tonbuild and enhance our proven security platformnblend innovat'"
      ]
     },
     "execution_count": 103,
     "metadata": {},
     "output_type": "execute_result"
    }
   ],
   "source": [
    "#Check document 115 and its first 259 characters with similarity = .176574\n",
    "\n",
    "post_data[115][:250]"
   ]
  },
  {
   "cell_type": "markdown",
   "metadata": {},
   "source": [
    "## 6) Create a NearestNeighbor Model. Write the description of your ideal datascience job and query your job listings. "
   ]
  },
  {
   "cell_type": "code",
   "execution_count": 104,
   "metadata": {},
   "outputs": [
    {
     "data": {
      "text/plain": [
       "NearestNeighbors(algorithm='kd_tree', leaf_size=30, metric='minkowski',\n",
       "                 metric_params=None, n_jobs=None, n_neighbors=5, p=2,\n",
       "                 radius=1.0)"
      ]
     },
     "execution_count": 104,
     "metadata": {},
     "output_type": "execute_result"
    }
   ],
   "source": [
    "from sklearn.neighbors import NearestNeighbors\n",
    "\n",
    "# Instantiate\n",
    "nn = NearestNeighbors(n_neighbors = 5, algorithm = 'kd_tree')\n",
    "\n",
    "#Fit on dtm\n",
    "nn.fit(dtm)"
   ]
  },
  {
   "cell_type": "code",
   "execution_count": 106,
   "metadata": {},
   "outputs": [
    {
     "data": {
      "text/plain": [
       "(array([[0.        , 1.25430488, 1.25820175, 1.25993861, 1.26407493]]),\n",
       " array([[  1, 201, 285, 222, 136]], dtype=int64))"
      ]
     },
     "execution_count": 106,
     "metadata": {},
     "output_type": "execute_result"
    }
   ],
   "source": [
    "# Using kneighbors method on document 1\n",
    "\n",
    "nn.kneighbors([dtm.iloc[1].values])"
   ]
  },
  {
   "cell_type": "code",
   "execution_count": 109,
   "metadata": {},
   "outputs": [
    {
     "data": {
      "text/plain": [
       "(array([[0.        , 1.17204676, 1.1787021 , 1.18583977, 1.18738524]]),\n",
       " array([[201, 388, 199, 410, 285]], dtype=int64))"
      ]
     },
     "execution_count": 109,
     "metadata": {},
     "output_type": "execute_result"
    }
   ],
   "source": [
    "# Checking document 201\n",
    "nn.kneighbors([dtm.iloc[201].values])"
   ]
  },
  {
   "cell_type": "code",
   "execution_count": 114,
   "metadata": {},
   "outputs": [
    {
     "name": "stdout",
     "output_type": "stream",
     "text": [
      "0.9893033210208009\n"
     ]
    }
   ],
   "source": [
    "## Using Word2Vec and Spacy\n",
    "\n",
    "# Choose random documents to compare\n",
    "doc1 = post_data [1]\n",
    "doc2 = post_data [115]\n",
    "\n",
    "# Instantiate\n",
    "doc_1 = nlp(doc1)\n",
    "doc_2 = nlp(doc2)\n",
    "\n",
    "# Load space large\n",
    "nlp = spacy.load('en_core_web_lg')\n",
    "\n",
    "#Get Similarity of the 2 documents\n",
    "similarity = doc_1.similarity(doc_2)\n",
    "print(similarity)"
   ]
  },
  {
   "cell_type": "code",
   "execution_count": 112,
   "metadata": {},
   "outputs": [
    {
     "name": "stdout",
     "output_type": "stream",
     "text": [
      "[-6.33773282e-02  9.85411108e-02 -8.75248313e-02 -5.38679846e-02\n",
      "  5.68603911e-02  6.24825479e-03  1.30751533e-02  2.36527026e-02\n",
      "  3.42778526e-02  1.80237198e+00 -1.75685152e-01 -3.04266233e-02\n",
      "  1.63789047e-03  6.85209641e-03 -3.82980816e-02 -9.86630190e-03\n",
      " -5.38823307e-02  1.13142562e+00 -2.17665836e-01 -3.14682685e-02\n",
      "  7.63125122e-02 -1.63216591e-02 -8.45363885e-02 -2.11601667e-02\n",
      "  3.20174620e-02  5.36174774e-02  3.78496386e-02  4.39335853e-02\n",
      "  2.82980166e-02 -5.03418483e-02 -2.26035137e-02  3.39438282e-02\n",
      "  5.58888391e-02  1.96475331e-02  7.25855529e-02 -8.21302533e-02\n",
      "  3.90268192e-02  3.14004556e-03 -2.43141130e-02 -9.49449241e-02\n",
      " -4.59842238e-04  4.91307378e-02 -3.57638560e-02 -3.27577405e-02\n",
      " -1.60543490e-02  4.89654541e-02 -4.16740030e-02  2.62202043e-02\n",
      " -3.04089184e-03 -9.29178018e-03  1.37257762e-02  7.04939337e-03\n",
      " -2.95064896e-02 -2.49132160e-02  4.83977085e-04  5.26955649e-02\n",
      " -3.97174880e-02 -2.10049879e-02  1.13644497e-03 -8.49819649e-03\n",
      "  4.77898009e-02  5.52834943e-04 -8.84353593e-02  9.30603519e-02\n",
      "  1.78576216e-01 -3.50558609e-02 -5.63720427e-03  9.66187119e-02\n",
      "  8.37390944e-02  3.78447510e-02 -2.16099177e-03  5.52611686e-02\n",
      "  1.57333553e-01 -4.45445180e-02  4.31021638e-02 -1.36074638e-02\n",
      "  8.56278017e-02 -9.25150290e-02  1.08943852e-02  1.44626111e-01\n",
      " -4.97622835e-03  4.36651073e-02 -2.98218839e-02 -2.98290066e-02\n",
      "  6.45389408e-03 -1.36416659e-01 -3.20119560e-01  1.12414762e-01\n",
      "  1.53400019e-01  4.26359400e-02 -1.16827905e-01 -4.66931053e-03\n",
      " -6.06496818e-02  9.43164602e-02  7.10854158e-02  9.34879482e-03\n",
      " -7.03978585e-03 -1.67079754e-02  8.80790502e-03 -2.91252714e-02\n",
      " -5.93492668e-03 -1.33990524e-02 -4.84065935e-02 -1.43184513e-02\n",
      "  8.83176252e-02 -1.01215911e+00  1.11809582e-01  3.71265374e-02\n",
      "  5.33759333e-02  3.18507664e-02  3.26254740e-02 -9.78698730e-02\n",
      "  8.98197591e-02 -7.24347681e-02  2.15201490e-02 -4.79499483e-03\n",
      "  5.04038855e-02  9.35578793e-02 -3.08215655e-02  2.70236377e-02\n",
      "  1.09627858e-01 -5.06691709e-02 -8.81911069e-03 -2.20766687e-03\n",
      "  5.94621897e-02  4.43384871e-02 -8.42217915e-03  1.97809655e-02\n",
      " -1.71501525e-02 -3.16269957e-02  1.65838748e-02  3.97049971e-02\n",
      " -9.49651450e-02  7.80492043e-03  3.77775356e-02  5.37259951e-02\n",
      " -1.45329153e-02 -4.37081903e-02  5.09997346e-02  4.01753038e-02\n",
      " -6.45243704e-01 -2.68295910e-02  6.86108321e-02 -4.02221642e-02\n",
      " -1.52861094e-02 -1.15236744e-01 -4.75484645e-03  2.90239993e-02\n",
      "  6.51247278e-02 -4.19496261e-02  5.33124851e-03  1.62848330e-03\n",
      "  5.67320623e-02 -4.10759915e-03 -6.33013770e-02  6.03130534e-02\n",
      " -3.77480686e-02  8.57547950e-03 -2.47030370e-02 -1.32752120e-01\n",
      "  6.08711271e-03  7.08686858e-02 -8.08057338e-02 -3.15366201e-02\n",
      " -7.77708925e-03 -1.11299165e-01  6.82470500e-02 -1.10031597e-01\n",
      "  1.24914147e-01  1.30722085e-02 -2.43539619e-03  1.50723131e-02\n",
      "  8.55616778e-02 -5.02790771e-02 -3.44708376e-02  7.69877806e-02\n",
      " -3.16113532e-02  3.94812934e-02  8.31480920e-02  2.17180178e-02\n",
      "  5.42523712e-02  1.61419176e-02 -2.65937168e-02 -5.07102385e-02\n",
      " -4.79125977e-02  1.72406342e-02 -4.72892150e-02 -3.37314680e-02\n",
      "  8.50923639e-03  1.33553956e-04 -3.22786272e-02 -8.96150246e-02\n",
      " -6.80733323e-02  7.52927661e-02 -1.70237478e-02  1.33604676e-01\n",
      "  2.28380151e-02  2.53007095e-03 -1.45897083e-03  1.53252482e-01\n",
      " -8.91579781e-03 -1.62985787e-01 -1.79442000e-02  3.03598829e-02\n",
      "  8.10564235e-02  1.40444282e-02  9.35508776e-03  6.93125799e-02\n",
      "  3.38077755e-03 -1.26733901e-02 -1.22433826e-01 -1.18782803e-01\n",
      " -5.58328889e-02 -1.24722779e-01  3.02178902e-03  4.86066379e-02\n",
      " -6.07625917e-02 -1.39774727e-02 -1.77177802e-01 -1.93875283e-02\n",
      "  1.45044485e-02  2.42151134e-02 -4.42126580e-02  4.54208292e-02\n",
      " -1.02518424e-02 -9.17620119e-03  2.24696053e-03  2.60020196e-02\n",
      "  1.19593777e-02  4.01108377e-02 -1.35549843e-01  1.89609174e-02\n",
      " -2.68778652e-02  3.38384174e-02 -6.46558404e-02 -3.85929979e-02\n",
      " -6.44289851e-02 -7.50975087e-02 -8.15686509e-02  4.80170809e-02\n",
      "  9.56366658e-02 -2.36052312e-02  1.91035520e-04  3.46319526e-02\n",
      "  1.04618870e-01 -1.67000681e-01 -1.14833593e-01 -1.08440012e-01\n",
      " -1.02796465e-01  6.46936074e-02  8.75528678e-02 -9.28865839e-03\n",
      " -1.10783920e-01 -1.63291879e-02  1.63162462e-02  1.71952546e-02\n",
      "  7.69678652e-02 -4.18689810e-02 -4.69896719e-02  2.02004071e-02\n",
      "  9.21727344e-02  1.45762444e-01 -2.18869332e-04  2.79669408e-02\n",
      "  3.19959298e-02 -1.22199006e-01 -5.44237643e-02  4.07691188e-02\n",
      "  4.48556215e-01  1.40851643e-03 -4.22547683e-02 -2.94602779e-03\n",
      " -5.76038323e-02 -1.71258867e-01 -5.75187691e-02 -4.79424708e-02\n",
      "  4.56434898e-02  1.09334685e-01  2.23092269e-02  1.29337326e-01\n",
      "  2.10440736e-02  5.55800609e-02  4.87952447e-03 -4.61427355e-03\n",
      " -3.01041547e-02 -1.85013324e-01  1.22983150e-01 -8.35010931e-02\n",
      "  8.05231705e-02 -1.12795070e-01 -2.23160595e-01  1.83684230e-02\n",
      "  1.77283604e-02  5.68270031e-03  8.91031418e-03 -6.24732748e-02\n",
      " -2.00055186e-02  9.02536139e-03 -1.73820332e-02  1.07083738e-01]\n"
     ]
    }
   ],
   "source": [
    "# Instantiate doc 2, find vector of word \"scienctist\"\n",
    "doc_2 = nlp(doc2)\n",
    "scientst_vector= doc_2.vector\n",
    "print(scientst_vector)"
   ]
  },
  {
   "cell_type": "markdown",
   "metadata": {},
   "source": [
    "## Using PCA Module"
   ]
  },
  {
   "cell_type": "code",
   "execution_count": 116,
   "metadata": {},
   "outputs": [
    {
     "data": {
      "text/plain": [
       "array([[-3.70477835, -2.19513068],\n",
       "       [-3.37020811, -1.75013531],\n",
       "       [-3.54559841, -1.16412567],\n",
       "       [-3.62084964, -1.50527144],\n",
       "       [-0.62512594,  0.79895934],\n",
       "       [-0.34755409,  1.16300001],\n",
       "       [ 0.17686143,  0.96009669],\n",
       "       [ 3.77520309, -2.14996147],\n",
       "       [ 4.66454546, -2.80639765],\n",
       "       [ 3.87493691, -1.71572379],\n",
       "       [ 0.54697057,  4.85117959],\n",
       "       [ 0.2833711 ,  4.70106424],\n",
       "       [ 1.91563321,  0.52295247],\n",
       "       [-0.02340722,  0.28949366]])"
      ]
     },
     "execution_count": 116,
     "metadata": {},
     "output_type": "execute_result"
    }
   ],
   "source": [
    "# Using PCA to reduce dimensionality\n",
    "\n",
    "from sklearn.decomposition import PCA\n",
    "\n",
    "def get_word_vectors(words):\n",
    "    \"\"\"\n",
    "    Converts lists of words into their word vectors\n",
    "    \"\"\"\n",
    "    return [nlp(word).vector for word in words]\n",
    "\n",
    "words = ['father', 'mother', 'sister', 'brother', 'dog', 'cat', 'tiger', 'wood', 'steel', 'plastic', 'yahoo', 'google', 'box', 'treasure']\n",
    "\n",
    "\n",
    "#  Instantiate with 2 components\n",
    "pca = PCA(n_components = 2)\n",
    "\n",
    "# fit model into the 300D data\n",
    "pca.fit(get_word_vectors(words))\n",
    "\n",
    "# Transform the model from 300 to 2D\n",
    "word_vecs_2d = pca.transform(get_word_vectors(words))\n",
    "\n",
    "#Check 2D word vectors\n",
    "word_vecs_2d"
   ]
  },
  {
   "cell_type": "code",
   "execution_count": 119,
   "metadata": {},
   "outputs": [
    {
     "data": {
      "image/png": "[encoded data removed]",
      "text/plain": [
       "<Figure size 1440x1080 with 1 Axes>"
      ]
     },
     "metadata": {
      "needs_background": "light"
     },
     "output_type": "display_data"
    }
   ],
   "source": [
    "# Visualize\n",
    "\n",
    "plt.figure (figsize = (20, 15))\n",
    "\n",
    "plt.scatter(word_vecs_2d[:,0], word_vecs_2d[:, 1])\n",
    "\n",
    "#Fpr each word and coordinate pair, draw the text on the plot\n",
    "\n",
    "for word , coord in zip(words, word_vecs_2d):\n",
    "    x, y = coord\n",
    "    plt.text(x, y, word, size = 15)\n",
    "    \n",
    "# Show plot\n",
    "plt.show()\n"
   ]
  },
  {
   "cell_type": "markdown",
   "metadata": {},
   "source": [
    "## Extracting Document Vectors"
   ]
  },
  {
   "cell_type": "code",
   "execution_count": 121,
   "metadata": {},
   "outputs": [
    {
     "name": "stdout",
     "output_type": "stream",
     "text": [
      "(426, 300)\n"
     ]
    },
    {
     "data": {
      "text/html": [
       "<div>\n",
       "<style scoped>\n",
       "    .dataframe tbody tr th:only-of-type {\n",
       "        vertical-align: middle;\n",
       "    }\n",
       "\n",
       "    .dataframe tbody tr th {\n",
       "        vertical-align: top;\n",
       "    }\n",
       "\n",
       "    .dataframe thead th {\n",
       "        text-align: right;\n",
       "    }\n",
       "</style>\n",
       "<table border=\"1\" class=\"dataframe\">\n",
       "  <thead>\n",
       "    <tr style=\"text-align: right;\">\n",
       "      <th></th>\n",
       "      <th>0</th>\n",
       "      <th>1</th>\n",
       "      <th>2</th>\n",
       "      <th>3</th>\n",
       "      <th>4</th>\n",
       "      <th>5</th>\n",
       "      <th>6</th>\n",
       "      <th>7</th>\n",
       "      <th>8</th>\n",
       "      <th>9</th>\n",
       "      <th>...</th>\n",
       "      <th>290</th>\n",
       "      <th>291</th>\n",
       "      <th>292</th>\n",
       "      <th>293</th>\n",
       "      <th>294</th>\n",
       "      <th>295</th>\n",
       "      <th>296</th>\n",
       "      <th>297</th>\n",
       "      <th>298</th>\n",
       "      <th>299</th>\n",
       "    </tr>\n",
       "  </thead>\n",
       "  <tbody>\n",
       "    <tr>\n",
       "      <th>0</th>\n",
       "      <td>-0.050637</td>\n",
       "      <td>0.041950</td>\n",
       "      <td>-0.077839</td>\n",
       "      <td>0.010917</td>\n",
       "      <td>0.036732</td>\n",
       "      <td>0.099972</td>\n",
       "      <td>0.024334</td>\n",
       "      <td>-0.023894</td>\n",
       "      <td>-0.001443</td>\n",
       "      <td>1.345611</td>\n",
       "      <td>...</td>\n",
       "      <td>-0.086106</td>\n",
       "      <td>-0.006543</td>\n",
       "      <td>-0.023529</td>\n",
       "      <td>0.046293</td>\n",
       "      <td>-0.051147</td>\n",
       "      <td>-0.048961</td>\n",
       "      <td>-0.011982</td>\n",
       "      <td>-0.011932</td>\n",
       "      <td>0.014677</td>\n",
       "      <td>0.153257</td>\n",
       "    </tr>\n",
       "    <tr>\n",
       "      <th>1</th>\n",
       "      <td>-0.051142</td>\n",
       "      <td>0.100185</td>\n",
       "      <td>-0.080484</td>\n",
       "      <td>-0.025255</td>\n",
       "      <td>0.062853</td>\n",
       "      <td>-0.015368</td>\n",
       "      <td>0.013116</td>\n",
       "      <td>0.009004</td>\n",
       "      <td>0.052784</td>\n",
       "      <td>1.911892</td>\n",
       "      <td>...</td>\n",
       "      <td>-0.228914</td>\n",
       "      <td>0.031553</td>\n",
       "      <td>0.042381</td>\n",
       "      <td>0.005309</td>\n",
       "      <td>-0.003723</td>\n",
       "      <td>-0.030546</td>\n",
       "      <td>0.032712</td>\n",
       "      <td>-0.016989</td>\n",
       "      <td>-0.004146</td>\n",
       "      <td>0.105353</td>\n",
       "    </tr>\n",
       "  </tbody>\n",
       "</table>\n",
       "<p>2 rows × 300 columns</p>\n",
       "</div>"
      ],
      "text/plain": [
       "        0         1         2         3         4         5         6    \\\n",
       "0 -0.050637  0.041950 -0.077839  0.010917  0.036732  0.099972  0.024334   \n",
       "1 -0.051142  0.100185 -0.080484 -0.025255  0.062853 -0.015368  0.013116   \n",
       "\n",
       "        7         8         9    ...       290       291       292       293  \\\n",
       "0 -0.023894 -0.001443  1.345611  ... -0.086106 -0.006543 -0.023529  0.046293   \n",
       "1  0.009004  0.052784  1.911892  ... -0.228914  0.031553  0.042381  0.005309   \n",
       "\n",
       "        294       295       296       297       298       299  \n",
       "0 -0.051147 -0.048961 -0.011982 -0.011932  0.014677  0.153257  \n",
       "1 -0.003723 -0.030546  0.032712 -0.016989 -0.004146  0.105353  \n",
       "\n",
       "[2 rows x 300 columns]"
      ]
     },
     "execution_count": 121,
     "metadata": {},
     "output_type": "execute_result"
    }
   ],
   "source": [
    "# Extract vectors from each document\n",
    "\n",
    "X = [nlp(str(d)).vector for d in post_data]\n",
    "\n",
    "# Create a dataframe\n",
    "\n",
    "df = pd.DataFrame(X)\n",
    "print(df.shape)\n",
    "df.head(2)"
   ]
  },
  {
   "cell_type": "code",
   "execution_count": null,
   "metadata": {},
   "outputs": [],
   "source": []
  },
  {
   "cell_type": "code",
   "execution_count": null,
   "metadata": {},
   "outputs": [],
   "source": []
  },
  {
   "cell_type": "markdown",
   "metadata": {
    "colab_type": "text",
    "id": "FiDfTWceoRkH"
   },
   "source": [
    "## Stretch Goals\n",
    "\n",
    " - Try different visualizations for words and frequencies - what story do you want to tell with the data?\n",
    " - Scrape Job Listings for the job title \"Data Analyst\". How do these differ from Data Scientist Job Listings\n",
    " - Try and identify requirements for experience specific technologies that are asked for in the job listings. How are those distributed among the job listings?\n",
    " - Use a clustering algorithm to cluster documents by their most important terms. Do the clusters reveal any common themes?\n",
    "  - **Hint:** K-means might not be the best algorithm for this. Do a little bit of research to see what might be good for this. Also, remember that algorithms that depend on Euclidean distance break down with high dimensional data.\n",
    " - Create a labeled dataset - which jobs will you apply for? Train a model to select the jobs you are most likely to apply for. :) "
   ]
  }
 ],
 "metadata": {
  "colab": {
   "collapsed_sections": [],
   "name": "LS_DS_422_BOW_Assignment.ipynb",
   "provenance": [],
   "version": "0.3.2"
  },
  "kernel_info": {
   "name": "python3"
  },
  "kernelspec": {
   "display_name": "U4S12-NLP (Python3)",
   "language": "python",
   "name": "u4s12-nlp"
  },
  "language_info": {
   "codemirror_mode": {
    "name": "ipython",
    "version": 3
   },
   "file_extension": ".py",
   "mimetype": "text/x-python",
   "name": "python",
   "nbconvert_exporter": "python",
   "pygments_lexer": "ipython3",
   "version": "3.7.0"
  },
  "nteract": {
   "version": "0.14.3"
  }
 },
 "nbformat": 4,
 "nbformat_minor": 4
}
